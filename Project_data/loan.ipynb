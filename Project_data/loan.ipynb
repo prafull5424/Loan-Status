{
 "cells": [
  {
   "cell_type": "code",
   "execution_count": 1,
   "id": "3960d8c8",
   "metadata": {},
   "outputs": [
    {
     "name": "stdout",
     "output_type": "stream",
     "text": [
      "Python 3.8.10\r\n"
     ]
    }
   ],
   "source": [
    "!python --version"
   ]
  },
  {
   "cell_type": "code",
   "execution_count": 113,
   "id": "16c7d710",
   "metadata": {},
   "outputs": [
    {
     "name": "stdout",
     "output_type": "stream",
     "text": [
      "Collecting xgboost\n",
      "  Downloading xgboost-1.7.1-py3-none-macosx_10_15_x86_64.macosx_11_0_x86_64.macosx_12_0_x86_64.whl (1.8 MB)\n",
      "\u001b[2K     \u001b[90m━━━━━━━━━━━━━━━━━━━━━━━━━━━━━━━━━━━━━━━━\u001b[0m \u001b[32m1.8/1.8 MB\u001b[0m \u001b[31m7.7 MB/s\u001b[0m eta \u001b[36m0:00:00\u001b[0ma \u001b[36m0:00:01\u001b[0m\n",
      "\u001b[?25hRequirement already satisfied: scipy in /opt/anaconda3/envs/loan/lib/python3.8/site-packages (from xgboost) (1.9.3)\n",
      "Requirement already satisfied: numpy in /opt/anaconda3/envs/loan/lib/python3.8/site-packages (from xgboost) (1.23.4)\n",
      "Installing collected packages: xgboost\n",
      "Successfully installed xgboost-1.7.1\n",
      "Note: you may need to restart the kernel to use updated packages.\n"
     ]
    }
   ],
   "source": [
    "pip install xgboost"
   ]
  },
  {
   "cell_type": "code",
   "execution_count": 119,
   "id": "7c0dcc83",
   "metadata": {},
   "outputs": [],
   "source": [
    "import pandas as pd\n",
    "import numpy as np\n",
    "import seaborn as sns\n",
    "import matplotlib.pyplot as plt\n",
    "import json\n",
    "import pickle\n",
    "\n",
    "from scipy.stats import mode\n",
    "\n",
    "from sklearn.impute import KNNImputer  \n",
    "from sklearn.preprocessing import MinMaxScaler, StandardScaler, OneHotEncoder, OrdinalEncoder, LabelEncoder\n",
    "from sklearn.model_selection import train_test_split, GridSearchCV, RandomizedSearchCV\n",
    "from sklearn.linear_model import LogisticRegression\n",
    "from sklearn.tree import DecisionTreeClassifier, plot_tree\n",
    "from sklearn.neighbors import KNeighborsClassifier\n",
    "from sklearn.ensemble import AdaBoostClassifier, RandomForestClassifier\n",
    "from sklearn.metrics import accuracy_score, classification_report, confusion_matrix\n",
    "\n",
    "import xgboost as xg\n",
    "\n",
    "import re\n",
    "import warnings\n",
    "warnings.filterwarnings(\"ignore\")"
   ]
  },
  {
   "cell_type": "markdown",
   "id": "c642df22",
   "metadata": {},
   "source": [
    "## Problem Statement"
   ]
  },
  {
   "cell_type": "raw",
   "id": "f5de482a",
   "metadata": {},
   "source": [
    "When a customer applies for a loan at our company determine whether or not to grant the loan based on the\n",
    "likelihood of the loan being repaid."
   ]
  },
  {
   "cell_type": "markdown",
   "id": "a6389c26",
   "metadata": {},
   "source": [
    "## Data Gathering"
   ]
  },
  {
   "cell_type": "code",
   "execution_count": 3,
   "id": "3aaf36c4",
   "metadata": {},
   "outputs": [
    {
     "data": {
      "text/html": [
       "<div>\n",
       "<style scoped>\n",
       "    .dataframe tbody tr th:only-of-type {\n",
       "        vertical-align: middle;\n",
       "    }\n",
       "\n",
       "    .dataframe tbody tr th {\n",
       "        vertical-align: top;\n",
       "    }\n",
       "\n",
       "    .dataframe thead th {\n",
       "        text-align: right;\n",
       "    }\n",
       "</style>\n",
       "<table border=\"1\" class=\"dataframe\">\n",
       "  <thead>\n",
       "    <tr style=\"text-align: right;\">\n",
       "      <th></th>\n",
       "      <th>Loan ID</th>\n",
       "      <th>Customer ID</th>\n",
       "      <th>Loan Status</th>\n",
       "      <th>Current Loan Amount</th>\n",
       "      <th>Term</th>\n",
       "      <th>Credit Score</th>\n",
       "      <th>Years in current job</th>\n",
       "      <th>Home Ownership</th>\n",
       "      <th>Annual Income</th>\n",
       "      <th>Purpose</th>\n",
       "      <th>Monthly Debt</th>\n",
       "      <th>Years of Credit History</th>\n",
       "      <th>Months since last delinquent</th>\n",
       "      <th>Number of Open Accounts</th>\n",
       "      <th>Number of Credit Problems</th>\n",
       "      <th>Current Credit Balance</th>\n",
       "      <th>Maximum Open Credit</th>\n",
       "      <th>Bankruptcies</th>\n",
       "      <th>Tax Liens</th>\n",
       "    </tr>\n",
       "  </thead>\n",
       "  <tbody>\n",
       "    <tr>\n",
       "      <th>0</th>\n",
       "      <td>6cf51492-02a2-423e-b93d-676f05b9ad53</td>\n",
       "      <td>7c202b37-2add-44e8-9aea-d5b119aea935</td>\n",
       "      <td>Loan Refused</td>\n",
       "      <td>12232</td>\n",
       "      <td>Short Term</td>\n",
       "      <td>7280.0</td>\n",
       "      <td>&lt; 1 year</td>\n",
       "      <td>Rent</td>\n",
       "      <td>46643.0</td>\n",
       "      <td>Debt Consolidation</td>\n",
       "      <td>777.39</td>\n",
       "      <td>18.0</td>\n",
       "      <td>10.0</td>\n",
       "      <td>12</td>\n",
       "      <td>0</td>\n",
       "      <td>6762</td>\n",
       "      <td>7946</td>\n",
       "      <td>0.0</td>\n",
       "      <td>0.0</td>\n",
       "    </tr>\n",
       "    <tr>\n",
       "      <th>1</th>\n",
       "      <td>552e7ade-4292-4354-9ff9-c48031697d72</td>\n",
       "      <td>e7217b0a-07ac-47dd-b379-577b5a35b7c6</td>\n",
       "      <td>Loan Refused</td>\n",
       "      <td>25014</td>\n",
       "      <td>Long Term</td>\n",
       "      <td>7330.0</td>\n",
       "      <td>10+ years</td>\n",
       "      <td>Home Mortgage</td>\n",
       "      <td>81099.0</td>\n",
       "      <td>Debt Consolidation</td>\n",
       "      <td>892.09</td>\n",
       "      <td>26.7</td>\n",
       "      <td>NaN</td>\n",
       "      <td>14</td>\n",
       "      <td>0</td>\n",
       "      <td>35706</td>\n",
       "      <td>77961</td>\n",
       "      <td>0.0</td>\n",
       "      <td>0.0</td>\n",
       "    </tr>\n",
       "    <tr>\n",
       "      <th>2</th>\n",
       "      <td>9b5e32b3-8d76-4801-afc8-d729d5a2e6b9</td>\n",
       "      <td>0a62fc41-16c8-40b5-92ff-9e4b763ce714</td>\n",
       "      <td>Loan Refused</td>\n",
       "      <td>16117</td>\n",
       "      <td>Short Term</td>\n",
       "      <td>7240.0</td>\n",
       "      <td>9 years</td>\n",
       "      <td>Home Mortgage</td>\n",
       "      <td>60438.0</td>\n",
       "      <td>Home Improvements</td>\n",
       "      <td>1244.02</td>\n",
       "      <td>16.7</td>\n",
       "      <td>32.0</td>\n",
       "      <td>11</td>\n",
       "      <td>1</td>\n",
       "      <td>11275</td>\n",
       "      <td>14815</td>\n",
       "      <td>1.0</td>\n",
       "      <td>0.0</td>\n",
       "    </tr>\n",
       "    <tr>\n",
       "      <th>3</th>\n",
       "      <td>5419b7c7-ac11-4be2-a8a7-b131fb6d6dbe</td>\n",
       "      <td>30f36c59-5182-4482-8bbb-5b736849ae43</td>\n",
       "      <td>Loan Refused</td>\n",
       "      <td>11716</td>\n",
       "      <td>Short Term</td>\n",
       "      <td>7400.0</td>\n",
       "      <td>3 years</td>\n",
       "      <td>Rent</td>\n",
       "      <td>34171.0</td>\n",
       "      <td>Debt Consolidation</td>\n",
       "      <td>990.94</td>\n",
       "      <td>10.0</td>\n",
       "      <td>NaN</td>\n",
       "      <td>21</td>\n",
       "      <td>0</td>\n",
       "      <td>7009</td>\n",
       "      <td>43533</td>\n",
       "      <td>0.0</td>\n",
       "      <td>0.0</td>\n",
       "    </tr>\n",
       "    <tr>\n",
       "      <th>4</th>\n",
       "      <td>1450910f-9495-4fc9-afaf-9bdf4b9821df</td>\n",
       "      <td>70c26012-bba5-42c0-8dcb-75295ada31bb</td>\n",
       "      <td>Loan Refused</td>\n",
       "      <td>9789</td>\n",
       "      <td>Long Term</td>\n",
       "      <td>6860.0</td>\n",
       "      <td>10+ years</td>\n",
       "      <td>Home Mortgage</td>\n",
       "      <td>47003.0</td>\n",
       "      <td>Home Improvements</td>\n",
       "      <td>503.71</td>\n",
       "      <td>16.7</td>\n",
       "      <td>25.0</td>\n",
       "      <td>13</td>\n",
       "      <td>1</td>\n",
       "      <td>16913</td>\n",
       "      <td>19553</td>\n",
       "      <td>1.0</td>\n",
       "      <td>0.0</td>\n",
       "    </tr>\n",
       "    <tr>\n",
       "      <th>...</th>\n",
       "      <td>...</td>\n",
       "      <td>...</td>\n",
       "      <td>...</td>\n",
       "      <td>...</td>\n",
       "      <td>...</td>\n",
       "      <td>...</td>\n",
       "      <td>...</td>\n",
       "      <td>...</td>\n",
       "      <td>...</td>\n",
       "      <td>...</td>\n",
       "      <td>...</td>\n",
       "      <td>...</td>\n",
       "      <td>...</td>\n",
       "      <td>...</td>\n",
       "      <td>...</td>\n",
       "      <td>...</td>\n",
       "      <td>...</td>\n",
       "      <td>...</td>\n",
       "      <td>...</td>\n",
       "    </tr>\n",
       "    <tr>\n",
       "      <th>111102</th>\n",
       "      <td>503f01e2-c3c4-4b10-886e-f15de57b6f1a</td>\n",
       "      <td>27a17610-1d8c-48a7-b0db-2d81a4fa099a</td>\n",
       "      <td>Loan Given</td>\n",
       "      <td>15654</td>\n",
       "      <td>Long Term</td>\n",
       "      <td>686.0</td>\n",
       "      <td>10+ years</td>\n",
       "      <td>Rent</td>\n",
       "      <td>43050.0</td>\n",
       "      <td>Debt Consolidation</td>\n",
       "      <td>889.69</td>\n",
       "      <td>14.1</td>\n",
       "      <td>49.0</td>\n",
       "      <td>18</td>\n",
       "      <td>0</td>\n",
       "      <td>14730</td>\n",
       "      <td>29757</td>\n",
       "      <td>0.0</td>\n",
       "      <td>0.0</td>\n",
       "    </tr>\n",
       "    <tr>\n",
       "      <th>111103</th>\n",
       "      <td>8af53bc0-56a4-4801-a960-52a46a90b33f</td>\n",
       "      <td>c124ca71-f42a-47cc-8ec2-236f7e9868a5</td>\n",
       "      <td>Loan Given</td>\n",
       "      <td>15237</td>\n",
       "      <td>Short Term</td>\n",
       "      <td>706.0</td>\n",
       "      <td>10+ years</td>\n",
       "      <td>Home Mortgage</td>\n",
       "      <td>60948.0</td>\n",
       "      <td>Debt Consolidation</td>\n",
       "      <td>700.9</td>\n",
       "      <td>15.9</td>\n",
       "      <td>48.0</td>\n",
       "      <td>11</td>\n",
       "      <td>0</td>\n",
       "      <td>17733</td>\n",
       "      <td>23060</td>\n",
       "      <td>0.0</td>\n",
       "      <td>0.0</td>\n",
       "    </tr>\n",
       "    <tr>\n",
       "      <th>111104</th>\n",
       "      <td>96efd327-f965-42ae-8b2b-d2555205ce19</td>\n",
       "      <td>7d959a54-8eeb-4df6-b582-046f889e4cff</td>\n",
       "      <td>Loan Given</td>\n",
       "      <td>10413</td>\n",
       "      <td>Short Term</td>\n",
       "      <td>719.0</td>\n",
       "      <td>5 years</td>\n",
       "      <td>Home Mortgage</td>\n",
       "      <td>66945.0</td>\n",
       "      <td>Debt Consolidation</td>\n",
       "      <td>1210.59</td>\n",
       "      <td>8.7</td>\n",
       "      <td>NaN</td>\n",
       "      <td>11</td>\n",
       "      <td>0</td>\n",
       "      <td>5205</td>\n",
       "      <td>6348</td>\n",
       "      <td>0.0</td>\n",
       "      <td>0.0</td>\n",
       "    </tr>\n",
       "    <tr>\n",
       "      <th>111105</th>\n",
       "      <td>ec19166c-70c5-4d49-adb6-fb3fc15024a2</td>\n",
       "      <td>5723fbf2-1ce8-4752-8bee-1bebf339f278</td>\n",
       "      <td>Loan Given</td>\n",
       "      <td>34447</td>\n",
       "      <td>Short Term</td>\n",
       "      <td>626.0</td>\n",
       "      <td>10+ years</td>\n",
       "      <td>Home Mortgage</td>\n",
       "      <td>78736.0</td>\n",
       "      <td>Debt Consolidation</td>\n",
       "      <td>1476.3</td>\n",
       "      <td>30.4</td>\n",
       "      <td>9.0</td>\n",
       "      <td>12</td>\n",
       "      <td>0</td>\n",
       "      <td>32318</td>\n",
       "      <td>37580</td>\n",
       "      <td>0.0</td>\n",
       "      <td>0.0</td>\n",
       "    </tr>\n",
       "    <tr>\n",
       "      <th>111106</th>\n",
       "      <td>f83ae0e1-bd30-46c7-9f72-f4f9fe2f36ca</td>\n",
       "      <td>74187e35-39c2-4010-ae0d-8bcd0544189e</td>\n",
       "      <td>Loan Given</td>\n",
       "      <td>9209</td>\n",
       "      <td>Long Term</td>\n",
       "      <td>708.0</td>\n",
       "      <td>&lt; 1 year</td>\n",
       "      <td>Own Home</td>\n",
       "      <td>123454.0</td>\n",
       "      <td>Debt Consolidation</td>\n",
       "      <td>668.71</td>\n",
       "      <td>20.1</td>\n",
       "      <td>16.0</td>\n",
       "      <td>8</td>\n",
       "      <td>0</td>\n",
       "      <td>6835</td>\n",
       "      <td>9261</td>\n",
       "      <td>0.0</td>\n",
       "      <td>0.0</td>\n",
       "    </tr>\n",
       "  </tbody>\n",
       "</table>\n",
       "<p>111107 rows × 19 columns</p>\n",
       "</div>"
      ],
      "text/plain": [
       "                                     Loan ID  \\\n",
       "0       6cf51492-02a2-423e-b93d-676f05b9ad53   \n",
       "1       552e7ade-4292-4354-9ff9-c48031697d72   \n",
       "2       9b5e32b3-8d76-4801-afc8-d729d5a2e6b9   \n",
       "3       5419b7c7-ac11-4be2-a8a7-b131fb6d6dbe   \n",
       "4       1450910f-9495-4fc9-afaf-9bdf4b9821df   \n",
       "...                                      ...   \n",
       "111102  503f01e2-c3c4-4b10-886e-f15de57b6f1a   \n",
       "111103  8af53bc0-56a4-4801-a960-52a46a90b33f   \n",
       "111104  96efd327-f965-42ae-8b2b-d2555205ce19   \n",
       "111105  ec19166c-70c5-4d49-adb6-fb3fc15024a2   \n",
       "111106  f83ae0e1-bd30-46c7-9f72-f4f9fe2f36ca   \n",
       "\n",
       "                                 Customer ID   Loan Status  \\\n",
       "0       7c202b37-2add-44e8-9aea-d5b119aea935  Loan Refused   \n",
       "1       e7217b0a-07ac-47dd-b379-577b5a35b7c6  Loan Refused   \n",
       "2       0a62fc41-16c8-40b5-92ff-9e4b763ce714  Loan Refused   \n",
       "3       30f36c59-5182-4482-8bbb-5b736849ae43  Loan Refused   \n",
       "4       70c26012-bba5-42c0-8dcb-75295ada31bb  Loan Refused   \n",
       "...                                      ...           ...   \n",
       "111102  27a17610-1d8c-48a7-b0db-2d81a4fa099a    Loan Given   \n",
       "111103  c124ca71-f42a-47cc-8ec2-236f7e9868a5    Loan Given   \n",
       "111104  7d959a54-8eeb-4df6-b582-046f889e4cff    Loan Given   \n",
       "111105  5723fbf2-1ce8-4752-8bee-1bebf339f278    Loan Given   \n",
       "111106  74187e35-39c2-4010-ae0d-8bcd0544189e    Loan Given   \n",
       "\n",
       "        Current Loan Amount        Term  Credit Score Years in current job  \\\n",
       "0                     12232  Short Term        7280.0             < 1 year   \n",
       "1                     25014   Long Term        7330.0            10+ years   \n",
       "2                     16117  Short Term        7240.0              9 years   \n",
       "3                     11716  Short Term        7400.0              3 years   \n",
       "4                      9789   Long Term        6860.0            10+ years   \n",
       "...                     ...         ...           ...                  ...   \n",
       "111102                15654   Long Term         686.0            10+ years   \n",
       "111103                15237  Short Term         706.0            10+ years   \n",
       "111104                10413  Short Term         719.0              5 years   \n",
       "111105                34447  Short Term         626.0            10+ years   \n",
       "111106                 9209   Long Term         708.0             < 1 year   \n",
       "\n",
       "       Home Ownership  Annual Income             Purpose Monthly Debt  \\\n",
       "0                Rent        46643.0  Debt Consolidation       777.39   \n",
       "1       Home Mortgage        81099.0  Debt Consolidation       892.09   \n",
       "2       Home Mortgage        60438.0   Home Improvements      1244.02   \n",
       "3                Rent        34171.0  Debt Consolidation       990.94   \n",
       "4       Home Mortgage        47003.0   Home Improvements       503.71   \n",
       "...               ...            ...                 ...          ...   \n",
       "111102           Rent        43050.0  Debt Consolidation       889.69   \n",
       "111103  Home Mortgage        60948.0  Debt Consolidation        700.9   \n",
       "111104  Home Mortgage        66945.0  Debt Consolidation      1210.59   \n",
       "111105  Home Mortgage        78736.0  Debt Consolidation       1476.3   \n",
       "111106       Own Home       123454.0  Debt Consolidation       668.71   \n",
       "\n",
       "        Years of Credit History  Months since last delinquent  \\\n",
       "0                          18.0                          10.0   \n",
       "1                          26.7                           NaN   \n",
       "2                          16.7                          32.0   \n",
       "3                          10.0                           NaN   \n",
       "4                          16.7                          25.0   \n",
       "...                         ...                           ...   \n",
       "111102                     14.1                          49.0   \n",
       "111103                     15.9                          48.0   \n",
       "111104                      8.7                           NaN   \n",
       "111105                     30.4                           9.0   \n",
       "111106                     20.1                          16.0   \n",
       "\n",
       "        Number of Open Accounts  Number of Credit Problems  \\\n",
       "0                            12                          0   \n",
       "1                            14                          0   \n",
       "2                            11                          1   \n",
       "3                            21                          0   \n",
       "4                            13                          1   \n",
       "...                         ...                        ...   \n",
       "111102                       18                          0   \n",
       "111103                       11                          0   \n",
       "111104                       11                          0   \n",
       "111105                       12                          0   \n",
       "111106                        8                          0   \n",
       "\n",
       "        Current Credit Balance Maximum Open Credit  Bankruptcies  Tax Liens  \n",
       "0                         6762                7946           0.0        0.0  \n",
       "1                        35706               77961           0.0        0.0  \n",
       "2                        11275               14815           1.0        0.0  \n",
       "3                         7009               43533           0.0        0.0  \n",
       "4                        16913               19553           1.0        0.0  \n",
       "...                        ...                 ...           ...        ...  \n",
       "111102                   14730               29757           0.0        0.0  \n",
       "111103                   17733               23060           0.0        0.0  \n",
       "111104                    5205                6348           0.0        0.0  \n",
       "111105                   32318               37580           0.0        0.0  \n",
       "111106                    6835                9261           0.0        0.0  \n",
       "\n",
       "[111107 rows x 19 columns]"
      ]
     },
     "execution_count": 3,
     "metadata": {},
     "output_type": "execute_result"
    }
   ],
   "source": [
    "df = pd.read_csv(\"train_data.csv\")\n",
    "df"
   ]
  },
  {
   "cell_type": "markdown",
   "id": "35571fe3",
   "metadata": {},
   "source": [
    "## Data Validation"
   ]
  },
  {
   "cell_type": "code",
   "execution_count": 4,
   "id": "82e38abe",
   "metadata": {},
   "outputs": [
    {
     "data": {
      "text/plain": [
       "5869"
      ]
     },
     "execution_count": 4,
     "metadata": {},
     "output_type": "execute_result"
    }
   ],
   "source": [
    "df.duplicated().sum()    # drop all duplicates"
   ]
  },
  {
   "cell_type": "code",
   "execution_count": 5,
   "id": "277a6f20",
   "metadata": {},
   "outputs": [],
   "source": [
    "df.drop_duplicates(inplace = True, ignore_index= True)"
   ]
  },
  {
   "cell_type": "code",
   "execution_count": 6,
   "id": "9cbc71ff",
   "metadata": {},
   "outputs": [
    {
     "data": {
      "text/plain": [
       "0"
      ]
     },
     "execution_count": 6,
     "metadata": {},
     "output_type": "execute_result"
    }
   ],
   "source": [
    "df.duplicated().sum()"
   ]
  },
  {
   "cell_type": "raw",
   "id": "14fe5d77",
   "metadata": {},
   "source": [
    "in schema credit score range is (0 to 800) but in actual data we have a range in between (585 to 7510) observing that data is having typo error so we can go with schema.\n",
    "ex. 7510 to 750 by removing 0"
   ]
  },
  {
   "cell_type": "code",
   "execution_count": 7,
   "id": "d0573ebd",
   "metadata": {},
   "outputs": [
    {
     "data": {
      "text/html": [
       "<div>\n",
       "<style scoped>\n",
       "    .dataframe tbody tr th:only-of-type {\n",
       "        vertical-align: middle;\n",
       "    }\n",
       "\n",
       "    .dataframe tbody tr th {\n",
       "        vertical-align: top;\n",
       "    }\n",
       "\n",
       "    .dataframe thead th {\n",
       "        text-align: right;\n",
       "    }\n",
       "</style>\n",
       "<table border=\"1\" class=\"dataframe\">\n",
       "  <thead>\n",
       "    <tr style=\"text-align: right;\">\n",
       "      <th></th>\n",
       "      <th>Loan ID</th>\n",
       "      <th>Customer ID</th>\n",
       "      <th>Loan Status</th>\n",
       "      <th>Current Loan Amount</th>\n",
       "      <th>Term</th>\n",
       "      <th>Credit Score</th>\n",
       "      <th>Years in current job</th>\n",
       "      <th>Home Ownership</th>\n",
       "      <th>Annual Income</th>\n",
       "      <th>Purpose</th>\n",
       "      <th>Monthly Debt</th>\n",
       "      <th>Years of Credit History</th>\n",
       "      <th>Months since last delinquent</th>\n",
       "      <th>Number of Open Accounts</th>\n",
       "      <th>Number of Credit Problems</th>\n",
       "      <th>Current Credit Balance</th>\n",
       "      <th>Maximum Open Credit</th>\n",
       "      <th>Bankruptcies</th>\n",
       "      <th>Tax Liens</th>\n",
       "    </tr>\n",
       "  </thead>\n",
       "  <tbody>\n",
       "    <tr>\n",
       "      <th>0</th>\n",
       "      <td>6cf51492-02a2-423e-b93d-676f05b9ad53</td>\n",
       "      <td>7c202b37-2add-44e8-9aea-d5b119aea935</td>\n",
       "      <td>Loan Refused</td>\n",
       "      <td>12232</td>\n",
       "      <td>Short Term</td>\n",
       "      <td>728.0</td>\n",
       "      <td>&lt; 1 year</td>\n",
       "      <td>Rent</td>\n",
       "      <td>46643.0</td>\n",
       "      <td>Debt Consolidation</td>\n",
       "      <td>777.39</td>\n",
       "      <td>18.0</td>\n",
       "      <td>10.0</td>\n",
       "      <td>12</td>\n",
       "      <td>0</td>\n",
       "      <td>6762</td>\n",
       "      <td>7946</td>\n",
       "      <td>0.0</td>\n",
       "      <td>0.0</td>\n",
       "    </tr>\n",
       "    <tr>\n",
       "      <th>1</th>\n",
       "      <td>552e7ade-4292-4354-9ff9-c48031697d72</td>\n",
       "      <td>e7217b0a-07ac-47dd-b379-577b5a35b7c6</td>\n",
       "      <td>Loan Refused</td>\n",
       "      <td>25014</td>\n",
       "      <td>Long Term</td>\n",
       "      <td>733.0</td>\n",
       "      <td>10+ years</td>\n",
       "      <td>Home Mortgage</td>\n",
       "      <td>81099.0</td>\n",
       "      <td>Debt Consolidation</td>\n",
       "      <td>892.09</td>\n",
       "      <td>26.7</td>\n",
       "      <td>NaN</td>\n",
       "      <td>14</td>\n",
       "      <td>0</td>\n",
       "      <td>35706</td>\n",
       "      <td>77961</td>\n",
       "      <td>0.0</td>\n",
       "      <td>0.0</td>\n",
       "    </tr>\n",
       "    <tr>\n",
       "      <th>2</th>\n",
       "      <td>9b5e32b3-8d76-4801-afc8-d729d5a2e6b9</td>\n",
       "      <td>0a62fc41-16c8-40b5-92ff-9e4b763ce714</td>\n",
       "      <td>Loan Refused</td>\n",
       "      <td>16117</td>\n",
       "      <td>Short Term</td>\n",
       "      <td>724.0</td>\n",
       "      <td>9 years</td>\n",
       "      <td>Home Mortgage</td>\n",
       "      <td>60438.0</td>\n",
       "      <td>Home Improvements</td>\n",
       "      <td>1244.02</td>\n",
       "      <td>16.7</td>\n",
       "      <td>32.0</td>\n",
       "      <td>11</td>\n",
       "      <td>1</td>\n",
       "      <td>11275</td>\n",
       "      <td>14815</td>\n",
       "      <td>1.0</td>\n",
       "      <td>0.0</td>\n",
       "    </tr>\n",
       "    <tr>\n",
       "      <th>3</th>\n",
       "      <td>5419b7c7-ac11-4be2-a8a7-b131fb6d6dbe</td>\n",
       "      <td>30f36c59-5182-4482-8bbb-5b736849ae43</td>\n",
       "      <td>Loan Refused</td>\n",
       "      <td>11716</td>\n",
       "      <td>Short Term</td>\n",
       "      <td>740.0</td>\n",
       "      <td>3 years</td>\n",
       "      <td>Rent</td>\n",
       "      <td>34171.0</td>\n",
       "      <td>Debt Consolidation</td>\n",
       "      <td>990.94</td>\n",
       "      <td>10.0</td>\n",
       "      <td>NaN</td>\n",
       "      <td>21</td>\n",
       "      <td>0</td>\n",
       "      <td>7009</td>\n",
       "      <td>43533</td>\n",
       "      <td>0.0</td>\n",
       "      <td>0.0</td>\n",
       "    </tr>\n",
       "    <tr>\n",
       "      <th>4</th>\n",
       "      <td>1450910f-9495-4fc9-afaf-9bdf4b9821df</td>\n",
       "      <td>70c26012-bba5-42c0-8dcb-75295ada31bb</td>\n",
       "      <td>Loan Refused</td>\n",
       "      <td>9789</td>\n",
       "      <td>Long Term</td>\n",
       "      <td>686.0</td>\n",
       "      <td>10+ years</td>\n",
       "      <td>Home Mortgage</td>\n",
       "      <td>47003.0</td>\n",
       "      <td>Home Improvements</td>\n",
       "      <td>503.71</td>\n",
       "      <td>16.7</td>\n",
       "      <td>25.0</td>\n",
       "      <td>13</td>\n",
       "      <td>1</td>\n",
       "      <td>16913</td>\n",
       "      <td>19553</td>\n",
       "      <td>1.0</td>\n",
       "      <td>0.0</td>\n",
       "    </tr>\n",
       "    <tr>\n",
       "      <th>...</th>\n",
       "      <td>...</td>\n",
       "      <td>...</td>\n",
       "      <td>...</td>\n",
       "      <td>...</td>\n",
       "      <td>...</td>\n",
       "      <td>...</td>\n",
       "      <td>...</td>\n",
       "      <td>...</td>\n",
       "      <td>...</td>\n",
       "      <td>...</td>\n",
       "      <td>...</td>\n",
       "      <td>...</td>\n",
       "      <td>...</td>\n",
       "      <td>...</td>\n",
       "      <td>...</td>\n",
       "      <td>...</td>\n",
       "      <td>...</td>\n",
       "      <td>...</td>\n",
       "      <td>...</td>\n",
       "    </tr>\n",
       "    <tr>\n",
       "      <th>105233</th>\n",
       "      <td>503f01e2-c3c4-4b10-886e-f15de57b6f1a</td>\n",
       "      <td>27a17610-1d8c-48a7-b0db-2d81a4fa099a</td>\n",
       "      <td>Loan Given</td>\n",
       "      <td>15654</td>\n",
       "      <td>Long Term</td>\n",
       "      <td>686.0</td>\n",
       "      <td>10+ years</td>\n",
       "      <td>Rent</td>\n",
       "      <td>43050.0</td>\n",
       "      <td>Debt Consolidation</td>\n",
       "      <td>889.69</td>\n",
       "      <td>14.1</td>\n",
       "      <td>49.0</td>\n",
       "      <td>18</td>\n",
       "      <td>0</td>\n",
       "      <td>14730</td>\n",
       "      <td>29757</td>\n",
       "      <td>0.0</td>\n",
       "      <td>0.0</td>\n",
       "    </tr>\n",
       "    <tr>\n",
       "      <th>105234</th>\n",
       "      <td>8af53bc0-56a4-4801-a960-52a46a90b33f</td>\n",
       "      <td>c124ca71-f42a-47cc-8ec2-236f7e9868a5</td>\n",
       "      <td>Loan Given</td>\n",
       "      <td>15237</td>\n",
       "      <td>Short Term</td>\n",
       "      <td>706.0</td>\n",
       "      <td>10+ years</td>\n",
       "      <td>Home Mortgage</td>\n",
       "      <td>60948.0</td>\n",
       "      <td>Debt Consolidation</td>\n",
       "      <td>700.9</td>\n",
       "      <td>15.9</td>\n",
       "      <td>48.0</td>\n",
       "      <td>11</td>\n",
       "      <td>0</td>\n",
       "      <td>17733</td>\n",
       "      <td>23060</td>\n",
       "      <td>0.0</td>\n",
       "      <td>0.0</td>\n",
       "    </tr>\n",
       "    <tr>\n",
       "      <th>105235</th>\n",
       "      <td>96efd327-f965-42ae-8b2b-d2555205ce19</td>\n",
       "      <td>7d959a54-8eeb-4df6-b582-046f889e4cff</td>\n",
       "      <td>Loan Given</td>\n",
       "      <td>10413</td>\n",
       "      <td>Short Term</td>\n",
       "      <td>719.0</td>\n",
       "      <td>5 years</td>\n",
       "      <td>Home Mortgage</td>\n",
       "      <td>66945.0</td>\n",
       "      <td>Debt Consolidation</td>\n",
       "      <td>1210.59</td>\n",
       "      <td>8.7</td>\n",
       "      <td>NaN</td>\n",
       "      <td>11</td>\n",
       "      <td>0</td>\n",
       "      <td>5205</td>\n",
       "      <td>6348</td>\n",
       "      <td>0.0</td>\n",
       "      <td>0.0</td>\n",
       "    </tr>\n",
       "    <tr>\n",
       "      <th>105236</th>\n",
       "      <td>ec19166c-70c5-4d49-adb6-fb3fc15024a2</td>\n",
       "      <td>5723fbf2-1ce8-4752-8bee-1bebf339f278</td>\n",
       "      <td>Loan Given</td>\n",
       "      <td>34447</td>\n",
       "      <td>Short Term</td>\n",
       "      <td>626.0</td>\n",
       "      <td>10+ years</td>\n",
       "      <td>Home Mortgage</td>\n",
       "      <td>78736.0</td>\n",
       "      <td>Debt Consolidation</td>\n",
       "      <td>1476.3</td>\n",
       "      <td>30.4</td>\n",
       "      <td>9.0</td>\n",
       "      <td>12</td>\n",
       "      <td>0</td>\n",
       "      <td>32318</td>\n",
       "      <td>37580</td>\n",
       "      <td>0.0</td>\n",
       "      <td>0.0</td>\n",
       "    </tr>\n",
       "    <tr>\n",
       "      <th>105237</th>\n",
       "      <td>f83ae0e1-bd30-46c7-9f72-f4f9fe2f36ca</td>\n",
       "      <td>74187e35-39c2-4010-ae0d-8bcd0544189e</td>\n",
       "      <td>Loan Given</td>\n",
       "      <td>9209</td>\n",
       "      <td>Long Term</td>\n",
       "      <td>708.0</td>\n",
       "      <td>&lt; 1 year</td>\n",
       "      <td>Own Home</td>\n",
       "      <td>123454.0</td>\n",
       "      <td>Debt Consolidation</td>\n",
       "      <td>668.71</td>\n",
       "      <td>20.1</td>\n",
       "      <td>16.0</td>\n",
       "      <td>8</td>\n",
       "      <td>0</td>\n",
       "      <td>6835</td>\n",
       "      <td>9261</td>\n",
       "      <td>0.0</td>\n",
       "      <td>0.0</td>\n",
       "    </tr>\n",
       "  </tbody>\n",
       "</table>\n",
       "<p>105238 rows × 19 columns</p>\n",
       "</div>"
      ],
      "text/plain": [
       "                                     Loan ID  \\\n",
       "0       6cf51492-02a2-423e-b93d-676f05b9ad53   \n",
       "1       552e7ade-4292-4354-9ff9-c48031697d72   \n",
       "2       9b5e32b3-8d76-4801-afc8-d729d5a2e6b9   \n",
       "3       5419b7c7-ac11-4be2-a8a7-b131fb6d6dbe   \n",
       "4       1450910f-9495-4fc9-afaf-9bdf4b9821df   \n",
       "...                                      ...   \n",
       "105233  503f01e2-c3c4-4b10-886e-f15de57b6f1a   \n",
       "105234  8af53bc0-56a4-4801-a960-52a46a90b33f   \n",
       "105235  96efd327-f965-42ae-8b2b-d2555205ce19   \n",
       "105236  ec19166c-70c5-4d49-adb6-fb3fc15024a2   \n",
       "105237  f83ae0e1-bd30-46c7-9f72-f4f9fe2f36ca   \n",
       "\n",
       "                                 Customer ID   Loan Status  \\\n",
       "0       7c202b37-2add-44e8-9aea-d5b119aea935  Loan Refused   \n",
       "1       e7217b0a-07ac-47dd-b379-577b5a35b7c6  Loan Refused   \n",
       "2       0a62fc41-16c8-40b5-92ff-9e4b763ce714  Loan Refused   \n",
       "3       30f36c59-5182-4482-8bbb-5b736849ae43  Loan Refused   \n",
       "4       70c26012-bba5-42c0-8dcb-75295ada31bb  Loan Refused   \n",
       "...                                      ...           ...   \n",
       "105233  27a17610-1d8c-48a7-b0db-2d81a4fa099a    Loan Given   \n",
       "105234  c124ca71-f42a-47cc-8ec2-236f7e9868a5    Loan Given   \n",
       "105235  7d959a54-8eeb-4df6-b582-046f889e4cff    Loan Given   \n",
       "105236  5723fbf2-1ce8-4752-8bee-1bebf339f278    Loan Given   \n",
       "105237  74187e35-39c2-4010-ae0d-8bcd0544189e    Loan Given   \n",
       "\n",
       "        Current Loan Amount        Term  Credit Score Years in current job  \\\n",
       "0                     12232  Short Term         728.0             < 1 year   \n",
       "1                     25014   Long Term         733.0            10+ years   \n",
       "2                     16117  Short Term         724.0              9 years   \n",
       "3                     11716  Short Term         740.0              3 years   \n",
       "4                      9789   Long Term         686.0            10+ years   \n",
       "...                     ...         ...           ...                  ...   \n",
       "105233                15654   Long Term         686.0            10+ years   \n",
       "105234                15237  Short Term         706.0            10+ years   \n",
       "105235                10413  Short Term         719.0              5 years   \n",
       "105236                34447  Short Term         626.0            10+ years   \n",
       "105237                 9209   Long Term         708.0             < 1 year   \n",
       "\n",
       "       Home Ownership  Annual Income             Purpose Monthly Debt  \\\n",
       "0                Rent        46643.0  Debt Consolidation       777.39   \n",
       "1       Home Mortgage        81099.0  Debt Consolidation       892.09   \n",
       "2       Home Mortgage        60438.0   Home Improvements      1244.02   \n",
       "3                Rent        34171.0  Debt Consolidation       990.94   \n",
       "4       Home Mortgage        47003.0   Home Improvements       503.71   \n",
       "...               ...            ...                 ...          ...   \n",
       "105233           Rent        43050.0  Debt Consolidation       889.69   \n",
       "105234  Home Mortgage        60948.0  Debt Consolidation        700.9   \n",
       "105235  Home Mortgage        66945.0  Debt Consolidation      1210.59   \n",
       "105236  Home Mortgage        78736.0  Debt Consolidation       1476.3   \n",
       "105237       Own Home       123454.0  Debt Consolidation       668.71   \n",
       "\n",
       "        Years of Credit History  Months since last delinquent  \\\n",
       "0                          18.0                          10.0   \n",
       "1                          26.7                           NaN   \n",
       "2                          16.7                          32.0   \n",
       "3                          10.0                           NaN   \n",
       "4                          16.7                          25.0   \n",
       "...                         ...                           ...   \n",
       "105233                     14.1                          49.0   \n",
       "105234                     15.9                          48.0   \n",
       "105235                      8.7                           NaN   \n",
       "105236                     30.4                           9.0   \n",
       "105237                     20.1                          16.0   \n",
       "\n",
       "        Number of Open Accounts  Number of Credit Problems  \\\n",
       "0                            12                          0   \n",
       "1                            14                          0   \n",
       "2                            11                          1   \n",
       "3                            21                          0   \n",
       "4                            13                          1   \n",
       "...                         ...                        ...   \n",
       "105233                       18                          0   \n",
       "105234                       11                          0   \n",
       "105235                       11                          0   \n",
       "105236                       12                          0   \n",
       "105237                        8                          0   \n",
       "\n",
       "        Current Credit Balance Maximum Open Credit  Bankruptcies  Tax Liens  \n",
       "0                         6762                7946           0.0        0.0  \n",
       "1                        35706               77961           0.0        0.0  \n",
       "2                        11275               14815           1.0        0.0  \n",
       "3                         7009               43533           0.0        0.0  \n",
       "4                        16913               19553           1.0        0.0  \n",
       "...                        ...                 ...           ...        ...  \n",
       "105233                   14730               29757           0.0        0.0  \n",
       "105234                   17733               23060           0.0        0.0  \n",
       "105235                    5205                6348           0.0        0.0  \n",
       "105236                   32318               37580           0.0        0.0  \n",
       "105237                    6835                9261           0.0        0.0  \n",
       "\n",
       "[105238 rows x 19 columns]"
      ]
     },
     "execution_count": 7,
     "metadata": {},
     "output_type": "execute_result"
    }
   ],
   "source": [
    "df[\"Credit Score\"] = np.where(df[\"Credit Score\"]>800,df[\"Credit Score\"]/10,df[\"Credit Score\"])\n",
    "df"
   ]
  },
  {
   "cell_type": "markdown",
   "id": "55c8ae9a",
   "metadata": {},
   "source": [
    "## EDA"
   ]
  },
  {
   "cell_type": "code",
   "execution_count": 8,
   "id": "3173ee50",
   "metadata": {},
   "outputs": [
    {
     "name": "stdout",
     "output_type": "stream",
     "text": [
      "<class 'pandas.core.frame.DataFrame'>\n",
      "RangeIndex: 105238 entries, 0 to 105237\n",
      "Data columns (total 19 columns):\n",
      " #   Column                        Non-Null Count   Dtype  \n",
      "---  ------                        --------------   -----  \n",
      " 0   Loan ID                       105238 non-null  object \n",
      " 1   Customer ID                   105238 non-null  object \n",
      " 2   Loan Status                   105238 non-null  object \n",
      " 3   Current Loan Amount           105238 non-null  int64  \n",
      " 4   Term                          105238 non-null  object \n",
      " 5   Credit Score                  83900 non-null   float64\n",
      " 6   Years in current job          100788 non-null  object \n",
      " 7   Home Ownership                105238 non-null  object \n",
      " 8   Annual Income                 83900 non-null   float64\n",
      " 9   Purpose                       105238 non-null  object \n",
      " 10  Monthly Debt                  105238 non-null  object \n",
      " 11  Years of Credit History       105238 non-null  float64\n",
      " 12  Months since last delinquent  49003 non-null   float64\n",
      " 13  Number of Open Accounts       105238 non-null  int64  \n",
      " 14  Number of Credit Problems     105238 non-null  int64  \n",
      " 15  Current Credit Balance        105238 non-null  int64  \n",
      " 16  Maximum Open Credit           105238 non-null  object \n",
      " 17  Bankruptcies                  105020 non-null  float64\n",
      " 18  Tax Liens                     105227 non-null  float64\n",
      "dtypes: float64(6), int64(4), object(9)\n",
      "memory usage: 15.3+ MB\n"
     ]
    }
   ],
   "source": [
    "df.info()"
   ]
  },
  {
   "cell_type": "code",
   "execution_count": 9,
   "id": "210c4894",
   "metadata": {},
   "outputs": [
    {
     "data": {
      "text/plain": [
       "Loan ID                             0\n",
       "Customer ID                         0\n",
       "Loan Status                         0\n",
       "Current Loan Amount                 0\n",
       "Term                                0\n",
       "Credit Score                    21338\n",
       "Years in current job             4450\n",
       "Home Ownership                      0\n",
       "Annual Income                   21338\n",
       "Purpose                             0\n",
       "Monthly Debt                        0\n",
       "Years of Credit History             0\n",
       "Months since last delinquent    56235\n",
       "Number of Open Accounts             0\n",
       "Number of Credit Problems           0\n",
       "Current Credit Balance              0\n",
       "Maximum Open Credit                 0\n",
       "Bankruptcies                      218\n",
       "Tax Liens                          11\n",
       "dtype: int64"
      ]
     },
     "execution_count": 9,
     "metadata": {},
     "output_type": "execute_result"
    }
   ],
   "source": [
    "df.isna().sum()"
   ]
  },
  {
   "cell_type": "code",
   "execution_count": null,
   "id": "40a71609",
   "metadata": {},
   "outputs": [],
   "source": []
  },
  {
   "cell_type": "markdown",
   "id": "69c2c461",
   "metadata": {},
   "source": [
    "#### Loan ID"
   ]
  },
  {
   "cell_type": "code",
   "execution_count": 10,
   "id": "b8a440ab",
   "metadata": {},
   "outputs": [
    {
     "data": {
      "text/plain": [
       "88910"
      ]
     },
     "execution_count": 10,
     "metadata": {},
     "output_type": "execute_result"
    }
   ],
   "source": [
    "df[\"Loan ID\"].nunique()"
   ]
  },
  {
   "cell_type": "markdown",
   "id": "5efeb194",
   "metadata": {},
   "source": [
    "#### Customer ID"
   ]
  },
  {
   "cell_type": "code",
   "execution_count": 11,
   "id": "070f57ed",
   "metadata": {},
   "outputs": [
    {
     "data": {
      "text/plain": [
       "cfd59fd2-454f-45c7-9a29-17f87fc0f768    2\n",
       "d4efbe22-ef06-4bcc-a739-a559863c7470    2\n",
       "ac73fc48-646d-464c-bddf-de20a09f9082    2\n",
       "f8b33432-aecb-4fa6-9f94-f5e10a2fd72e    2\n",
       "93a661f0-0717-4b9c-8e10-713197e15df7    2\n",
       "                                       ..\n",
       "f81d9a27-4f66-4a53-a2e2-fcfdff50cbd6    1\n",
       "82ec29b4-041a-4b0f-bb75-3a6949e51142    1\n",
       "85df270b-35a2-4f76-8391-037cb09ace00    1\n",
       "159a5960-6317-48c5-96a1-0e9b09d019c9    1\n",
       "5514bfcc-e996-4d9b-80d4-9ea66dfa1ac5    1\n",
       "Name: Customer ID, Length: 88910, dtype: int64"
      ]
     },
     "execution_count": 11,
     "metadata": {},
     "output_type": "execute_result"
    }
   ],
   "source": [
    "df[\"Customer ID\"].value_counts()"
   ]
  },
  {
   "cell_type": "code",
   "execution_count": 12,
   "id": "e52df71a",
   "metadata": {},
   "outputs": [],
   "source": [
    "# we will drop Loan ID and Customer ID"
   ]
  },
  {
   "cell_type": "markdown",
   "id": "1ab7e41a",
   "metadata": {},
   "source": [
    "#### Loan Status"
   ]
  },
  {
   "cell_type": "code",
   "execution_count": 13,
   "id": "d8ee2b18",
   "metadata": {},
   "outputs": [
    {
     "data": {
      "text/plain": [
       "Loan Given      80065\n",
       "Loan Refused    25173\n",
       "Name: Loan Status, dtype: int64"
      ]
     },
     "execution_count": 13,
     "metadata": {},
     "output_type": "execute_result"
    }
   ],
   "source": [
    "df[\"Loan Status\"].value_counts()\n",
    "# it is our target column do Label Encoding "
   ]
  },
  {
   "cell_type": "markdown",
   "id": "1b1eae15",
   "metadata": {},
   "source": [
    "#### Current Loan Amount"
   ]
  },
  {
   "cell_type": "code",
   "execution_count": 14,
   "id": "815e0c33",
   "metadata": {},
   "outputs": [
    {
     "data": {
      "text/plain": [
       "99999999    12738\n",
       "10151          30\n",
       "10141          28\n",
       "10166          28\n",
       "9827           28\n",
       "            ...  \n",
       "2106            1\n",
       "19360           1\n",
       "2304            1\n",
       "11347           1\n",
       "24629           1\n",
       "Name: Current Loan Amount, Length: 22541, dtype: int64"
      ]
     },
     "execution_count": 14,
     "metadata": {},
     "output_type": "execute_result"
    }
   ],
   "source": [
    "df[\"Current Loan Amount\"].value_counts()  "
   ]
  },
  {
   "cell_type": "code",
   "execution_count": 15,
   "id": "33799690",
   "metadata": {},
   "outputs": [
    {
     "data": {
      "text/plain": [
       "22541"
      ]
     },
     "execution_count": 15,
     "metadata": {},
     "output_type": "execute_result"
    }
   ],
   "source": [
    "df[\"Current Loan Amount\"].nunique()"
   ]
  },
  {
   "cell_type": "markdown",
   "id": "028d10aa",
   "metadata": {},
   "source": [
    "#### Term "
   ]
  },
  {
   "cell_type": "code",
   "execution_count": 16,
   "id": "3d1cadbf",
   "metadata": {},
   "outputs": [
    {
     "data": {
      "text/plain": [
       "Short Term    76719\n",
       "Long Term     28519\n",
       "Name: Term, dtype: int64"
      ]
     },
     "execution_count": 16,
     "metadata": {},
     "output_type": "execute_result"
    }
   ],
   "source": [
    "df[\"Term\"].value_counts()     \n",
    "# do incoding or replace"
   ]
  },
  {
   "cell_type": "markdown",
   "id": "c7c742d1",
   "metadata": {},
   "source": [
    "#### Credit Score"
   ]
  },
  {
   "cell_type": "code",
   "execution_count": 17,
   "id": "51ca082f",
   "metadata": {},
   "outputs": [
    {
     "data": {
      "text/plain": [
       "167"
      ]
     },
     "execution_count": 17,
     "metadata": {},
     "output_type": "execute_result"
    }
   ],
   "source": [
    "df[\"Credit Score\"].nunique()      \n",
    "# fill Missing Values and data cleaning"
   ]
  },
  {
   "cell_type": "markdown",
   "id": "de0dbc04",
   "metadata": {},
   "source": [
    "#### Years in current job"
   ]
  },
  {
   "cell_type": "code",
   "execution_count": 18,
   "id": "f6486c25",
   "metadata": {},
   "outputs": [
    {
     "data": {
      "text/plain": [
       "10+ years    32663\n",
       "2 years       9633\n",
       "3 years       8620\n",
       "< 1 year      8582\n",
       "5 years       7188\n",
       "1 year        6791\n",
       "4 years       6466\n",
       "6 years       6028\n",
       "7 years       5841\n",
       "8 years       4845\n",
       "9 years       4131\n",
       "Name: Years in current job, dtype: int64"
      ]
     },
     "execution_count": 18,
     "metadata": {},
     "output_type": "execute_result"
    }
   ],
   "source": [
    "df[\"Years in current job\"].value_counts() \n",
    "# data cleaning"
   ]
  },
  {
   "cell_type": "markdown",
   "id": "de469938",
   "metadata": {},
   "source": [
    "#### Home Ownership"
   ]
  },
  {
   "cell_type": "code",
   "execution_count": 19,
   "id": "3355e35f",
   "metadata": {},
   "outputs": [
    {
     "data": {
      "text/plain": [
       "Home Mortgage    51026\n",
       "Rent             44402\n",
       "Own Home          9601\n",
       "HaveMortgage       209\n",
       "Name: Home Ownership, dtype: int64"
      ]
     },
     "execution_count": 19,
     "metadata": {},
     "output_type": "execute_result"
    }
   ],
   "source": [
    "df[\"Home Ownership\"].value_counts() \n",
    "# one hot encoding"
   ]
  },
  {
   "cell_type": "markdown",
   "id": "9d94f490",
   "metadata": {},
   "source": [
    "#### Annual Income"
   ]
  },
  {
   "cell_type": "code",
   "execution_count": 20,
   "id": "fe5844c0",
   "metadata": {},
   "outputs": [
    {
     "data": {
      "text/plain": [
       "61188.0     23\n",
       "51025.0     20\n",
       "60198.0     17\n",
       "51230.0     17\n",
       "60000.0     17\n",
       "            ..\n",
       "110066.0     1\n",
       "43268.0      1\n",
       "46690.0      1\n",
       "21716.0      1\n",
       "123454.0     1\n",
       "Name: Annual Income, Length: 37983, dtype: int64"
      ]
     },
     "execution_count": 20,
     "metadata": {},
     "output_type": "execute_result"
    }
   ],
   "source": [
    "df[\"Annual Income\"].value_counts()"
   ]
  },
  {
   "cell_type": "code",
   "execution_count": 21,
   "id": "dd8ea03f",
   "metadata": {},
   "outputs": [
    {
     "data": {
      "text/plain": [
       "37983"
      ]
     },
     "execution_count": 21,
     "metadata": {},
     "output_type": "execute_result"
    }
   ],
   "source": [
    "df[\"Annual Income\"].nunique()"
   ]
  },
  {
   "cell_type": "markdown",
   "id": "c1fd48f7",
   "metadata": {},
   "source": [
    "#### Purpose"
   ]
  },
  {
   "cell_type": "code",
   "execution_count": 22,
   "id": "031207e4",
   "metadata": {},
   "outputs": [
    {
     "data": {
      "text/plain": [
       "Debt Consolidation      82847\n",
       "other                    6218\n",
       "Home Improvements        6140\n",
       "Other                    3392\n",
       "Business Loan            1634\n",
       "Buy a Car                1364\n",
       "Medical Bills            1184\n",
       "Buy House                 703\n",
       "Take a Trip               563\n",
       "major_purchase            394\n",
       "small_business            300\n",
       "moving                    156\n",
       "wedding                   122\n",
       "Educational Expenses      109\n",
       "vacation                  102\n",
       "renewable_energy           10\n",
       "Name: Purpose, dtype: int64"
      ]
     },
     "execution_count": 22,
     "metadata": {},
     "output_type": "execute_result"
    }
   ],
   "source": [
    "df[\"Purpose\"].value_counts()\n",
    "# one hot encoding"
   ]
  },
  {
   "cell_type": "markdown",
   "id": "1625a1c7",
   "metadata": {},
   "source": [
    "#### Monthly Debt"
   ]
  },
  {
   "cell_type": "code",
   "execution_count": 23,
   "id": "5d9b1f53",
   "metadata": {},
   "outputs": [
    {
     "data": {
      "text/plain": [
       "0          55\n",
       "0.0        25\n",
       "560.42      6\n",
       "837         6\n",
       "621.92      6\n",
       "           ..\n",
       "981.24      1\n",
       "846.96      1\n",
       "173.68      1\n",
       "1273.27     1\n",
       "668.71      1\n",
       "Name: Monthly Debt, Length: 90362, dtype: int64"
      ]
     },
     "execution_count": 23,
     "metadata": {},
     "output_type": "execute_result"
    }
   ],
   "source": [
    "df[\"Monthly Debt\"].value_counts()"
   ]
  },
  {
   "cell_type": "code",
   "execution_count": 24,
   "id": "94170060",
   "metadata": {},
   "outputs": [
    {
     "data": {
      "text/plain": [
       "90362"
      ]
     },
     "execution_count": 24,
     "metadata": {},
     "output_type": "execute_result"
    }
   ],
   "source": [
    "df[\"Monthly Debt\"].nunique()"
   ]
  },
  {
   "cell_type": "markdown",
   "id": "01820480",
   "metadata": {},
   "source": [
    "#### Years of Credit History "
   ]
  },
  {
   "cell_type": "code",
   "execution_count": 25,
   "id": "515a2345",
   "metadata": {},
   "outputs": [
    {
     "data": {
      "text/plain": [
       "16.0    1416\n",
       "15.0    1368\n",
       "17.0    1292\n",
       "16.5    1237\n",
       "14.0    1215\n",
       "        ... \n",
       "53.8       1\n",
       "56.1       1\n",
       "62.5       1\n",
       "58.0       1\n",
       "51.3       1\n",
       "Name: Years of Credit History, Length: 508, dtype: int64"
      ]
     },
     "execution_count": 25,
     "metadata": {},
     "output_type": "execute_result"
    }
   ],
   "source": [
    "df[\"Years of Credit History\"].value_counts()"
   ]
  },
  {
   "cell_type": "code",
   "execution_count": 26,
   "id": "bde1f359",
   "metadata": {},
   "outputs": [
    {
     "data": {
      "text/plain": [
       "508"
      ]
     },
     "execution_count": 26,
     "metadata": {},
     "output_type": "execute_result"
    }
   ],
   "source": [
    "df[\"Years of Credit History\"].nunique()"
   ]
  },
  {
   "cell_type": "markdown",
   "id": "c28fe1ee",
   "metadata": {},
   "source": [
    "#### Months since last delinquent"
   ]
  },
  {
   "cell_type": "code",
   "execution_count": 27,
   "id": "95a27466",
   "metadata": {},
   "outputs": [
    {
     "data": {
      "text/plain": [
       "13.0     947\n",
       "12.0     933\n",
       "15.0     927\n",
       "8.0      901\n",
       "9.0      900\n",
       "        ... \n",
       "139.0      1\n",
       "130.0      1\n",
       "115.0      1\n",
       "141.0      1\n",
       "143.0      1\n",
       "Name: Months since last delinquent, Length: 116, dtype: int64"
      ]
     },
     "execution_count": 27,
     "metadata": {},
     "output_type": "execute_result"
    }
   ],
   "source": [
    "df[\"Months since last delinquent\"].value_counts()"
   ]
  },
  {
   "cell_type": "code",
   "execution_count": 28,
   "id": "b72a6a42",
   "metadata": {},
   "outputs": [
    {
     "data": {
      "text/plain": [
       "116"
      ]
     },
     "execution_count": 28,
     "metadata": {},
     "output_type": "execute_result"
    }
   ],
   "source": [
    "df[\"Months since last delinquent\"].nunique()"
   ]
  },
  {
   "cell_type": "markdown",
   "id": "ecc5eb03",
   "metadata": {},
   "source": [
    "#### Number of Open Accounts"
   ]
  },
  {
   "cell_type": "code",
   "execution_count": 29,
   "id": "0b556d65",
   "metadata": {},
   "outputs": [
    {
     "data": {
      "text/plain": [
       "9     9780\n",
       "10    9535\n",
       "8     9306\n",
       "11    9028\n",
       "7     8595\n",
       "12    7833\n",
       "6     7143\n",
       "13    6541\n",
       "14    5465\n",
       "5     4951\n",
       "15    4499\n",
       "16    3693\n",
       "4     3017\n",
       "17    3016\n",
       "18    2321\n",
       "19    1987\n",
       "20    1505\n",
       "3     1415\n",
       "21    1155\n",
       "22     883\n",
       "23     727\n",
       "24     575\n",
       "2      448\n",
       "25     432\n",
       "26     286\n",
       "27     272\n",
       "28     173\n",
       "29     127\n",
       "30     116\n",
       "31      78\n",
       "32      66\n",
       "33      54\n",
       "34      38\n",
       "36      28\n",
       "1       26\n",
       "35      26\n",
       "37      18\n",
       "38      12\n",
       "43      11\n",
       "40      10\n",
       "39       9\n",
       "41       7\n",
       "45       5\n",
       "42       5\n",
       "47       5\n",
       "48       4\n",
       "44       3\n",
       "52       2\n",
       "56       2\n",
       "0        2\n",
       "76       2\n",
       "55       1\n",
       "Name: Number of Open Accounts, dtype: int64"
      ]
     },
     "execution_count": 29,
     "metadata": {},
     "output_type": "execute_result"
    }
   ],
   "source": [
    "df[\"Number of Open Accounts\"].value_counts()"
   ]
  },
  {
   "cell_type": "code",
   "execution_count": 30,
   "id": "c1e8be74",
   "metadata": {},
   "outputs": [
    {
     "data": {
      "text/plain": [
       "52"
      ]
     },
     "execution_count": 30,
     "metadata": {},
     "output_type": "execute_result"
    }
   ],
   "source": [
    "df[\"Number of Open Accounts\"].nunique()"
   ]
  },
  {
   "cell_type": "markdown",
   "id": "626fec06",
   "metadata": {},
   "source": [
    "#### Number of Credit Problems"
   ]
  },
  {
   "cell_type": "code",
   "execution_count": 31,
   "id": "0f418dc2",
   "metadata": {},
   "outputs": [
    {
     "data": {
      "text/plain": [
       "0     90729\n",
       "1     12563\n",
       "2      1336\n",
       "3       383\n",
       "4       131\n",
       "5        56\n",
       "6        16\n",
       "7         8\n",
       "9         5\n",
       "8         4\n",
       "10        3\n",
       "11        2\n",
       "12        1\n",
       "15        1\n",
       "Name: Number of Credit Problems, dtype: int64"
      ]
     },
     "execution_count": 31,
     "metadata": {},
     "output_type": "execute_result"
    }
   ],
   "source": [
    "df[\"Number of Credit Problems\"].value_counts()"
   ]
  },
  {
   "cell_type": "code",
   "execution_count": 32,
   "id": "039fa4b3",
   "metadata": {},
   "outputs": [
    {
     "data": {
      "text/plain": [
       "14"
      ]
     },
     "execution_count": 32,
     "metadata": {},
     "output_type": "execute_result"
    }
   ],
   "source": [
    "df[\"Number of Credit Problems\"].nunique()"
   ]
  },
  {
   "cell_type": "markdown",
   "id": "e2b3cc32",
   "metadata": {},
   "source": [
    "#### Current Credit Balance"
   ]
  },
  {
   "cell_type": "code",
   "execution_count": 33,
   "id": "b309adef",
   "metadata": {},
   "outputs": [
    {
     "data": {
      "text/plain": [
       "0        607\n",
       "3563      18\n",
       "7253      17\n",
       "9262      17\n",
       "5279      17\n",
       "        ... \n",
       "2742       1\n",
       "44851      1\n",
       "71223      1\n",
       "50135      1\n",
       "44728      1\n",
       "Name: Current Credit Balance, Length: 33716, dtype: int64"
      ]
     },
     "execution_count": 33,
     "metadata": {},
     "output_type": "execute_result"
    }
   ],
   "source": [
    "df[\"Current Credit Balance\"].value_counts()"
   ]
  },
  {
   "cell_type": "code",
   "execution_count": 34,
   "id": "50afab3f",
   "metadata": {},
   "outputs": [
    {
     "data": {
      "text/plain": [
       "33716"
      ]
     },
     "execution_count": 34,
     "metadata": {},
     "output_type": "execute_result"
    }
   ],
   "source": [
    "df[\"Current Credit Balance\"].nunique()"
   ]
  },
  {
   "cell_type": "markdown",
   "id": "35fad123",
   "metadata": {},
   "source": [
    "#### Maximum Open Credit"
   ]
  },
  {
   "cell_type": "code",
   "execution_count": 35,
   "id": "b7f547f9",
   "metadata": {},
   "outputs": [
    {
     "data": {
      "text/plain": [
       "0        450\n",
       "0        269\n",
       "17464      9\n",
       "15847      9\n",
       "7412       8\n",
       "        ... \n",
       "39476      1\n",
       "17745      1\n",
       "26104      1\n",
       "45043      1\n",
       "10634      1\n",
       "Name: Maximum Open Credit, Length: 67309, dtype: int64"
      ]
     },
     "execution_count": 35,
     "metadata": {},
     "output_type": "execute_result"
    }
   ],
   "source": [
    "df[\"Maximum Open Credit\"].value_counts()"
   ]
  },
  {
   "cell_type": "code",
   "execution_count": 36,
   "id": "4a374884",
   "metadata": {},
   "outputs": [
    {
     "data": {
      "text/plain": [
       "67309"
      ]
     },
     "execution_count": 36,
     "metadata": {},
     "output_type": "execute_result"
    }
   ],
   "source": [
    "df[\"Maximum Open Credit\"].nunique()"
   ]
  },
  {
   "cell_type": "markdown",
   "id": "0a76c61a",
   "metadata": {},
   "source": [
    "#### Bankruptcies"
   ]
  },
  {
   "cell_type": "code",
   "execution_count": 37,
   "id": "8e93da40",
   "metadata": {},
   "outputs": [
    {
     "data": {
      "text/plain": [
       "0.0    93539\n",
       "1.0    10916\n",
       "2.0      428\n",
       "3.0      101\n",
       "4.0       27\n",
       "5.0        7\n",
       "7.0        1\n",
       "6.0        1\n",
       "Name: Bankruptcies, dtype: int64"
      ]
     },
     "execution_count": 37,
     "metadata": {},
     "output_type": "execute_result"
    }
   ],
   "source": [
    "df[\"Bankruptcies\"].value_counts()"
   ]
  },
  {
   "cell_type": "code",
   "execution_count": 38,
   "id": "1a3b7875",
   "metadata": {},
   "outputs": [
    {
     "data": {
      "text/plain": [
       "8"
      ]
     },
     "execution_count": 38,
     "metadata": {},
     "output_type": "execute_result"
    }
   ],
   "source": [
    "df[\"Bankruptcies\"].nunique()"
   ]
  },
  {
   "cell_type": "markdown",
   "id": "02ffacdf",
   "metadata": {},
   "source": [
    "#### Tax Liens"
   ]
  },
  {
   "cell_type": "code",
   "execution_count": 39,
   "id": "a2541b6e",
   "metadata": {},
   "outputs": [
    {
     "data": {
      "text/plain": [
       "0.0     103233\n",
       "1.0       1385\n",
       "2.0        382\n",
       "3.0        115\n",
       "4.0         65\n",
       "5.0         19\n",
       "6.0         10\n",
       "7.0          7\n",
       "9.0          5\n",
       "8.0          2\n",
       "11.0         2\n",
       "15.0         1\n",
       "10.0         1\n",
       "Name: Tax Liens, dtype: int64"
      ]
     },
     "execution_count": 39,
     "metadata": {},
     "output_type": "execute_result"
    }
   ],
   "source": [
    "df[\"Tax Liens\"].value_counts()"
   ]
  },
  {
   "cell_type": "code",
   "execution_count": 40,
   "id": "3cc711c1",
   "metadata": {},
   "outputs": [
    {
     "data": {
      "text/plain": [
       "13"
      ]
     },
     "execution_count": 40,
     "metadata": {},
     "output_type": "execute_result"
    }
   ],
   "source": [
    "df[\"Tax Liens\"].nunique()"
   ]
  },
  {
   "cell_type": "markdown",
   "id": "d4bdd632",
   "metadata": {},
   "source": [
    "## Feature Engineering"
   ]
  },
  {
   "cell_type": "code",
   "execution_count": 41,
   "id": "6bf20677",
   "metadata": {},
   "outputs": [],
   "source": [
    "# Aim is to handle missing value, encoding and data modification"
   ]
  },
  {
   "cell_type": "code",
   "execution_count": 42,
   "id": "01a95f71",
   "metadata": {},
   "outputs": [
    {
     "data": {
      "text/html": [
       "<div>\n",
       "<style scoped>\n",
       "    .dataframe tbody tr th:only-of-type {\n",
       "        vertical-align: middle;\n",
       "    }\n",
       "\n",
       "    .dataframe tbody tr th {\n",
       "        vertical-align: top;\n",
       "    }\n",
       "\n",
       "    .dataframe thead th {\n",
       "        text-align: right;\n",
       "    }\n",
       "</style>\n",
       "<table border=\"1\" class=\"dataframe\">\n",
       "  <thead>\n",
       "    <tr style=\"text-align: right;\">\n",
       "      <th></th>\n",
       "      <th>Current Loan Amount</th>\n",
       "      <th>Credit Score</th>\n",
       "      <th>Annual Income</th>\n",
       "      <th>Years of Credit History</th>\n",
       "      <th>Months since last delinquent</th>\n",
       "      <th>Number of Open Accounts</th>\n",
       "      <th>Number of Credit Problems</th>\n",
       "      <th>Current Credit Balance</th>\n",
       "      <th>Bankruptcies</th>\n",
       "      <th>Tax Liens</th>\n",
       "    </tr>\n",
       "  </thead>\n",
       "  <tbody>\n",
       "    <tr>\n",
       "      <th>count</th>\n",
       "      <td>1.052380e+05</td>\n",
       "      <td>83900.000000</td>\n",
       "      <td>8.390000e+04</td>\n",
       "      <td>105238.000000</td>\n",
       "      <td>49003.000000</td>\n",
       "      <td>105238.000000</td>\n",
       "      <td>105238.000000</td>\n",
       "      <td>1.052380e+05</td>\n",
       "      <td>105020.000000</td>\n",
       "      <td>105227.000000</td>\n",
       "    </tr>\n",
       "    <tr>\n",
       "      <th>mean</th>\n",
       "      <td>1.211641e+07</td>\n",
       "      <td>717.399905</td>\n",
       "      <td>7.241759e+04</td>\n",
       "      <td>18.229131</td>\n",
       "      <td>34.918883</td>\n",
       "      <td>11.122551</td>\n",
       "      <td>0.166252</td>\n",
       "      <td>1.545967e+04</td>\n",
       "      <td>0.116464</td>\n",
       "      <td>0.029137</td>\n",
       "    </tr>\n",
       "    <tr>\n",
       "      <th>std</th>\n",
       "      <td>3.261291e+07</td>\n",
       "      <td>28.219096</td>\n",
       "      <td>5.650503e+04</td>\n",
       "      <td>7.026107</td>\n",
       "      <td>21.959398</td>\n",
       "      <td>5.002925</td>\n",
       "      <td>0.482317</td>\n",
       "      <td>1.957319e+04</td>\n",
       "      <td>0.349179</td>\n",
       "      <td>0.261156</td>\n",
       "    </tr>\n",
       "    <tr>\n",
       "      <th>min</th>\n",
       "      <td>4.910000e+02</td>\n",
       "      <td>585.000000</td>\n",
       "      <td>4.033000e+03</td>\n",
       "      <td>3.600000</td>\n",
       "      <td>0.000000</td>\n",
       "      <td>0.000000</td>\n",
       "      <td>0.000000</td>\n",
       "      <td>0.000000e+00</td>\n",
       "      <td>0.000000</td>\n",
       "      <td>0.000000</td>\n",
       "    </tr>\n",
       "    <tr>\n",
       "      <th>25%</th>\n",
       "      <td>8.174000e+03</td>\n",
       "      <td>704.000000</td>\n",
       "      <td>4.465800e+04</td>\n",
       "      <td>13.500000</td>\n",
       "      <td>16.000000</td>\n",
       "      <td>8.000000</td>\n",
       "      <td>0.000000</td>\n",
       "      <td>5.910250e+03</td>\n",
       "      <td>0.000000</td>\n",
       "      <td>0.000000</td>\n",
       "    </tr>\n",
       "    <tr>\n",
       "      <th>50%</th>\n",
       "      <td>1.421950e+04</td>\n",
       "      <td>724.000000</td>\n",
       "      <td>6.161400e+04</td>\n",
       "      <td>17.000000</td>\n",
       "      <td>32.000000</td>\n",
       "      <td>10.000000</td>\n",
       "      <td>0.000000</td>\n",
       "      <td>1.102550e+04</td>\n",
       "      <td>0.000000</td>\n",
       "      <td>0.000000</td>\n",
       "    </tr>\n",
       "    <tr>\n",
       "      <th>75%</th>\n",
       "      <td>2.400100e+04</td>\n",
       "      <td>739.000000</td>\n",
       "      <td>8.683400e+04</td>\n",
       "      <td>21.700000</td>\n",
       "      <td>51.000000</td>\n",
       "      <td>14.000000</td>\n",
       "      <td>0.000000</td>\n",
       "      <td>1.933150e+04</td>\n",
       "      <td>0.000000</td>\n",
       "      <td>0.000000</td>\n",
       "    </tr>\n",
       "    <tr>\n",
       "      <th>max</th>\n",
       "      <td>1.000000e+08</td>\n",
       "      <td>751.000000</td>\n",
       "      <td>8.713547e+06</td>\n",
       "      <td>70.500000</td>\n",
       "      <td>176.000000</td>\n",
       "      <td>76.000000</td>\n",
       "      <td>15.000000</td>\n",
       "      <td>1.730472e+06</td>\n",
       "      <td>7.000000</td>\n",
       "      <td>15.000000</td>\n",
       "    </tr>\n",
       "  </tbody>\n",
       "</table>\n",
       "</div>"
      ],
      "text/plain": [
       "       Current Loan Amount  Credit Score  Annual Income  \\\n",
       "count         1.052380e+05  83900.000000   8.390000e+04   \n",
       "mean          1.211641e+07    717.399905   7.241759e+04   \n",
       "std           3.261291e+07     28.219096   5.650503e+04   \n",
       "min           4.910000e+02    585.000000   4.033000e+03   \n",
       "25%           8.174000e+03    704.000000   4.465800e+04   \n",
       "50%           1.421950e+04    724.000000   6.161400e+04   \n",
       "75%           2.400100e+04    739.000000   8.683400e+04   \n",
       "max           1.000000e+08    751.000000   8.713547e+06   \n",
       "\n",
       "       Years of Credit History  Months since last delinquent  \\\n",
       "count            105238.000000                  49003.000000   \n",
       "mean                 18.229131                     34.918883   \n",
       "std                   7.026107                     21.959398   \n",
       "min                   3.600000                      0.000000   \n",
       "25%                  13.500000                     16.000000   \n",
       "50%                  17.000000                     32.000000   \n",
       "75%                  21.700000                     51.000000   \n",
       "max                  70.500000                    176.000000   \n",
       "\n",
       "       Number of Open Accounts  Number of Credit Problems  \\\n",
       "count            105238.000000              105238.000000   \n",
       "mean                 11.122551                   0.166252   \n",
       "std                   5.002925                   0.482317   \n",
       "min                   0.000000                   0.000000   \n",
       "25%                   8.000000                   0.000000   \n",
       "50%                  10.000000                   0.000000   \n",
       "75%                  14.000000                   0.000000   \n",
       "max                  76.000000                  15.000000   \n",
       "\n",
       "       Current Credit Balance   Bankruptcies      Tax Liens  \n",
       "count            1.052380e+05  105020.000000  105227.000000  \n",
       "mean             1.545967e+04       0.116464       0.029137  \n",
       "std              1.957319e+04       0.349179       0.261156  \n",
       "min              0.000000e+00       0.000000       0.000000  \n",
       "25%              5.910250e+03       0.000000       0.000000  \n",
       "50%              1.102550e+04       0.000000       0.000000  \n",
       "75%              1.933150e+04       0.000000       0.000000  \n",
       "max              1.730472e+06       7.000000      15.000000  "
      ]
     },
     "execution_count": 42,
     "metadata": {},
     "output_type": "execute_result"
    }
   ],
   "source": [
    "df.describe()"
   ]
  },
  {
   "cell_type": "code",
   "execution_count": 43,
   "id": "046629bb",
   "metadata": {},
   "outputs": [],
   "source": [
    "df.drop([\"Loan ID\",\"Customer ID\"], axis = 1, inplace = True)"
   ]
  },
  {
   "cell_type": "raw",
   "id": "04aadb2f",
   "metadata": {},
   "source": [
    "df1[\"Current_Loan_Amount\", \"Credit_Score\", \"Term\", \n",
    "   \"Years_in_current_job\", \"Home_Ownership\",\"Annual_Income\", \n",
    "   \"Purpose\", \"Monthly_Debt\", \"Years_of_Credit_History\", \n",
    "   \"Months_since_last_delinquent\", \"Number_of_Open_Accounts\", \n",
    "   \"Number_of_Credit_Problems\", \"Current_Credit_Balance\", \n",
    "   \"Maximum_Open_Credit\", \"Bankruptcies\", \"Tax_Liens\", \"Loan_Status\"] = df"
   ]
  },
  {
   "cell_type": "markdown",
   "id": "aae911ee",
   "metadata": {},
   "source": [
    "## Encoding"
   ]
  },
  {
   "cell_type": "markdown",
   "id": "86ed5b29",
   "metadata": {},
   "source": [
    "### Loan Status"
   ]
  },
  {
   "cell_type": "code",
   "execution_count": 44,
   "id": "8ee325f6",
   "metadata": {},
   "outputs": [],
   "source": [
    "le = LabelEncoder()\n",
    "df[\"Loan Status\"] = le.fit_transform(df[\"Loan Status\"])"
   ]
  },
  {
   "cell_type": "markdown",
   "id": "83e0b80b",
   "metadata": {},
   "source": [
    "### Term"
   ]
  },
  {
   "cell_type": "code",
   "execution_count": 45,
   "id": "9997d0d5",
   "metadata": {},
   "outputs": [],
   "source": [
    "df[\"Term\"].replace({\"Short Term\":0,\"Long Term\":1}, inplace = True)"
   ]
  },
  {
   "cell_type": "markdown",
   "id": "e836f049",
   "metadata": {},
   "source": [
    "### Home Ownership"
   ]
  },
  {
   "cell_type": "code",
   "execution_count": 46,
   "id": "6c47c2e0",
   "metadata": {},
   "outputs": [],
   "source": [
    "df[\"Home Ownership\"].replace({\"Home Mortgage\":0,\n",
    "                    \"Rent\":1, \"Own Home\":2, \n",
    "                    \"HaveMortgage\":3}, inplace = True)"
   ]
  },
  {
   "cell_type": "markdown",
   "id": "e8d97629",
   "metadata": {},
   "source": [
    "### Purpose"
   ]
  },
  {
   "cell_type": "code",
   "execution_count": 47,
   "id": "2685e52a",
   "metadata": {},
   "outputs": [
    {
     "data": {
      "text/html": [
       "<div>\n",
       "<style scoped>\n",
       "    .dataframe tbody tr th:only-of-type {\n",
       "        vertical-align: middle;\n",
       "    }\n",
       "\n",
       "    .dataframe tbody tr th {\n",
       "        vertical-align: top;\n",
       "    }\n",
       "\n",
       "    .dataframe thead th {\n",
       "        text-align: right;\n",
       "    }\n",
       "</style>\n",
       "<table border=\"1\" class=\"dataframe\">\n",
       "  <thead>\n",
       "    <tr style=\"text-align: right;\">\n",
       "      <th></th>\n",
       "      <th>Debt Consolidation</th>\n",
       "      <th>Home Improvements</th>\n",
       "      <th>other</th>\n",
       "      <th>Business Loan</th>\n",
       "      <th>small_business</th>\n",
       "      <th>Other</th>\n",
       "      <th>moving</th>\n",
       "      <th>Buy a Car</th>\n",
       "      <th>Medical Bills</th>\n",
       "      <th>Buy House</th>\n",
       "      <th>Take a Trip</th>\n",
       "      <th>vacation</th>\n",
       "      <th>major_purchase</th>\n",
       "      <th>Educational Expenses</th>\n",
       "      <th>wedding</th>\n",
       "      <th>renewable_energy</th>\n",
       "    </tr>\n",
       "  </thead>\n",
       "  <tbody>\n",
       "    <tr>\n",
       "      <th>0</th>\n",
       "      <td>0.0</td>\n",
       "      <td>0.0</td>\n",
       "      <td>0.0</td>\n",
       "      <td>1.0</td>\n",
       "      <td>0.0</td>\n",
       "      <td>0.0</td>\n",
       "      <td>0.0</td>\n",
       "      <td>0.0</td>\n",
       "      <td>0.0</td>\n",
       "      <td>0.0</td>\n",
       "      <td>0.0</td>\n",
       "      <td>0.0</td>\n",
       "      <td>0.0</td>\n",
       "      <td>0.0</td>\n",
       "      <td>0.0</td>\n",
       "      <td>0.0</td>\n",
       "    </tr>\n",
       "    <tr>\n",
       "      <th>1</th>\n",
       "      <td>0.0</td>\n",
       "      <td>0.0</td>\n",
       "      <td>0.0</td>\n",
       "      <td>1.0</td>\n",
       "      <td>0.0</td>\n",
       "      <td>0.0</td>\n",
       "      <td>0.0</td>\n",
       "      <td>0.0</td>\n",
       "      <td>0.0</td>\n",
       "      <td>0.0</td>\n",
       "      <td>0.0</td>\n",
       "      <td>0.0</td>\n",
       "      <td>0.0</td>\n",
       "      <td>0.0</td>\n",
       "      <td>0.0</td>\n",
       "      <td>0.0</td>\n",
       "    </tr>\n",
       "    <tr>\n",
       "      <th>2</th>\n",
       "      <td>0.0</td>\n",
       "      <td>0.0</td>\n",
       "      <td>0.0</td>\n",
       "      <td>0.0</td>\n",
       "      <td>0.0</td>\n",
       "      <td>1.0</td>\n",
       "      <td>0.0</td>\n",
       "      <td>0.0</td>\n",
       "      <td>0.0</td>\n",
       "      <td>0.0</td>\n",
       "      <td>0.0</td>\n",
       "      <td>0.0</td>\n",
       "      <td>0.0</td>\n",
       "      <td>0.0</td>\n",
       "      <td>0.0</td>\n",
       "      <td>0.0</td>\n",
       "    </tr>\n",
       "    <tr>\n",
       "      <th>3</th>\n",
       "      <td>0.0</td>\n",
       "      <td>0.0</td>\n",
       "      <td>0.0</td>\n",
       "      <td>1.0</td>\n",
       "      <td>0.0</td>\n",
       "      <td>0.0</td>\n",
       "      <td>0.0</td>\n",
       "      <td>0.0</td>\n",
       "      <td>0.0</td>\n",
       "      <td>0.0</td>\n",
       "      <td>0.0</td>\n",
       "      <td>0.0</td>\n",
       "      <td>0.0</td>\n",
       "      <td>0.0</td>\n",
       "      <td>0.0</td>\n",
       "      <td>0.0</td>\n",
       "    </tr>\n",
       "    <tr>\n",
       "      <th>4</th>\n",
       "      <td>0.0</td>\n",
       "      <td>0.0</td>\n",
       "      <td>0.0</td>\n",
       "      <td>0.0</td>\n",
       "      <td>0.0</td>\n",
       "      <td>1.0</td>\n",
       "      <td>0.0</td>\n",
       "      <td>0.0</td>\n",
       "      <td>0.0</td>\n",
       "      <td>0.0</td>\n",
       "      <td>0.0</td>\n",
       "      <td>0.0</td>\n",
       "      <td>0.0</td>\n",
       "      <td>0.0</td>\n",
       "      <td>0.0</td>\n",
       "      <td>0.0</td>\n",
       "    </tr>\n",
       "    <tr>\n",
       "      <th>...</th>\n",
       "      <td>...</td>\n",
       "      <td>...</td>\n",
       "      <td>...</td>\n",
       "      <td>...</td>\n",
       "      <td>...</td>\n",
       "      <td>...</td>\n",
       "      <td>...</td>\n",
       "      <td>...</td>\n",
       "      <td>...</td>\n",
       "      <td>...</td>\n",
       "      <td>...</td>\n",
       "      <td>...</td>\n",
       "      <td>...</td>\n",
       "      <td>...</td>\n",
       "      <td>...</td>\n",
       "      <td>...</td>\n",
       "    </tr>\n",
       "    <tr>\n",
       "      <th>105233</th>\n",
       "      <td>0.0</td>\n",
       "      <td>0.0</td>\n",
       "      <td>0.0</td>\n",
       "      <td>1.0</td>\n",
       "      <td>0.0</td>\n",
       "      <td>0.0</td>\n",
       "      <td>0.0</td>\n",
       "      <td>0.0</td>\n",
       "      <td>0.0</td>\n",
       "      <td>0.0</td>\n",
       "      <td>0.0</td>\n",
       "      <td>0.0</td>\n",
       "      <td>0.0</td>\n",
       "      <td>0.0</td>\n",
       "      <td>0.0</td>\n",
       "      <td>0.0</td>\n",
       "    </tr>\n",
       "    <tr>\n",
       "      <th>105234</th>\n",
       "      <td>0.0</td>\n",
       "      <td>0.0</td>\n",
       "      <td>0.0</td>\n",
       "      <td>1.0</td>\n",
       "      <td>0.0</td>\n",
       "      <td>0.0</td>\n",
       "      <td>0.0</td>\n",
       "      <td>0.0</td>\n",
       "      <td>0.0</td>\n",
       "      <td>0.0</td>\n",
       "      <td>0.0</td>\n",
       "      <td>0.0</td>\n",
       "      <td>0.0</td>\n",
       "      <td>0.0</td>\n",
       "      <td>0.0</td>\n",
       "      <td>0.0</td>\n",
       "    </tr>\n",
       "    <tr>\n",
       "      <th>105235</th>\n",
       "      <td>0.0</td>\n",
       "      <td>0.0</td>\n",
       "      <td>0.0</td>\n",
       "      <td>1.0</td>\n",
       "      <td>0.0</td>\n",
       "      <td>0.0</td>\n",
       "      <td>0.0</td>\n",
       "      <td>0.0</td>\n",
       "      <td>0.0</td>\n",
       "      <td>0.0</td>\n",
       "      <td>0.0</td>\n",
       "      <td>0.0</td>\n",
       "      <td>0.0</td>\n",
       "      <td>0.0</td>\n",
       "      <td>0.0</td>\n",
       "      <td>0.0</td>\n",
       "    </tr>\n",
       "    <tr>\n",
       "      <th>105236</th>\n",
       "      <td>0.0</td>\n",
       "      <td>0.0</td>\n",
       "      <td>0.0</td>\n",
       "      <td>1.0</td>\n",
       "      <td>0.0</td>\n",
       "      <td>0.0</td>\n",
       "      <td>0.0</td>\n",
       "      <td>0.0</td>\n",
       "      <td>0.0</td>\n",
       "      <td>0.0</td>\n",
       "      <td>0.0</td>\n",
       "      <td>0.0</td>\n",
       "      <td>0.0</td>\n",
       "      <td>0.0</td>\n",
       "      <td>0.0</td>\n",
       "      <td>0.0</td>\n",
       "    </tr>\n",
       "    <tr>\n",
       "      <th>105237</th>\n",
       "      <td>0.0</td>\n",
       "      <td>0.0</td>\n",
       "      <td>0.0</td>\n",
       "      <td>1.0</td>\n",
       "      <td>0.0</td>\n",
       "      <td>0.0</td>\n",
       "      <td>0.0</td>\n",
       "      <td>0.0</td>\n",
       "      <td>0.0</td>\n",
       "      <td>0.0</td>\n",
       "      <td>0.0</td>\n",
       "      <td>0.0</td>\n",
       "      <td>0.0</td>\n",
       "      <td>0.0</td>\n",
       "      <td>0.0</td>\n",
       "      <td>0.0</td>\n",
       "    </tr>\n",
       "  </tbody>\n",
       "</table>\n",
       "<p>105238 rows × 16 columns</p>\n",
       "</div>"
      ],
      "text/plain": [
       "        Debt Consolidation  Home Improvements  other  Business Loan  \\\n",
       "0                      0.0                0.0    0.0            1.0   \n",
       "1                      0.0                0.0    0.0            1.0   \n",
       "2                      0.0                0.0    0.0            0.0   \n",
       "3                      0.0                0.0    0.0            1.0   \n",
       "4                      0.0                0.0    0.0            0.0   \n",
       "...                    ...                ...    ...            ...   \n",
       "105233                 0.0                0.0    0.0            1.0   \n",
       "105234                 0.0                0.0    0.0            1.0   \n",
       "105235                 0.0                0.0    0.0            1.0   \n",
       "105236                 0.0                0.0    0.0            1.0   \n",
       "105237                 0.0                0.0    0.0            1.0   \n",
       "\n",
       "        small_business  Other  moving  Buy a Car  Medical Bills  Buy House  \\\n",
       "0                  0.0    0.0     0.0        0.0            0.0        0.0   \n",
       "1                  0.0    0.0     0.0        0.0            0.0        0.0   \n",
       "2                  0.0    1.0     0.0        0.0            0.0        0.0   \n",
       "3                  0.0    0.0     0.0        0.0            0.0        0.0   \n",
       "4                  0.0    1.0     0.0        0.0            0.0        0.0   \n",
       "...                ...    ...     ...        ...            ...        ...   \n",
       "105233             0.0    0.0     0.0        0.0            0.0        0.0   \n",
       "105234             0.0    0.0     0.0        0.0            0.0        0.0   \n",
       "105235             0.0    0.0     0.0        0.0            0.0        0.0   \n",
       "105236             0.0    0.0     0.0        0.0            0.0        0.0   \n",
       "105237             0.0    0.0     0.0        0.0            0.0        0.0   \n",
       "\n",
       "        Take a Trip  vacation  major_purchase  Educational Expenses  wedding  \\\n",
       "0               0.0       0.0             0.0                   0.0      0.0   \n",
       "1               0.0       0.0             0.0                   0.0      0.0   \n",
       "2               0.0       0.0             0.0                   0.0      0.0   \n",
       "3               0.0       0.0             0.0                   0.0      0.0   \n",
       "4               0.0       0.0             0.0                   0.0      0.0   \n",
       "...             ...       ...             ...                   ...      ...   \n",
       "105233          0.0       0.0             0.0                   0.0      0.0   \n",
       "105234          0.0       0.0             0.0                   0.0      0.0   \n",
       "105235          0.0       0.0             0.0                   0.0      0.0   \n",
       "105236          0.0       0.0             0.0                   0.0      0.0   \n",
       "105237          0.0       0.0             0.0                   0.0      0.0   \n",
       "\n",
       "        renewable_energy  \n",
       "0                    0.0  \n",
       "1                    0.0  \n",
       "2                    0.0  \n",
       "3                    0.0  \n",
       "4                    0.0  \n",
       "...                  ...  \n",
       "105233               0.0  \n",
       "105234               0.0  \n",
       "105235               0.0  \n",
       "105236               0.0  \n",
       "105237               0.0  \n",
       "\n",
       "[105238 rows x 16 columns]"
      ]
     },
     "execution_count": 47,
     "metadata": {},
     "output_type": "execute_result"
    }
   ],
   "source": [
    "ohe = OneHotEncoder()\n",
    "ar1= ohe.fit_transform(df[[\"Purpose\"]]).toarray()\n",
    "df1= pd.DataFrame(ar1,columns=df[\"Purpose\"].unique())\n",
    "df1"
   ]
  },
  {
   "cell_type": "code",
   "execution_count": 48,
   "id": "ff74e5be",
   "metadata": {},
   "outputs": [],
   "source": [
    "df2 = df.join(df1)"
   ]
  },
  {
   "cell_type": "code",
   "execution_count": 49,
   "id": "a42ef4ef",
   "metadata": {},
   "outputs": [
    {
     "data": {
      "text/html": [
       "<div>\n",
       "<style scoped>\n",
       "    .dataframe tbody tr th:only-of-type {\n",
       "        vertical-align: middle;\n",
       "    }\n",
       "\n",
       "    .dataframe tbody tr th {\n",
       "        vertical-align: top;\n",
       "    }\n",
       "\n",
       "    .dataframe thead th {\n",
       "        text-align: right;\n",
       "    }\n",
       "</style>\n",
       "<table border=\"1\" class=\"dataframe\">\n",
       "  <thead>\n",
       "    <tr style=\"text-align: right;\">\n",
       "      <th></th>\n",
       "      <th>Loan Status</th>\n",
       "      <th>Current Loan Amount</th>\n",
       "      <th>Term</th>\n",
       "      <th>Credit Score</th>\n",
       "      <th>Years in current job</th>\n",
       "      <th>Home Ownership</th>\n",
       "      <th>Annual Income</th>\n",
       "      <th>Monthly Debt</th>\n",
       "      <th>Years of Credit History</th>\n",
       "      <th>Months since last delinquent</th>\n",
       "      <th>...</th>\n",
       "      <th>moving</th>\n",
       "      <th>Buy a Car</th>\n",
       "      <th>Medical Bills</th>\n",
       "      <th>Buy House</th>\n",
       "      <th>Take a Trip</th>\n",
       "      <th>vacation</th>\n",
       "      <th>major_purchase</th>\n",
       "      <th>Educational Expenses</th>\n",
       "      <th>wedding</th>\n",
       "      <th>renewable_energy</th>\n",
       "    </tr>\n",
       "  </thead>\n",
       "  <tbody>\n",
       "    <tr>\n",
       "      <th>0</th>\n",
       "      <td>1</td>\n",
       "      <td>12232</td>\n",
       "      <td>0</td>\n",
       "      <td>728.0</td>\n",
       "      <td>&lt; 1 year</td>\n",
       "      <td>1</td>\n",
       "      <td>46643.0</td>\n",
       "      <td>777.39</td>\n",
       "      <td>18.0</td>\n",
       "      <td>10.0</td>\n",
       "      <td>...</td>\n",
       "      <td>0.0</td>\n",
       "      <td>0.0</td>\n",
       "      <td>0.0</td>\n",
       "      <td>0.0</td>\n",
       "      <td>0.0</td>\n",
       "      <td>0.0</td>\n",
       "      <td>0.0</td>\n",
       "      <td>0.0</td>\n",
       "      <td>0.0</td>\n",
       "      <td>0.0</td>\n",
       "    </tr>\n",
       "    <tr>\n",
       "      <th>1</th>\n",
       "      <td>1</td>\n",
       "      <td>25014</td>\n",
       "      <td>1</td>\n",
       "      <td>733.0</td>\n",
       "      <td>10+ years</td>\n",
       "      <td>0</td>\n",
       "      <td>81099.0</td>\n",
       "      <td>892.09</td>\n",
       "      <td>26.7</td>\n",
       "      <td>NaN</td>\n",
       "      <td>...</td>\n",
       "      <td>0.0</td>\n",
       "      <td>0.0</td>\n",
       "      <td>0.0</td>\n",
       "      <td>0.0</td>\n",
       "      <td>0.0</td>\n",
       "      <td>0.0</td>\n",
       "      <td>0.0</td>\n",
       "      <td>0.0</td>\n",
       "      <td>0.0</td>\n",
       "      <td>0.0</td>\n",
       "    </tr>\n",
       "    <tr>\n",
       "      <th>2</th>\n",
       "      <td>1</td>\n",
       "      <td>16117</td>\n",
       "      <td>0</td>\n",
       "      <td>724.0</td>\n",
       "      <td>9 years</td>\n",
       "      <td>0</td>\n",
       "      <td>60438.0</td>\n",
       "      <td>1244.02</td>\n",
       "      <td>16.7</td>\n",
       "      <td>32.0</td>\n",
       "      <td>...</td>\n",
       "      <td>0.0</td>\n",
       "      <td>0.0</td>\n",
       "      <td>0.0</td>\n",
       "      <td>0.0</td>\n",
       "      <td>0.0</td>\n",
       "      <td>0.0</td>\n",
       "      <td>0.0</td>\n",
       "      <td>0.0</td>\n",
       "      <td>0.0</td>\n",
       "      <td>0.0</td>\n",
       "    </tr>\n",
       "    <tr>\n",
       "      <th>3</th>\n",
       "      <td>1</td>\n",
       "      <td>11716</td>\n",
       "      <td>0</td>\n",
       "      <td>740.0</td>\n",
       "      <td>3 years</td>\n",
       "      <td>1</td>\n",
       "      <td>34171.0</td>\n",
       "      <td>990.94</td>\n",
       "      <td>10.0</td>\n",
       "      <td>NaN</td>\n",
       "      <td>...</td>\n",
       "      <td>0.0</td>\n",
       "      <td>0.0</td>\n",
       "      <td>0.0</td>\n",
       "      <td>0.0</td>\n",
       "      <td>0.0</td>\n",
       "      <td>0.0</td>\n",
       "      <td>0.0</td>\n",
       "      <td>0.0</td>\n",
       "      <td>0.0</td>\n",
       "      <td>0.0</td>\n",
       "    </tr>\n",
       "    <tr>\n",
       "      <th>4</th>\n",
       "      <td>1</td>\n",
       "      <td>9789</td>\n",
       "      <td>1</td>\n",
       "      <td>686.0</td>\n",
       "      <td>10+ years</td>\n",
       "      <td>0</td>\n",
       "      <td>47003.0</td>\n",
       "      <td>503.71</td>\n",
       "      <td>16.7</td>\n",
       "      <td>25.0</td>\n",
       "      <td>...</td>\n",
       "      <td>0.0</td>\n",
       "      <td>0.0</td>\n",
       "      <td>0.0</td>\n",
       "      <td>0.0</td>\n",
       "      <td>0.0</td>\n",
       "      <td>0.0</td>\n",
       "      <td>0.0</td>\n",
       "      <td>0.0</td>\n",
       "      <td>0.0</td>\n",
       "      <td>0.0</td>\n",
       "    </tr>\n",
       "    <tr>\n",
       "      <th>...</th>\n",
       "      <td>...</td>\n",
       "      <td>...</td>\n",
       "      <td>...</td>\n",
       "      <td>...</td>\n",
       "      <td>...</td>\n",
       "      <td>...</td>\n",
       "      <td>...</td>\n",
       "      <td>...</td>\n",
       "      <td>...</td>\n",
       "      <td>...</td>\n",
       "      <td>...</td>\n",
       "      <td>...</td>\n",
       "      <td>...</td>\n",
       "      <td>...</td>\n",
       "      <td>...</td>\n",
       "      <td>...</td>\n",
       "      <td>...</td>\n",
       "      <td>...</td>\n",
       "      <td>...</td>\n",
       "      <td>...</td>\n",
       "      <td>...</td>\n",
       "    </tr>\n",
       "    <tr>\n",
       "      <th>105233</th>\n",
       "      <td>0</td>\n",
       "      <td>15654</td>\n",
       "      <td>1</td>\n",
       "      <td>686.0</td>\n",
       "      <td>10+ years</td>\n",
       "      <td>1</td>\n",
       "      <td>43050.0</td>\n",
       "      <td>889.69</td>\n",
       "      <td>14.1</td>\n",
       "      <td>49.0</td>\n",
       "      <td>...</td>\n",
       "      <td>0.0</td>\n",
       "      <td>0.0</td>\n",
       "      <td>0.0</td>\n",
       "      <td>0.0</td>\n",
       "      <td>0.0</td>\n",
       "      <td>0.0</td>\n",
       "      <td>0.0</td>\n",
       "      <td>0.0</td>\n",
       "      <td>0.0</td>\n",
       "      <td>0.0</td>\n",
       "    </tr>\n",
       "    <tr>\n",
       "      <th>105234</th>\n",
       "      <td>0</td>\n",
       "      <td>15237</td>\n",
       "      <td>0</td>\n",
       "      <td>706.0</td>\n",
       "      <td>10+ years</td>\n",
       "      <td>0</td>\n",
       "      <td>60948.0</td>\n",
       "      <td>700.9</td>\n",
       "      <td>15.9</td>\n",
       "      <td>48.0</td>\n",
       "      <td>...</td>\n",
       "      <td>0.0</td>\n",
       "      <td>0.0</td>\n",
       "      <td>0.0</td>\n",
       "      <td>0.0</td>\n",
       "      <td>0.0</td>\n",
       "      <td>0.0</td>\n",
       "      <td>0.0</td>\n",
       "      <td>0.0</td>\n",
       "      <td>0.0</td>\n",
       "      <td>0.0</td>\n",
       "    </tr>\n",
       "    <tr>\n",
       "      <th>105235</th>\n",
       "      <td>0</td>\n",
       "      <td>10413</td>\n",
       "      <td>0</td>\n",
       "      <td>719.0</td>\n",
       "      <td>5 years</td>\n",
       "      <td>0</td>\n",
       "      <td>66945.0</td>\n",
       "      <td>1210.59</td>\n",
       "      <td>8.7</td>\n",
       "      <td>NaN</td>\n",
       "      <td>...</td>\n",
       "      <td>0.0</td>\n",
       "      <td>0.0</td>\n",
       "      <td>0.0</td>\n",
       "      <td>0.0</td>\n",
       "      <td>0.0</td>\n",
       "      <td>0.0</td>\n",
       "      <td>0.0</td>\n",
       "      <td>0.0</td>\n",
       "      <td>0.0</td>\n",
       "      <td>0.0</td>\n",
       "    </tr>\n",
       "    <tr>\n",
       "      <th>105236</th>\n",
       "      <td>0</td>\n",
       "      <td>34447</td>\n",
       "      <td>0</td>\n",
       "      <td>626.0</td>\n",
       "      <td>10+ years</td>\n",
       "      <td>0</td>\n",
       "      <td>78736.0</td>\n",
       "      <td>1476.3</td>\n",
       "      <td>30.4</td>\n",
       "      <td>9.0</td>\n",
       "      <td>...</td>\n",
       "      <td>0.0</td>\n",
       "      <td>0.0</td>\n",
       "      <td>0.0</td>\n",
       "      <td>0.0</td>\n",
       "      <td>0.0</td>\n",
       "      <td>0.0</td>\n",
       "      <td>0.0</td>\n",
       "      <td>0.0</td>\n",
       "      <td>0.0</td>\n",
       "      <td>0.0</td>\n",
       "    </tr>\n",
       "    <tr>\n",
       "      <th>105237</th>\n",
       "      <td>0</td>\n",
       "      <td>9209</td>\n",
       "      <td>1</td>\n",
       "      <td>708.0</td>\n",
       "      <td>&lt; 1 year</td>\n",
       "      <td>2</td>\n",
       "      <td>123454.0</td>\n",
       "      <td>668.71</td>\n",
       "      <td>20.1</td>\n",
       "      <td>16.0</td>\n",
       "      <td>...</td>\n",
       "      <td>0.0</td>\n",
       "      <td>0.0</td>\n",
       "      <td>0.0</td>\n",
       "      <td>0.0</td>\n",
       "      <td>0.0</td>\n",
       "      <td>0.0</td>\n",
       "      <td>0.0</td>\n",
       "      <td>0.0</td>\n",
       "      <td>0.0</td>\n",
       "      <td>0.0</td>\n",
       "    </tr>\n",
       "  </tbody>\n",
       "</table>\n",
       "<p>105238 rows × 32 columns</p>\n",
       "</div>"
      ],
      "text/plain": [
       "        Loan Status  Current Loan Amount  Term  Credit Score  \\\n",
       "0                 1                12232     0         728.0   \n",
       "1                 1                25014     1         733.0   \n",
       "2                 1                16117     0         724.0   \n",
       "3                 1                11716     0         740.0   \n",
       "4                 1                 9789     1         686.0   \n",
       "...             ...                  ...   ...           ...   \n",
       "105233            0                15654     1         686.0   \n",
       "105234            0                15237     0         706.0   \n",
       "105235            0                10413     0         719.0   \n",
       "105236            0                34447     0         626.0   \n",
       "105237            0                 9209     1         708.0   \n",
       "\n",
       "       Years in current job  Home Ownership  Annual Income Monthly Debt  \\\n",
       "0                  < 1 year               1        46643.0       777.39   \n",
       "1                 10+ years               0        81099.0       892.09   \n",
       "2                   9 years               0        60438.0      1244.02   \n",
       "3                   3 years               1        34171.0       990.94   \n",
       "4                 10+ years               0        47003.0       503.71   \n",
       "...                     ...             ...            ...          ...   \n",
       "105233            10+ years               1        43050.0       889.69   \n",
       "105234            10+ years               0        60948.0        700.9   \n",
       "105235              5 years               0        66945.0      1210.59   \n",
       "105236            10+ years               0        78736.0       1476.3   \n",
       "105237             < 1 year               2       123454.0       668.71   \n",
       "\n",
       "        Years of Credit History  Months since last delinquent  ...  moving  \\\n",
       "0                          18.0                          10.0  ...     0.0   \n",
       "1                          26.7                           NaN  ...     0.0   \n",
       "2                          16.7                          32.0  ...     0.0   \n",
       "3                          10.0                           NaN  ...     0.0   \n",
       "4                          16.7                          25.0  ...     0.0   \n",
       "...                         ...                           ...  ...     ...   \n",
       "105233                     14.1                          49.0  ...     0.0   \n",
       "105234                     15.9                          48.0  ...     0.0   \n",
       "105235                      8.7                           NaN  ...     0.0   \n",
       "105236                     30.4                           9.0  ...     0.0   \n",
       "105237                     20.1                          16.0  ...     0.0   \n",
       "\n",
       "        Buy a Car  Medical Bills Buy House  Take a Trip  vacation  \\\n",
       "0             0.0            0.0       0.0          0.0       0.0   \n",
       "1             0.0            0.0       0.0          0.0       0.0   \n",
       "2             0.0            0.0       0.0          0.0       0.0   \n",
       "3             0.0            0.0       0.0          0.0       0.0   \n",
       "4             0.0            0.0       0.0          0.0       0.0   \n",
       "...           ...            ...       ...          ...       ...   \n",
       "105233        0.0            0.0       0.0          0.0       0.0   \n",
       "105234        0.0            0.0       0.0          0.0       0.0   \n",
       "105235        0.0            0.0       0.0          0.0       0.0   \n",
       "105236        0.0            0.0       0.0          0.0       0.0   \n",
       "105237        0.0            0.0       0.0          0.0       0.0   \n",
       "\n",
       "        major_purchase  Educational Expenses  wedding  renewable_energy  \n",
       "0                  0.0                   0.0      0.0               0.0  \n",
       "1                  0.0                   0.0      0.0               0.0  \n",
       "2                  0.0                   0.0      0.0               0.0  \n",
       "3                  0.0                   0.0      0.0               0.0  \n",
       "4                  0.0                   0.0      0.0               0.0  \n",
       "...                ...                   ...      ...               ...  \n",
       "105233             0.0                   0.0      0.0               0.0  \n",
       "105234             0.0                   0.0      0.0               0.0  \n",
       "105235             0.0                   0.0      0.0               0.0  \n",
       "105236             0.0                   0.0      0.0               0.0  \n",
       "105237             0.0                   0.0      0.0               0.0  \n",
       "\n",
       "[105238 rows x 32 columns]"
      ]
     },
     "execution_count": 49,
     "metadata": {},
     "output_type": "execute_result"
    }
   ],
   "source": [
    "df2.drop([\"Purpose\"], axis = 1, inplace = True)\n",
    "df2"
   ]
  },
  {
   "cell_type": "code",
   "execution_count": 50,
   "id": "6a4b05ec",
   "metadata": {},
   "outputs": [
    {
     "name": "stdout",
     "output_type": "stream",
     "text": [
      "<class 'pandas.core.frame.DataFrame'>\n",
      "RangeIndex: 105238 entries, 0 to 105237\n",
      "Data columns (total 32 columns):\n",
      " #   Column                        Non-Null Count   Dtype  \n",
      "---  ------                        --------------   -----  \n",
      " 0   Loan Status                   105238 non-null  int64  \n",
      " 1   Current Loan Amount           105238 non-null  int64  \n",
      " 2   Term                          105238 non-null  int64  \n",
      " 3   Credit Score                  83900 non-null   float64\n",
      " 4   Years in current job          100788 non-null  object \n",
      " 5   Home Ownership                105238 non-null  int64  \n",
      " 6   Annual Income                 83900 non-null   float64\n",
      " 7   Monthly Debt                  105238 non-null  object \n",
      " 8   Years of Credit History       105238 non-null  float64\n",
      " 9   Months since last delinquent  49003 non-null   float64\n",
      " 10  Number of Open Accounts       105238 non-null  int64  \n",
      " 11  Number of Credit Problems     105238 non-null  int64  \n",
      " 12  Current Credit Balance        105238 non-null  int64  \n",
      " 13  Maximum Open Credit           105238 non-null  object \n",
      " 14  Bankruptcies                  105020 non-null  float64\n",
      " 15  Tax Liens                     105227 non-null  float64\n",
      " 16  Debt Consolidation            105238 non-null  float64\n",
      " 17  Home Improvements             105238 non-null  float64\n",
      " 18  other                         105238 non-null  float64\n",
      " 19  Business Loan                 105238 non-null  float64\n",
      " 20  small_business                105238 non-null  float64\n",
      " 21  Other                         105238 non-null  float64\n",
      " 22  moving                        105238 non-null  float64\n",
      " 23  Buy a Car                     105238 non-null  float64\n",
      " 24  Medical Bills                 105238 non-null  float64\n",
      " 25  Buy House                     105238 non-null  float64\n",
      " 26  Take a Trip                   105238 non-null  float64\n",
      " 27  vacation                      105238 non-null  float64\n",
      " 28  major_purchase                105238 non-null  float64\n",
      " 29  Educational Expenses          105238 non-null  float64\n",
      " 30  wedding                       105238 non-null  float64\n",
      " 31  renewable_energy              105238 non-null  float64\n",
      "dtypes: float64(22), int64(7), object(3)\n",
      "memory usage: 25.7+ MB\n"
     ]
    }
   ],
   "source": [
    "df2.info()"
   ]
  },
  {
   "cell_type": "markdown",
   "id": "5331307a",
   "metadata": {},
   "source": [
    "### Years in current job"
   ]
  },
  {
   "cell_type": "code",
   "execution_count": 51,
   "id": "594c6264",
   "metadata": {},
   "outputs": [
    {
     "data": {
      "text/plain": [
       "0    10+ years\n",
       "Name: Years in current job, dtype: object"
      ]
     },
     "execution_count": 51,
     "metadata": {},
     "output_type": "execute_result"
    }
   ],
   "source": [
    "df2[\"Years in current job\"].mode()"
   ]
  },
  {
   "cell_type": "code",
   "execution_count": null,
   "id": "9f7fe4ca",
   "metadata": {},
   "outputs": [],
   "source": []
  },
  {
   "cell_type": "code",
   "execution_count": null,
   "id": "d2714ab7",
   "metadata": {},
   "outputs": [],
   "source": []
  },
  {
   "cell_type": "markdown",
   "id": "ad4e54f5",
   "metadata": {},
   "source": [
    "### Bankruptcies and Tax Liens"
   ]
  },
  {
   "cell_type": "code",
   "execution_count": 52,
   "id": "60ee9e37",
   "metadata": {},
   "outputs": [],
   "source": [
    "mode1=df2[\"Bankruptcies\"].mode()[0]\n",
    "mode2 = df2[\"Tax Liens\"].mode()[0]\n",
    "\n",
    "df2[\"Bankruptcies\"].fillna(mode1,inplace= True)\n",
    "df2[\"Tax Liens\"].fillna(mode2,inplace= True)"
   ]
  },
  {
   "cell_type": "code",
   "execution_count": 53,
   "id": "8d530c0d",
   "metadata": {},
   "outputs": [
    {
     "data": {
      "text/html": [
       "<div>\n",
       "<style scoped>\n",
       "    .dataframe tbody tr th:only-of-type {\n",
       "        vertical-align: middle;\n",
       "    }\n",
       "\n",
       "    .dataframe tbody tr th {\n",
       "        vertical-align: top;\n",
       "    }\n",
       "\n",
       "    .dataframe thead th {\n",
       "        text-align: right;\n",
       "    }\n",
       "</style>\n",
       "<table border=\"1\" class=\"dataframe\">\n",
       "  <thead>\n",
       "    <tr style=\"text-align: right;\">\n",
       "      <th></th>\n",
       "      <th>Loan Status</th>\n",
       "      <th>Current Loan Amount</th>\n",
       "      <th>Term</th>\n",
       "      <th>Credit Score</th>\n",
       "      <th>Years in current job</th>\n",
       "      <th>Home Ownership</th>\n",
       "      <th>Annual Income</th>\n",
       "      <th>Monthly Debt</th>\n",
       "      <th>Years of Credit History</th>\n",
       "      <th>Months since last delinquent</th>\n",
       "      <th>...</th>\n",
       "      <th>moving</th>\n",
       "      <th>Buy a Car</th>\n",
       "      <th>Medical Bills</th>\n",
       "      <th>Buy House</th>\n",
       "      <th>Take a Trip</th>\n",
       "      <th>vacation</th>\n",
       "      <th>major_purchase</th>\n",
       "      <th>Educational Expenses</th>\n",
       "      <th>wedding</th>\n",
       "      <th>renewable_energy</th>\n",
       "    </tr>\n",
       "  </thead>\n",
       "  <tbody>\n",
       "    <tr>\n",
       "      <th>0</th>\n",
       "      <td>1</td>\n",
       "      <td>12232</td>\n",
       "      <td>0</td>\n",
       "      <td>728.0</td>\n",
       "      <td>&lt; 1 year</td>\n",
       "      <td>1</td>\n",
       "      <td>46643.0</td>\n",
       "      <td>777.39</td>\n",
       "      <td>18.0</td>\n",
       "      <td>10.0</td>\n",
       "      <td>...</td>\n",
       "      <td>0.0</td>\n",
       "      <td>0.0</td>\n",
       "      <td>0.0</td>\n",
       "      <td>0.0</td>\n",
       "      <td>0.0</td>\n",
       "      <td>0.0</td>\n",
       "      <td>0.0</td>\n",
       "      <td>0.0</td>\n",
       "      <td>0.0</td>\n",
       "      <td>0.0</td>\n",
       "    </tr>\n",
       "    <tr>\n",
       "      <th>1</th>\n",
       "      <td>1</td>\n",
       "      <td>25014</td>\n",
       "      <td>1</td>\n",
       "      <td>733.0</td>\n",
       "      <td>10+ years</td>\n",
       "      <td>0</td>\n",
       "      <td>81099.0</td>\n",
       "      <td>892.09</td>\n",
       "      <td>26.7</td>\n",
       "      <td>NaN</td>\n",
       "      <td>...</td>\n",
       "      <td>0.0</td>\n",
       "      <td>0.0</td>\n",
       "      <td>0.0</td>\n",
       "      <td>0.0</td>\n",
       "      <td>0.0</td>\n",
       "      <td>0.0</td>\n",
       "      <td>0.0</td>\n",
       "      <td>0.0</td>\n",
       "      <td>0.0</td>\n",
       "      <td>0.0</td>\n",
       "    </tr>\n",
       "    <tr>\n",
       "      <th>2</th>\n",
       "      <td>1</td>\n",
       "      <td>16117</td>\n",
       "      <td>0</td>\n",
       "      <td>724.0</td>\n",
       "      <td>9 years</td>\n",
       "      <td>0</td>\n",
       "      <td>60438.0</td>\n",
       "      <td>1244.02</td>\n",
       "      <td>16.7</td>\n",
       "      <td>32.0</td>\n",
       "      <td>...</td>\n",
       "      <td>0.0</td>\n",
       "      <td>0.0</td>\n",
       "      <td>0.0</td>\n",
       "      <td>0.0</td>\n",
       "      <td>0.0</td>\n",
       "      <td>0.0</td>\n",
       "      <td>0.0</td>\n",
       "      <td>0.0</td>\n",
       "      <td>0.0</td>\n",
       "      <td>0.0</td>\n",
       "    </tr>\n",
       "    <tr>\n",
       "      <th>3</th>\n",
       "      <td>1</td>\n",
       "      <td>11716</td>\n",
       "      <td>0</td>\n",
       "      <td>740.0</td>\n",
       "      <td>3 years</td>\n",
       "      <td>1</td>\n",
       "      <td>34171.0</td>\n",
       "      <td>990.94</td>\n",
       "      <td>10.0</td>\n",
       "      <td>NaN</td>\n",
       "      <td>...</td>\n",
       "      <td>0.0</td>\n",
       "      <td>0.0</td>\n",
       "      <td>0.0</td>\n",
       "      <td>0.0</td>\n",
       "      <td>0.0</td>\n",
       "      <td>0.0</td>\n",
       "      <td>0.0</td>\n",
       "      <td>0.0</td>\n",
       "      <td>0.0</td>\n",
       "      <td>0.0</td>\n",
       "    </tr>\n",
       "    <tr>\n",
       "      <th>4</th>\n",
       "      <td>1</td>\n",
       "      <td>9789</td>\n",
       "      <td>1</td>\n",
       "      <td>686.0</td>\n",
       "      <td>10+ years</td>\n",
       "      <td>0</td>\n",
       "      <td>47003.0</td>\n",
       "      <td>503.71</td>\n",
       "      <td>16.7</td>\n",
       "      <td>25.0</td>\n",
       "      <td>...</td>\n",
       "      <td>0.0</td>\n",
       "      <td>0.0</td>\n",
       "      <td>0.0</td>\n",
       "      <td>0.0</td>\n",
       "      <td>0.0</td>\n",
       "      <td>0.0</td>\n",
       "      <td>0.0</td>\n",
       "      <td>0.0</td>\n",
       "      <td>0.0</td>\n",
       "      <td>0.0</td>\n",
       "    </tr>\n",
       "    <tr>\n",
       "      <th>...</th>\n",
       "      <td>...</td>\n",
       "      <td>...</td>\n",
       "      <td>...</td>\n",
       "      <td>...</td>\n",
       "      <td>...</td>\n",
       "      <td>...</td>\n",
       "      <td>...</td>\n",
       "      <td>...</td>\n",
       "      <td>...</td>\n",
       "      <td>...</td>\n",
       "      <td>...</td>\n",
       "      <td>...</td>\n",
       "      <td>...</td>\n",
       "      <td>...</td>\n",
       "      <td>...</td>\n",
       "      <td>...</td>\n",
       "      <td>...</td>\n",
       "      <td>...</td>\n",
       "      <td>...</td>\n",
       "      <td>...</td>\n",
       "      <td>...</td>\n",
       "    </tr>\n",
       "    <tr>\n",
       "      <th>105233</th>\n",
       "      <td>0</td>\n",
       "      <td>15654</td>\n",
       "      <td>1</td>\n",
       "      <td>686.0</td>\n",
       "      <td>10+ years</td>\n",
       "      <td>1</td>\n",
       "      <td>43050.0</td>\n",
       "      <td>889.69</td>\n",
       "      <td>14.1</td>\n",
       "      <td>49.0</td>\n",
       "      <td>...</td>\n",
       "      <td>0.0</td>\n",
       "      <td>0.0</td>\n",
       "      <td>0.0</td>\n",
       "      <td>0.0</td>\n",
       "      <td>0.0</td>\n",
       "      <td>0.0</td>\n",
       "      <td>0.0</td>\n",
       "      <td>0.0</td>\n",
       "      <td>0.0</td>\n",
       "      <td>0.0</td>\n",
       "    </tr>\n",
       "    <tr>\n",
       "      <th>105234</th>\n",
       "      <td>0</td>\n",
       "      <td>15237</td>\n",
       "      <td>0</td>\n",
       "      <td>706.0</td>\n",
       "      <td>10+ years</td>\n",
       "      <td>0</td>\n",
       "      <td>60948.0</td>\n",
       "      <td>700.9</td>\n",
       "      <td>15.9</td>\n",
       "      <td>48.0</td>\n",
       "      <td>...</td>\n",
       "      <td>0.0</td>\n",
       "      <td>0.0</td>\n",
       "      <td>0.0</td>\n",
       "      <td>0.0</td>\n",
       "      <td>0.0</td>\n",
       "      <td>0.0</td>\n",
       "      <td>0.0</td>\n",
       "      <td>0.0</td>\n",
       "      <td>0.0</td>\n",
       "      <td>0.0</td>\n",
       "    </tr>\n",
       "    <tr>\n",
       "      <th>105235</th>\n",
       "      <td>0</td>\n",
       "      <td>10413</td>\n",
       "      <td>0</td>\n",
       "      <td>719.0</td>\n",
       "      <td>5 years</td>\n",
       "      <td>0</td>\n",
       "      <td>66945.0</td>\n",
       "      <td>1210.59</td>\n",
       "      <td>8.7</td>\n",
       "      <td>NaN</td>\n",
       "      <td>...</td>\n",
       "      <td>0.0</td>\n",
       "      <td>0.0</td>\n",
       "      <td>0.0</td>\n",
       "      <td>0.0</td>\n",
       "      <td>0.0</td>\n",
       "      <td>0.0</td>\n",
       "      <td>0.0</td>\n",
       "      <td>0.0</td>\n",
       "      <td>0.0</td>\n",
       "      <td>0.0</td>\n",
       "    </tr>\n",
       "    <tr>\n",
       "      <th>105236</th>\n",
       "      <td>0</td>\n",
       "      <td>34447</td>\n",
       "      <td>0</td>\n",
       "      <td>626.0</td>\n",
       "      <td>10+ years</td>\n",
       "      <td>0</td>\n",
       "      <td>78736.0</td>\n",
       "      <td>1476.3</td>\n",
       "      <td>30.4</td>\n",
       "      <td>9.0</td>\n",
       "      <td>...</td>\n",
       "      <td>0.0</td>\n",
       "      <td>0.0</td>\n",
       "      <td>0.0</td>\n",
       "      <td>0.0</td>\n",
       "      <td>0.0</td>\n",
       "      <td>0.0</td>\n",
       "      <td>0.0</td>\n",
       "      <td>0.0</td>\n",
       "      <td>0.0</td>\n",
       "      <td>0.0</td>\n",
       "    </tr>\n",
       "    <tr>\n",
       "      <th>105237</th>\n",
       "      <td>0</td>\n",
       "      <td>9209</td>\n",
       "      <td>1</td>\n",
       "      <td>708.0</td>\n",
       "      <td>&lt; 1 year</td>\n",
       "      <td>2</td>\n",
       "      <td>123454.0</td>\n",
       "      <td>668.71</td>\n",
       "      <td>20.1</td>\n",
       "      <td>16.0</td>\n",
       "      <td>...</td>\n",
       "      <td>0.0</td>\n",
       "      <td>0.0</td>\n",
       "      <td>0.0</td>\n",
       "      <td>0.0</td>\n",
       "      <td>0.0</td>\n",
       "      <td>0.0</td>\n",
       "      <td>0.0</td>\n",
       "      <td>0.0</td>\n",
       "      <td>0.0</td>\n",
       "      <td>0.0</td>\n",
       "    </tr>\n",
       "  </tbody>\n",
       "</table>\n",
       "<p>105238 rows × 32 columns</p>\n",
       "</div>"
      ],
      "text/plain": [
       "        Loan Status  Current Loan Amount  Term  Credit Score  \\\n",
       "0                 1                12232     0         728.0   \n",
       "1                 1                25014     1         733.0   \n",
       "2                 1                16117     0         724.0   \n",
       "3                 1                11716     0         740.0   \n",
       "4                 1                 9789     1         686.0   \n",
       "...             ...                  ...   ...           ...   \n",
       "105233            0                15654     1         686.0   \n",
       "105234            0                15237     0         706.0   \n",
       "105235            0                10413     0         719.0   \n",
       "105236            0                34447     0         626.0   \n",
       "105237            0                 9209     1         708.0   \n",
       "\n",
       "       Years in current job  Home Ownership  Annual Income Monthly Debt  \\\n",
       "0                  < 1 year               1        46643.0       777.39   \n",
       "1                 10+ years               0        81099.0       892.09   \n",
       "2                   9 years               0        60438.0      1244.02   \n",
       "3                   3 years               1        34171.0       990.94   \n",
       "4                 10+ years               0        47003.0       503.71   \n",
       "...                     ...             ...            ...          ...   \n",
       "105233            10+ years               1        43050.0       889.69   \n",
       "105234            10+ years               0        60948.0        700.9   \n",
       "105235              5 years               0        66945.0      1210.59   \n",
       "105236            10+ years               0        78736.0       1476.3   \n",
       "105237             < 1 year               2       123454.0       668.71   \n",
       "\n",
       "        Years of Credit History  Months since last delinquent  ...  moving  \\\n",
       "0                          18.0                          10.0  ...     0.0   \n",
       "1                          26.7                           NaN  ...     0.0   \n",
       "2                          16.7                          32.0  ...     0.0   \n",
       "3                          10.0                           NaN  ...     0.0   \n",
       "4                          16.7                          25.0  ...     0.0   \n",
       "...                         ...                           ...  ...     ...   \n",
       "105233                     14.1                          49.0  ...     0.0   \n",
       "105234                     15.9                          48.0  ...     0.0   \n",
       "105235                      8.7                           NaN  ...     0.0   \n",
       "105236                     30.4                           9.0  ...     0.0   \n",
       "105237                     20.1                          16.0  ...     0.0   \n",
       "\n",
       "        Buy a Car  Medical Bills Buy House  Take a Trip  vacation  \\\n",
       "0             0.0            0.0       0.0          0.0       0.0   \n",
       "1             0.0            0.0       0.0          0.0       0.0   \n",
       "2             0.0            0.0       0.0          0.0       0.0   \n",
       "3             0.0            0.0       0.0          0.0       0.0   \n",
       "4             0.0            0.0       0.0          0.0       0.0   \n",
       "...           ...            ...       ...          ...       ...   \n",
       "105233        0.0            0.0       0.0          0.0       0.0   \n",
       "105234        0.0            0.0       0.0          0.0       0.0   \n",
       "105235        0.0            0.0       0.0          0.0       0.0   \n",
       "105236        0.0            0.0       0.0          0.0       0.0   \n",
       "105237        0.0            0.0       0.0          0.0       0.0   \n",
       "\n",
       "        major_purchase  Educational Expenses  wedding  renewable_energy  \n",
       "0                  0.0                   0.0      0.0               0.0  \n",
       "1                  0.0                   0.0      0.0               0.0  \n",
       "2                  0.0                   0.0      0.0               0.0  \n",
       "3                  0.0                   0.0      0.0               0.0  \n",
       "4                  0.0                   0.0      0.0               0.0  \n",
       "...                ...                   ...      ...               ...  \n",
       "105233             0.0                   0.0      0.0               0.0  \n",
       "105234             0.0                   0.0      0.0               0.0  \n",
       "105235             0.0                   0.0      0.0               0.0  \n",
       "105236             0.0                   0.0      0.0               0.0  \n",
       "105237             0.0                   0.0      0.0               0.0  \n",
       "\n",
       "[105238 rows x 32 columns]"
      ]
     },
     "execution_count": 53,
     "metadata": {},
     "output_type": "execute_result"
    }
   ],
   "source": [
    "df2"
   ]
  },
  {
   "cell_type": "code",
   "execution_count": 54,
   "id": "f6a4a4e6",
   "metadata": {},
   "outputs": [
    {
     "data": {
      "text/plain": [
       "Loan Status                         0\n",
       "Current Loan Amount                 0\n",
       "Term                                0\n",
       "Credit Score                    21338\n",
       "Years in current job             4450\n",
       "Home Ownership                      0\n",
       "Annual Income                   21338\n",
       "Monthly Debt                        0\n",
       "Years of Credit History             0\n",
       "Months since last delinquent    56235\n",
       "Number of Open Accounts             0\n",
       "Number of Credit Problems           0\n",
       "Current Credit Balance              0\n",
       "Maximum Open Credit                 0\n",
       "Bankruptcies                        0\n",
       "Tax Liens                           0\n",
       "Debt Consolidation                  0\n",
       "Home Improvements                   0\n",
       "other                               0\n",
       "Business Loan                       0\n",
       "small_business                      0\n",
       "Other                               0\n",
       "moving                              0\n",
       "Buy a Car                           0\n",
       "Medical Bills                       0\n",
       "Buy House                           0\n",
       "Take a Trip                         0\n",
       "vacation                            0\n",
       "major_purchase                      0\n",
       "Educational Expenses                0\n",
       "wedding                             0\n",
       "renewable_energy                    0\n",
       "dtype: int64"
      ]
     },
     "execution_count": 54,
     "metadata": {},
     "output_type": "execute_result"
    }
   ],
   "source": [
    "df2.isna().sum()"
   ]
  },
  {
   "cell_type": "markdown",
   "id": "f70d6b10",
   "metadata": {},
   "source": [
    "### Years in current job"
   ]
  },
  {
   "cell_type": "code",
   "execution_count": 57,
   "id": "0875376f",
   "metadata": {},
   "outputs": [],
   "source": [
    "def get_digit(s):\n",
    "    if type(s) == str:\n",
    "        l = re.findall(\"\\d+\",s)[0]\n",
    "        return int(l)\n",
    "    else:\n",
    "        return s\n"
   ]
  },
  {
   "cell_type": "code",
   "execution_count": 58,
   "id": "73c4c536",
   "metadata": {},
   "outputs": [],
   "source": [
    "df2[\"Years in current job\"] = df2[\"Years in current job\"].apply(get_digit)"
   ]
  },
  {
   "cell_type": "code",
   "execution_count": 60,
   "id": "8f218c31",
   "metadata": {},
   "outputs": [
    {
     "data": {
      "text/plain": [
       "Loan Status                         0\n",
       "Current Loan Amount                 0\n",
       "Term                                0\n",
       "Credit Score                    21338\n",
       "Years in current job             4450\n",
       "Home Ownership                      0\n",
       "Annual Income                   21338\n",
       "Monthly Debt                        0\n",
       "Years of Credit History             0\n",
       "Months since last delinquent    56235\n",
       "Number of Open Accounts             0\n",
       "Number of Credit Problems           0\n",
       "Current Credit Balance              0\n",
       "Maximum Open Credit                 0\n",
       "Bankruptcies                        0\n",
       "Tax Liens                           0\n",
       "Debt Consolidation                  0\n",
       "Home Improvements                   0\n",
       "other                               0\n",
       "Business Loan                       0\n",
       "small_business                      0\n",
       "Other                               0\n",
       "moving                              0\n",
       "Buy a Car                           0\n",
       "Medical Bills                       0\n",
       "Buy House                           0\n",
       "Take a Trip                         0\n",
       "vacation                            0\n",
       "major_purchase                      0\n",
       "Educational Expenses                0\n",
       "wedding                             0\n",
       "renewable_energy                    0\n",
       "dtype: int64"
      ]
     },
     "execution_count": 60,
     "metadata": {},
     "output_type": "execute_result"
    }
   ],
   "source": [
    "df2.isna().sum()"
   ]
  },
  {
   "cell_type": "code",
   "execution_count": 61,
   "id": "382461dd",
   "metadata": {},
   "outputs": [
    {
     "data": {
      "text/plain": [
       "10.0    32663\n",
       "1.0     15373\n",
       "2.0      9633\n",
       "3.0      8620\n",
       "5.0      7188\n",
       "4.0      6466\n",
       "6.0      6028\n",
       "7.0      5841\n",
       "8.0      4845\n",
       "9.0      4131\n",
       "Name: Years in current job, dtype: int64"
      ]
     },
     "execution_count": 61,
     "metadata": {},
     "output_type": "execute_result"
    }
   ],
   "source": [
    "df2[\"Years in current job\"].value_counts()"
   ]
  },
  {
   "cell_type": "markdown",
   "id": "e43c87e9",
   "metadata": {},
   "source": [
    "### Monthly Debt "
   ]
  },
  {
   "cell_type": "code",
   "execution_count": 65,
   "id": "75334df0",
   "metadata": {},
   "outputs": [],
   "source": [
    "def remove_dollar(s):\n",
    "    if type(s) == str:\n",
    "        a = s.replace(\"$\",\"\")\n",
    "        return(float(a))"
   ]
  },
  {
   "cell_type": "code",
   "execution_count": 66,
   "id": "0b174dad",
   "metadata": {},
   "outputs": [],
   "source": [
    "df2[\"Monthly Debt\"] = df2[\"Monthly Debt\"].apply(remove_dollar)"
   ]
  },
  {
   "cell_type": "markdown",
   "id": "19c3f878",
   "metadata": {},
   "source": [
    "### Maximum Open Credit"
   ]
  },
  {
   "cell_type": "code",
   "execution_count": null,
   "id": "c1c775a6",
   "metadata": {},
   "outputs": [],
   "source": [
    "def change_datatype(s):\n",
    "    if type(s) == str:\n",
    "        return(float(s))"
   ]
  },
  {
   "cell_type": "code",
   "execution_count": 68,
   "id": "a49aa0fe",
   "metadata": {},
   "outputs": [
    {
     "data": {
      "text/plain": [
       "(array([ 4930, 37357]),)"
      ]
     },
     "execution_count": 68,
     "metadata": {},
     "output_type": "execute_result"
    }
   ],
   "source": [
    "#df2[\"Maximum Open Credit\"].astype(float)  #  we got error coz we found #VALUE! in column\n",
    "\n",
    "np.where(df[\"Maximum Open Credit\"] == \"#VALUE!\")"
   ]
  },
  {
   "cell_type": "code",
   "execution_count": 72,
   "id": "fc8527bd",
   "metadata": {},
   "outputs": [],
   "source": [
    "df2[\"Maximum Open Credit\"].replace(\"#VALUE!\", np.nan, inplace = True)"
   ]
  },
  {
   "cell_type": "code",
   "execution_count": 76,
   "id": "00ed3d5c",
   "metadata": {},
   "outputs": [],
   "source": [
    "df2[\"Maximum Open Credit\"] = df2[\"Maximum Open Credit\"].astype(float)"
   ]
  },
  {
   "cell_type": "code",
   "execution_count": 77,
   "id": "805b29ae",
   "metadata": {},
   "outputs": [
    {
     "name": "stdout",
     "output_type": "stream",
     "text": [
      "<class 'pandas.core.frame.DataFrame'>\n",
      "RangeIndex: 105238 entries, 0 to 105237\n",
      "Data columns (total 32 columns):\n",
      " #   Column                        Non-Null Count   Dtype  \n",
      "---  ------                        --------------   -----  \n",
      " 0   Loan Status                   105238 non-null  int64  \n",
      " 1   Current Loan Amount           105238 non-null  int64  \n",
      " 2   Term                          105238 non-null  int64  \n",
      " 3   Credit Score                  83900 non-null   float64\n",
      " 4   Years in current job          100788 non-null  float64\n",
      " 5   Home Ownership                105238 non-null  int64  \n",
      " 6   Annual Income                 83900 non-null   float64\n",
      " 7   Monthly Debt                  65536 non-null   float64\n",
      " 8   Years of Credit History       105238 non-null  float64\n",
      " 9   Months since last delinquent  49003 non-null   float64\n",
      " 10  Number of Open Accounts       105238 non-null  int64  \n",
      " 11  Number of Credit Problems     105238 non-null  int64  \n",
      " 12  Current Credit Balance        105238 non-null  int64  \n",
      " 13  Maximum Open Credit           105236 non-null  float64\n",
      " 14  Bankruptcies                  105238 non-null  float64\n",
      " 15  Tax Liens                     105238 non-null  float64\n",
      " 16  Debt Consolidation            105238 non-null  float64\n",
      " 17  Home Improvements             105238 non-null  float64\n",
      " 18  other                         105238 non-null  float64\n",
      " 19  Business Loan                 105238 non-null  float64\n",
      " 20  small_business                105238 non-null  float64\n",
      " 21  Other                         105238 non-null  float64\n",
      " 22  moving                        105238 non-null  float64\n",
      " 23  Buy a Car                     105238 non-null  float64\n",
      " 24  Medical Bills                 105238 non-null  float64\n",
      " 25  Buy House                     105238 non-null  float64\n",
      " 26  Take a Trip                   105238 non-null  float64\n",
      " 27  vacation                      105238 non-null  float64\n",
      " 28  major_purchase                105238 non-null  float64\n",
      " 29  Educational Expenses          105238 non-null  float64\n",
      " 30  wedding                       105238 non-null  float64\n",
      " 31  renewable_energy              105238 non-null  float64\n",
      "dtypes: float64(25), int64(7)\n",
      "memory usage: 25.7 MB\n"
     ]
    }
   ],
   "source": [
    "df2.info()"
   ]
  },
  {
   "cell_type": "code",
   "execution_count": 79,
   "id": "b7502f23",
   "metadata": {},
   "outputs": [
    {
     "data": {
      "text/html": [
       "<div>\n",
       "<style scoped>\n",
       "    .dataframe tbody tr th:only-of-type {\n",
       "        vertical-align: middle;\n",
       "    }\n",
       "\n",
       "    .dataframe tbody tr th {\n",
       "        vertical-align: top;\n",
       "    }\n",
       "\n",
       "    .dataframe thead th {\n",
       "        text-align: right;\n",
       "    }\n",
       "</style>\n",
       "<table border=\"1\" class=\"dataframe\">\n",
       "  <thead>\n",
       "    <tr style=\"text-align: right;\">\n",
       "      <th></th>\n",
       "      <th>Loan Status</th>\n",
       "      <th>Current Loan Amount</th>\n",
       "      <th>Term</th>\n",
       "      <th>Credit Score</th>\n",
       "      <th>Years in current job</th>\n",
       "      <th>Home Ownership</th>\n",
       "      <th>Annual Income</th>\n",
       "      <th>Monthly Debt</th>\n",
       "      <th>Years of Credit History</th>\n",
       "      <th>Months since last delinquent</th>\n",
       "      <th>...</th>\n",
       "      <th>moving</th>\n",
       "      <th>Buy a Car</th>\n",
       "      <th>Medical Bills</th>\n",
       "      <th>Buy House</th>\n",
       "      <th>Take a Trip</th>\n",
       "      <th>vacation</th>\n",
       "      <th>major_purchase</th>\n",
       "      <th>Educational Expenses</th>\n",
       "      <th>wedding</th>\n",
       "      <th>renewable_energy</th>\n",
       "    </tr>\n",
       "  </thead>\n",
       "  <tbody>\n",
       "    <tr>\n",
       "      <th>0</th>\n",
       "      <td>1.0</td>\n",
       "      <td>12232.0</td>\n",
       "      <td>0.0</td>\n",
       "      <td>728.0</td>\n",
       "      <td>1.0</td>\n",
       "      <td>1.0</td>\n",
       "      <td>46643.0</td>\n",
       "      <td>777.390</td>\n",
       "      <td>18.0</td>\n",
       "      <td>10.0</td>\n",
       "      <td>...</td>\n",
       "      <td>0.0</td>\n",
       "      <td>0.0</td>\n",
       "      <td>0.0</td>\n",
       "      <td>0.0</td>\n",
       "      <td>0.0</td>\n",
       "      <td>0.0</td>\n",
       "      <td>0.0</td>\n",
       "      <td>0.0</td>\n",
       "      <td>0.0</td>\n",
       "      <td>0.0</td>\n",
       "    </tr>\n",
       "    <tr>\n",
       "      <th>1</th>\n",
       "      <td>1.0</td>\n",
       "      <td>25014.0</td>\n",
       "      <td>1.0</td>\n",
       "      <td>733.0</td>\n",
       "      <td>10.0</td>\n",
       "      <td>0.0</td>\n",
       "      <td>81099.0</td>\n",
       "      <td>892.090</td>\n",
       "      <td>26.7</td>\n",
       "      <td>33.4</td>\n",
       "      <td>...</td>\n",
       "      <td>0.0</td>\n",
       "      <td>0.0</td>\n",
       "      <td>0.0</td>\n",
       "      <td>0.0</td>\n",
       "      <td>0.0</td>\n",
       "      <td>0.0</td>\n",
       "      <td>0.0</td>\n",
       "      <td>0.0</td>\n",
       "      <td>0.0</td>\n",
       "      <td>0.0</td>\n",
       "    </tr>\n",
       "    <tr>\n",
       "      <th>2</th>\n",
       "      <td>1.0</td>\n",
       "      <td>16117.0</td>\n",
       "      <td>0.0</td>\n",
       "      <td>724.0</td>\n",
       "      <td>9.0</td>\n",
       "      <td>0.0</td>\n",
       "      <td>60438.0</td>\n",
       "      <td>1244.020</td>\n",
       "      <td>16.7</td>\n",
       "      <td>32.0</td>\n",
       "      <td>...</td>\n",
       "      <td>0.0</td>\n",
       "      <td>0.0</td>\n",
       "      <td>0.0</td>\n",
       "      <td>0.0</td>\n",
       "      <td>0.0</td>\n",
       "      <td>0.0</td>\n",
       "      <td>0.0</td>\n",
       "      <td>0.0</td>\n",
       "      <td>0.0</td>\n",
       "      <td>0.0</td>\n",
       "    </tr>\n",
       "    <tr>\n",
       "      <th>3</th>\n",
       "      <td>1.0</td>\n",
       "      <td>11716.0</td>\n",
       "      <td>0.0</td>\n",
       "      <td>740.0</td>\n",
       "      <td>3.0</td>\n",
       "      <td>1.0</td>\n",
       "      <td>34171.0</td>\n",
       "      <td>990.940</td>\n",
       "      <td>10.0</td>\n",
       "      <td>48.4</td>\n",
       "      <td>...</td>\n",
       "      <td>0.0</td>\n",
       "      <td>0.0</td>\n",
       "      <td>0.0</td>\n",
       "      <td>0.0</td>\n",
       "      <td>0.0</td>\n",
       "      <td>0.0</td>\n",
       "      <td>0.0</td>\n",
       "      <td>0.0</td>\n",
       "      <td>0.0</td>\n",
       "      <td>0.0</td>\n",
       "    </tr>\n",
       "    <tr>\n",
       "      <th>4</th>\n",
       "      <td>1.0</td>\n",
       "      <td>9789.0</td>\n",
       "      <td>1.0</td>\n",
       "      <td>686.0</td>\n",
       "      <td>10.0</td>\n",
       "      <td>0.0</td>\n",
       "      <td>47003.0</td>\n",
       "      <td>503.710</td>\n",
       "      <td>16.7</td>\n",
       "      <td>25.0</td>\n",
       "      <td>...</td>\n",
       "      <td>0.0</td>\n",
       "      <td>0.0</td>\n",
       "      <td>0.0</td>\n",
       "      <td>0.0</td>\n",
       "      <td>0.0</td>\n",
       "      <td>0.0</td>\n",
       "      <td>0.0</td>\n",
       "      <td>0.0</td>\n",
       "      <td>0.0</td>\n",
       "      <td>0.0</td>\n",
       "    </tr>\n",
       "    <tr>\n",
       "      <th>...</th>\n",
       "      <td>...</td>\n",
       "      <td>...</td>\n",
       "      <td>...</td>\n",
       "      <td>...</td>\n",
       "      <td>...</td>\n",
       "      <td>...</td>\n",
       "      <td>...</td>\n",
       "      <td>...</td>\n",
       "      <td>...</td>\n",
       "      <td>...</td>\n",
       "      <td>...</td>\n",
       "      <td>...</td>\n",
       "      <td>...</td>\n",
       "      <td>...</td>\n",
       "      <td>...</td>\n",
       "      <td>...</td>\n",
       "      <td>...</td>\n",
       "      <td>...</td>\n",
       "      <td>...</td>\n",
       "      <td>...</td>\n",
       "      <td>...</td>\n",
       "    </tr>\n",
       "    <tr>\n",
       "      <th>105233</th>\n",
       "      <td>0.0</td>\n",
       "      <td>15654.0</td>\n",
       "      <td>1.0</td>\n",
       "      <td>686.0</td>\n",
       "      <td>10.0</td>\n",
       "      <td>1.0</td>\n",
       "      <td>43050.0</td>\n",
       "      <td>1199.386</td>\n",
       "      <td>14.1</td>\n",
       "      <td>49.0</td>\n",
       "      <td>...</td>\n",
       "      <td>0.0</td>\n",
       "      <td>0.0</td>\n",
       "      <td>0.0</td>\n",
       "      <td>0.0</td>\n",
       "      <td>0.0</td>\n",
       "      <td>0.0</td>\n",
       "      <td>0.0</td>\n",
       "      <td>0.0</td>\n",
       "      <td>0.0</td>\n",
       "      <td>0.0</td>\n",
       "    </tr>\n",
       "    <tr>\n",
       "      <th>105234</th>\n",
       "      <td>0.0</td>\n",
       "      <td>15237.0</td>\n",
       "      <td>0.0</td>\n",
       "      <td>706.0</td>\n",
       "      <td>10.0</td>\n",
       "      <td>0.0</td>\n",
       "      <td>60948.0</td>\n",
       "      <td>1226.812</td>\n",
       "      <td>15.9</td>\n",
       "      <td>48.0</td>\n",
       "      <td>...</td>\n",
       "      <td>0.0</td>\n",
       "      <td>0.0</td>\n",
       "      <td>0.0</td>\n",
       "      <td>0.0</td>\n",
       "      <td>0.0</td>\n",
       "      <td>0.0</td>\n",
       "      <td>0.0</td>\n",
       "      <td>0.0</td>\n",
       "      <td>0.0</td>\n",
       "      <td>0.0</td>\n",
       "    </tr>\n",
       "    <tr>\n",
       "      <th>105235</th>\n",
       "      <td>0.0</td>\n",
       "      <td>10413.0</td>\n",
       "      <td>0.0</td>\n",
       "      <td>719.0</td>\n",
       "      <td>5.0</td>\n",
       "      <td>0.0</td>\n",
       "      <td>66945.0</td>\n",
       "      <td>682.404</td>\n",
       "      <td>8.7</td>\n",
       "      <td>22.8</td>\n",
       "      <td>...</td>\n",
       "      <td>0.0</td>\n",
       "      <td>0.0</td>\n",
       "      <td>0.0</td>\n",
       "      <td>0.0</td>\n",
       "      <td>0.0</td>\n",
       "      <td>0.0</td>\n",
       "      <td>0.0</td>\n",
       "      <td>0.0</td>\n",
       "      <td>0.0</td>\n",
       "      <td>0.0</td>\n",
       "    </tr>\n",
       "    <tr>\n",
       "      <th>105236</th>\n",
       "      <td>0.0</td>\n",
       "      <td>34447.0</td>\n",
       "      <td>0.0</td>\n",
       "      <td>626.0</td>\n",
       "      <td>10.0</td>\n",
       "      <td>0.0</td>\n",
       "      <td>78736.0</td>\n",
       "      <td>1950.254</td>\n",
       "      <td>30.4</td>\n",
       "      <td>9.0</td>\n",
       "      <td>...</td>\n",
       "      <td>0.0</td>\n",
       "      <td>0.0</td>\n",
       "      <td>0.0</td>\n",
       "      <td>0.0</td>\n",
       "      <td>0.0</td>\n",
       "      <td>0.0</td>\n",
       "      <td>0.0</td>\n",
       "      <td>0.0</td>\n",
       "      <td>0.0</td>\n",
       "      <td>0.0</td>\n",
       "    </tr>\n",
       "    <tr>\n",
       "      <th>105237</th>\n",
       "      <td>0.0</td>\n",
       "      <td>9209.0</td>\n",
       "      <td>1.0</td>\n",
       "      <td>708.0</td>\n",
       "      <td>1.0</td>\n",
       "      <td>2.0</td>\n",
       "      <td>123454.0</td>\n",
       "      <td>664.642</td>\n",
       "      <td>20.1</td>\n",
       "      <td>16.0</td>\n",
       "      <td>...</td>\n",
       "      <td>0.0</td>\n",
       "      <td>0.0</td>\n",
       "      <td>0.0</td>\n",
       "      <td>0.0</td>\n",
       "      <td>0.0</td>\n",
       "      <td>0.0</td>\n",
       "      <td>0.0</td>\n",
       "      <td>0.0</td>\n",
       "      <td>0.0</td>\n",
       "      <td>0.0</td>\n",
       "    </tr>\n",
       "  </tbody>\n",
       "</table>\n",
       "<p>105238 rows × 32 columns</p>\n",
       "</div>"
      ],
      "text/plain": [
       "        Loan Status  Current Loan Amount  Term  Credit Score  \\\n",
       "0               1.0              12232.0   0.0         728.0   \n",
       "1               1.0              25014.0   1.0         733.0   \n",
       "2               1.0              16117.0   0.0         724.0   \n",
       "3               1.0              11716.0   0.0         740.0   \n",
       "4               1.0               9789.0   1.0         686.0   \n",
       "...             ...                  ...   ...           ...   \n",
       "105233          0.0              15654.0   1.0         686.0   \n",
       "105234          0.0              15237.0   0.0         706.0   \n",
       "105235          0.0              10413.0   0.0         719.0   \n",
       "105236          0.0              34447.0   0.0         626.0   \n",
       "105237          0.0               9209.0   1.0         708.0   \n",
       "\n",
       "        Years in current job  Home Ownership  Annual Income  Monthly Debt  \\\n",
       "0                        1.0             1.0        46643.0       777.390   \n",
       "1                       10.0             0.0        81099.0       892.090   \n",
       "2                        9.0             0.0        60438.0      1244.020   \n",
       "3                        3.0             1.0        34171.0       990.940   \n",
       "4                       10.0             0.0        47003.0       503.710   \n",
       "...                      ...             ...            ...           ...   \n",
       "105233                  10.0             1.0        43050.0      1199.386   \n",
       "105234                  10.0             0.0        60948.0      1226.812   \n",
       "105235                   5.0             0.0        66945.0       682.404   \n",
       "105236                  10.0             0.0        78736.0      1950.254   \n",
       "105237                   1.0             2.0       123454.0       664.642   \n",
       "\n",
       "        Years of Credit History  Months since last delinquent  ...  moving  \\\n",
       "0                          18.0                          10.0  ...     0.0   \n",
       "1                          26.7                          33.4  ...     0.0   \n",
       "2                          16.7                          32.0  ...     0.0   \n",
       "3                          10.0                          48.4  ...     0.0   \n",
       "4                          16.7                          25.0  ...     0.0   \n",
       "...                         ...                           ...  ...     ...   \n",
       "105233                     14.1                          49.0  ...     0.0   \n",
       "105234                     15.9                          48.0  ...     0.0   \n",
       "105235                      8.7                          22.8  ...     0.0   \n",
       "105236                     30.4                           9.0  ...     0.0   \n",
       "105237                     20.1                          16.0  ...     0.0   \n",
       "\n",
       "        Buy a Car  Medical Bills  Buy House  Take a Trip  vacation  \\\n",
       "0             0.0            0.0        0.0          0.0       0.0   \n",
       "1             0.0            0.0        0.0          0.0       0.0   \n",
       "2             0.0            0.0        0.0          0.0       0.0   \n",
       "3             0.0            0.0        0.0          0.0       0.0   \n",
       "4             0.0            0.0        0.0          0.0       0.0   \n",
       "...           ...            ...        ...          ...       ...   \n",
       "105233        0.0            0.0        0.0          0.0       0.0   \n",
       "105234        0.0            0.0        0.0          0.0       0.0   \n",
       "105235        0.0            0.0        0.0          0.0       0.0   \n",
       "105236        0.0            0.0        0.0          0.0       0.0   \n",
       "105237        0.0            0.0        0.0          0.0       0.0   \n",
       "\n",
       "        major_purchase  Educational Expenses  wedding  renewable_energy  \n",
       "0                  0.0                   0.0      0.0               0.0  \n",
       "1                  0.0                   0.0      0.0               0.0  \n",
       "2                  0.0                   0.0      0.0               0.0  \n",
       "3                  0.0                   0.0      0.0               0.0  \n",
       "4                  0.0                   0.0      0.0               0.0  \n",
       "...                ...                   ...      ...               ...  \n",
       "105233             0.0                   0.0      0.0               0.0  \n",
       "105234             0.0                   0.0      0.0               0.0  \n",
       "105235             0.0                   0.0      0.0               0.0  \n",
       "105236             0.0                   0.0      0.0               0.0  \n",
       "105237             0.0                   0.0      0.0               0.0  \n",
       "\n",
       "[105238 rows x 32 columns]"
      ]
     },
     "execution_count": 79,
     "metadata": {},
     "output_type": "execute_result"
    }
   ],
   "source": [
    "knn_imputer = KNNImputer(n_neighbors= 5)\n",
    "ar2 = knn_imputer.fit_transform(df2)\n",
    "df3 = pd.DataFrame(ar2,columns=df2.columns)\n",
    "df3"
   ]
  },
  {
   "cell_type": "code",
   "execution_count": 80,
   "id": "e6d0627a",
   "metadata": {},
   "outputs": [
    {
     "data": {
      "text/plain": [
       "Loan Status                     0\n",
       "Current Loan Amount             0\n",
       "Term                            0\n",
       "Credit Score                    0\n",
       "Years in current job            0\n",
       "Home Ownership                  0\n",
       "Annual Income                   0\n",
       "Monthly Debt                    0\n",
       "Years of Credit History         0\n",
       "Months since last delinquent    0\n",
       "Number of Open Accounts         0\n",
       "Number of Credit Problems       0\n",
       "Current Credit Balance          0\n",
       "Maximum Open Credit             0\n",
       "Bankruptcies                    0\n",
       "Tax Liens                       0\n",
       "Debt Consolidation              0\n",
       "Home Improvements               0\n",
       "other                           0\n",
       "Business Loan                   0\n",
       "small_business                  0\n",
       "Other                           0\n",
       "moving                          0\n",
       "Buy a Car                       0\n",
       "Medical Bills                   0\n",
       "Buy House                       0\n",
       "Take a Trip                     0\n",
       "vacation                        0\n",
       "major_purchase                  0\n",
       "Educational Expenses            0\n",
       "wedding                         0\n",
       "renewable_energy                0\n",
       "dtype: int64"
      ]
     },
     "execution_count": 80,
     "metadata": {},
     "output_type": "execute_result"
    }
   ],
   "source": [
    "df3.isna().sum()"
   ]
  },
  {
   "cell_type": "code",
   "execution_count": 87,
   "id": "8fb097de",
   "metadata": {},
   "outputs": [],
   "source": [
    "df3.to_csv(\"clean_data.csv\")"
   ]
  },
  {
   "cell_type": "markdown",
   "id": "abe1824f",
   "metadata": {},
   "source": [
    "## Model Training"
   ]
  },
  {
   "cell_type": "code",
   "execution_count": 81,
   "id": "8edcb6a5",
   "metadata": {},
   "outputs": [],
   "source": [
    "x = df3.drop(\"Loan Status\", axis = 1)\n",
    "y = df3[\"Loan Status\"]"
   ]
  },
  {
   "cell_type": "code",
   "execution_count": 82,
   "id": "77ccaa97",
   "metadata": {},
   "outputs": [
    {
     "data": {
      "text/html": [
       "<style>#sk-container-id-1 {color: black;background-color: white;}#sk-container-id-1 pre{padding: 0;}#sk-container-id-1 div.sk-toggleable {background-color: white;}#sk-container-id-1 label.sk-toggleable__label {cursor: pointer;display: block;width: 100%;margin-bottom: 0;padding: 0.3em;box-sizing: border-box;text-align: center;}#sk-container-id-1 label.sk-toggleable__label-arrow:before {content: \"▸\";float: left;margin-right: 0.25em;color: #696969;}#sk-container-id-1 label.sk-toggleable__label-arrow:hover:before {color: black;}#sk-container-id-1 div.sk-estimator:hover label.sk-toggleable__label-arrow:before {color: black;}#sk-container-id-1 div.sk-toggleable__content {max-height: 0;max-width: 0;overflow: hidden;text-align: left;background-color: #f0f8ff;}#sk-container-id-1 div.sk-toggleable__content pre {margin: 0.2em;color: black;border-radius: 0.25em;background-color: #f0f8ff;}#sk-container-id-1 input.sk-toggleable__control:checked~div.sk-toggleable__content {max-height: 200px;max-width: 100%;overflow: auto;}#sk-container-id-1 input.sk-toggleable__control:checked~label.sk-toggleable__label-arrow:before {content: \"▾\";}#sk-container-id-1 div.sk-estimator input.sk-toggleable__control:checked~label.sk-toggleable__label {background-color: #d4ebff;}#sk-container-id-1 div.sk-label input.sk-toggleable__control:checked~label.sk-toggleable__label {background-color: #d4ebff;}#sk-container-id-1 input.sk-hidden--visually {border: 0;clip: rect(1px 1px 1px 1px);clip: rect(1px, 1px, 1px, 1px);height: 1px;margin: -1px;overflow: hidden;padding: 0;position: absolute;width: 1px;}#sk-container-id-1 div.sk-estimator {font-family: monospace;background-color: #f0f8ff;border: 1px dotted black;border-radius: 0.25em;box-sizing: border-box;margin-bottom: 0.5em;}#sk-container-id-1 div.sk-estimator:hover {background-color: #d4ebff;}#sk-container-id-1 div.sk-parallel-item::after {content: \"\";width: 100%;border-bottom: 1px solid gray;flex-grow: 1;}#sk-container-id-1 div.sk-label:hover label.sk-toggleable__label {background-color: #d4ebff;}#sk-container-id-1 div.sk-serial::before {content: \"\";position: absolute;border-left: 1px solid gray;box-sizing: border-box;top: 0;bottom: 0;left: 50%;z-index: 0;}#sk-container-id-1 div.sk-serial {display: flex;flex-direction: column;align-items: center;background-color: white;padding-right: 0.2em;padding-left: 0.2em;position: relative;}#sk-container-id-1 div.sk-item {position: relative;z-index: 1;}#sk-container-id-1 div.sk-parallel {display: flex;align-items: stretch;justify-content: center;background-color: white;position: relative;}#sk-container-id-1 div.sk-item::before, #sk-container-id-1 div.sk-parallel-item::before {content: \"\";position: absolute;border-left: 1px solid gray;box-sizing: border-box;top: 0;bottom: 0;left: 50%;z-index: -1;}#sk-container-id-1 div.sk-parallel-item {display: flex;flex-direction: column;z-index: 1;position: relative;background-color: white;}#sk-container-id-1 div.sk-parallel-item:first-child::after {align-self: flex-end;width: 50%;}#sk-container-id-1 div.sk-parallel-item:last-child::after {align-self: flex-start;width: 50%;}#sk-container-id-1 div.sk-parallel-item:only-child::after {width: 0;}#sk-container-id-1 div.sk-dashed-wrapped {border: 1px dashed gray;margin: 0 0.4em 0.5em 0.4em;box-sizing: border-box;padding-bottom: 0.4em;background-color: white;}#sk-container-id-1 div.sk-label label {font-family: monospace;font-weight: bold;display: inline-block;line-height: 1.2em;}#sk-container-id-1 div.sk-label-container {text-align: center;}#sk-container-id-1 div.sk-container {/* jupyter's `normalize.less` sets `[hidden] { display: none; }` but bootstrap.min.css set `[hidden] { display: none !important; }` so we also need the `!important` here to be able to override the default hidden behavior on the sphinx rendered scikit-learn.org. See: https://github.com/scikit-learn/scikit-learn/issues/21755 */display: inline-block !important;position: relative;}#sk-container-id-1 div.sk-text-repr-fallback {display: none;}</style><div id=\"sk-container-id-1\" class=\"sk-top-container\"><div class=\"sk-text-repr-fallback\"><pre>LogisticRegression()</pre><b>In a Jupyter environment, please rerun this cell to show the HTML representation or trust the notebook. <br />On GitHub, the HTML representation is unable to render, please try loading this page with nbviewer.org.</b></div><div class=\"sk-container\" hidden><div class=\"sk-item\"><div class=\"sk-estimator sk-toggleable\"><input class=\"sk-toggleable__control sk-hidden--visually\" id=\"sk-estimator-id-1\" type=\"checkbox\" checked><label for=\"sk-estimator-id-1\" class=\"sk-toggleable__label sk-toggleable__label-arrow\">LogisticRegression</label><div class=\"sk-toggleable__content\"><pre>LogisticRegression()</pre></div></div></div></div></div>"
      ],
      "text/plain": [
       "LogisticRegression()"
      ]
     },
     "execution_count": 82,
     "metadata": {},
     "output_type": "execute_result"
    }
   ],
   "source": [
    "x_train, x_test, y_train, y_test=train_test_split(x,y,test_size=0.25,random_state=45,stratify=y)\n",
    "log_model = LogisticRegression()\n",
    "log_model.fit(x_train,y_train)"
   ]
  },
  {
   "cell_type": "markdown",
   "id": "86de3d24",
   "metadata": {},
   "source": [
    "## Evaluation Matrix"
   ]
  },
  {
   "cell_type": "markdown",
   "id": "12903638",
   "metadata": {},
   "source": [
    "### Logistic Regression"
   ]
  },
  {
   "cell_type": "code",
   "execution_count": 89,
   "id": "f3b1b6c5",
   "metadata": {},
   "outputs": [
    {
     "name": "stdout",
     "output_type": "stream",
     "text": [
      "accuracy =  0.7607439691871072\n",
      "----------------------------------------\n",
      "confusion matrix\n",
      " [[60044     4]\n",
      " [18880     0]]\n",
      "----------------------------------------\n",
      "classification report\n",
      "               precision    recall  f1-score   support\n",
      "\n",
      "         0.0       0.76      1.00      0.86     60048\n",
      "         1.0       0.00      0.00      0.00     18880\n",
      "\n",
      "    accuracy                           0.76     78928\n",
      "   macro avg       0.38      0.50      0.43     78928\n",
      "weighted avg       0.58      0.76      0.66     78928\n",
      "\n",
      "----------------------------------------\n"
     ]
    }
   ],
   "source": [
    "# Training\n",
    "\n",
    "y_pred_train = log_model.predict(x_train)\n",
    "\n",
    "accuracy = accuracy_score(y_train,y_pred_train)\n",
    "print(\"accuracy = \",accuracy)\n",
    "print(\"-\"*40)\n",
    "\n",
    "cnf = confusion_matrix(y_train,y_pred_train)\n",
    "print(\"confusion matrix\\n\",cnf)\n",
    "print(\"-\"*40)\n",
    "\n",
    "cl_report = classification_report(y_train,y_pred_train)\n",
    "print(\"classification report\\n\",cl_report)\n",
    "print(\"-\"*40)\n"
   ]
  },
  {
   "cell_type": "code",
   "execution_count": 84,
   "id": "0149e830",
   "metadata": {},
   "outputs": [
    {
     "name": "stdout",
     "output_type": "stream",
     "text": [
      "accuracy =  0.7607753705815279\n",
      "----------------------------------------\n",
      "confusion matrix\n",
      " [[20016     1]\n",
      " [ 6293     0]]\n",
      "----------------------------------------\n",
      "classification report\n",
      "               precision    recall  f1-score   support\n",
      "\n",
      "         0.0       0.76      1.00      0.86     20017\n",
      "         1.0       0.00      0.00      0.00      6293\n",
      "\n",
      "    accuracy                           0.76     26310\n",
      "   macro avg       0.38      0.50      0.43     26310\n",
      "weighted avg       0.58      0.76      0.66     26310\n",
      "\n",
      "----------------------------------------\n"
     ]
    }
   ],
   "source": [
    "# Testing\n",
    "\n",
    "y_pred_test = log_model.predict(x_test)\n",
    "\n",
    "accuracy = accuracy_score(y_test,y_pred_test)\n",
    "print(\"accuracy = \",accuracy)\n",
    "print(\"-\"*40)\n",
    "\n",
    "cnf = confusion_matrix(y_test,y_pred_test)\n",
    "print(\"confusion matrix\\n\",cnf)\n",
    "print(\"-\"*40)\n",
    "\n",
    "cl_report = classification_report(y_test,y_pred_test)\n",
    "print(\"classification report\\n\",cl_report)\n",
    "print(\"-\"*40)\n"
   ]
  },
  {
   "cell_type": "markdown",
   "id": "01c426fc",
   "metadata": {},
   "source": [
    "## KNN"
   ]
  },
  {
   "cell_type": "code",
   "execution_count": 93,
   "id": "a56d1eba",
   "metadata": {},
   "outputs": [
    {
     "data": {
      "text/html": [
       "<style>#sk-container-id-3 {color: black;background-color: white;}#sk-container-id-3 pre{padding: 0;}#sk-container-id-3 div.sk-toggleable {background-color: white;}#sk-container-id-3 label.sk-toggleable__label {cursor: pointer;display: block;width: 100%;margin-bottom: 0;padding: 0.3em;box-sizing: border-box;text-align: center;}#sk-container-id-3 label.sk-toggleable__label-arrow:before {content: \"▸\";float: left;margin-right: 0.25em;color: #696969;}#sk-container-id-3 label.sk-toggleable__label-arrow:hover:before {color: black;}#sk-container-id-3 div.sk-estimator:hover label.sk-toggleable__label-arrow:before {color: black;}#sk-container-id-3 div.sk-toggleable__content {max-height: 0;max-width: 0;overflow: hidden;text-align: left;background-color: #f0f8ff;}#sk-container-id-3 div.sk-toggleable__content pre {margin: 0.2em;color: black;border-radius: 0.25em;background-color: #f0f8ff;}#sk-container-id-3 input.sk-toggleable__control:checked~div.sk-toggleable__content {max-height: 200px;max-width: 100%;overflow: auto;}#sk-container-id-3 input.sk-toggleable__control:checked~label.sk-toggleable__label-arrow:before {content: \"▾\";}#sk-container-id-3 div.sk-estimator input.sk-toggleable__control:checked~label.sk-toggleable__label {background-color: #d4ebff;}#sk-container-id-3 div.sk-label input.sk-toggleable__control:checked~label.sk-toggleable__label {background-color: #d4ebff;}#sk-container-id-3 input.sk-hidden--visually {border: 0;clip: rect(1px 1px 1px 1px);clip: rect(1px, 1px, 1px, 1px);height: 1px;margin: -1px;overflow: hidden;padding: 0;position: absolute;width: 1px;}#sk-container-id-3 div.sk-estimator {font-family: monospace;background-color: #f0f8ff;border: 1px dotted black;border-radius: 0.25em;box-sizing: border-box;margin-bottom: 0.5em;}#sk-container-id-3 div.sk-estimator:hover {background-color: #d4ebff;}#sk-container-id-3 div.sk-parallel-item::after {content: \"\";width: 100%;border-bottom: 1px solid gray;flex-grow: 1;}#sk-container-id-3 div.sk-label:hover label.sk-toggleable__label {background-color: #d4ebff;}#sk-container-id-3 div.sk-serial::before {content: \"\";position: absolute;border-left: 1px solid gray;box-sizing: border-box;top: 0;bottom: 0;left: 50%;z-index: 0;}#sk-container-id-3 div.sk-serial {display: flex;flex-direction: column;align-items: center;background-color: white;padding-right: 0.2em;padding-left: 0.2em;position: relative;}#sk-container-id-3 div.sk-item {position: relative;z-index: 1;}#sk-container-id-3 div.sk-parallel {display: flex;align-items: stretch;justify-content: center;background-color: white;position: relative;}#sk-container-id-3 div.sk-item::before, #sk-container-id-3 div.sk-parallel-item::before {content: \"\";position: absolute;border-left: 1px solid gray;box-sizing: border-box;top: 0;bottom: 0;left: 50%;z-index: -1;}#sk-container-id-3 div.sk-parallel-item {display: flex;flex-direction: column;z-index: 1;position: relative;background-color: white;}#sk-container-id-3 div.sk-parallel-item:first-child::after {align-self: flex-end;width: 50%;}#sk-container-id-3 div.sk-parallel-item:last-child::after {align-self: flex-start;width: 50%;}#sk-container-id-3 div.sk-parallel-item:only-child::after {width: 0;}#sk-container-id-3 div.sk-dashed-wrapped {border: 1px dashed gray;margin: 0 0.4em 0.5em 0.4em;box-sizing: border-box;padding-bottom: 0.4em;background-color: white;}#sk-container-id-3 div.sk-label label {font-family: monospace;font-weight: bold;display: inline-block;line-height: 1.2em;}#sk-container-id-3 div.sk-label-container {text-align: center;}#sk-container-id-3 div.sk-container {/* jupyter's `normalize.less` sets `[hidden] { display: none; }` but bootstrap.min.css set `[hidden] { display: none !important; }` so we also need the `!important` here to be able to override the default hidden behavior on the sphinx rendered scikit-learn.org. See: https://github.com/scikit-learn/scikit-learn/issues/21755 */display: inline-block !important;position: relative;}#sk-container-id-3 div.sk-text-repr-fallback {display: none;}</style><div id=\"sk-container-id-3\" class=\"sk-top-container\"><div class=\"sk-text-repr-fallback\"><pre>KNeighborsClassifier()</pre><b>In a Jupyter environment, please rerun this cell to show the HTML representation or trust the notebook. <br />On GitHub, the HTML representation is unable to render, please try loading this page with nbviewer.org.</b></div><div class=\"sk-container\" hidden><div class=\"sk-item\"><div class=\"sk-estimator sk-toggleable\"><input class=\"sk-toggleable__control sk-hidden--visually\" id=\"sk-estimator-id-3\" type=\"checkbox\" checked><label for=\"sk-estimator-id-3\" class=\"sk-toggleable__label sk-toggleable__label-arrow\">KNeighborsClassifier</label><div class=\"sk-toggleable__content\"><pre>KNeighborsClassifier()</pre></div></div></div></div></div>"
      ],
      "text/plain": [
       "KNeighborsClassifier()"
      ]
     },
     "execution_count": 93,
     "metadata": {},
     "output_type": "execute_result"
    }
   ],
   "source": [
    "knn_clf = KNeighborsClassifier()\n",
    "knn_clf.fit(x_train,y_train)"
   ]
  },
  {
   "cell_type": "code",
   "execution_count": 95,
   "id": "8e494d4c",
   "metadata": {},
   "outputs": [
    {
     "name": "stdout",
     "output_type": "stream",
     "text": [
      "accuracy =  0.7977903912426515\n",
      "----------------------------------------\n",
      "confusion matrix\n",
      " [[56726  3322]\n",
      " [12638  6242]]\n",
      "----------------------------------------\n",
      "classification report\n",
      "               precision    recall  f1-score   support\n",
      "\n",
      "         0.0       0.82      0.94      0.88     60048\n",
      "         1.0       0.65      0.33      0.44     18880\n",
      "\n",
      "    accuracy                           0.80     78928\n",
      "   macro avg       0.74      0.64      0.66     78928\n",
      "weighted avg       0.78      0.80      0.77     78928\n",
      "\n",
      "----------------------------------------\n"
     ]
    }
   ],
   "source": [
    "# Training\n",
    "\n",
    "y_pred_train = knn_clf.predict(x_train)\n",
    "\n",
    "accuracy = accuracy_score(y_train,y_pred_train)\n",
    "print(\"accuracy = \",accuracy)\n",
    "print(\"-\"*40)\n",
    "\n",
    "cnf = confusion_matrix(y_train,y_pred_train)\n",
    "print(\"confusion matrix\\n\",cnf)\n",
    "print(\"-\"*40)\n",
    "\n",
    "cl_report = classification_report(y_train,y_pred_train)\n",
    "print(\"classification report\\n\",cl_report)\n",
    "print(\"-\"*40)\n"
   ]
  },
  {
   "cell_type": "code",
   "execution_count": 96,
   "id": "5582b8ef",
   "metadata": {},
   "outputs": [
    {
     "name": "stdout",
     "output_type": "stream",
     "text": [
      "accuracy =  0.7204484986697073\n",
      "----------------------------------------\n",
      "confusion matrix\n",
      " [[17896  2121]\n",
      " [ 5234  1059]]\n",
      "----------------------------------------\n",
      "classification report\n",
      "               precision    recall  f1-score   support\n",
      "\n",
      "         0.0       0.77      0.89      0.83     20017\n",
      "         1.0       0.33      0.17      0.22      6293\n",
      "\n",
      "    accuracy                           0.72     26310\n",
      "   macro avg       0.55      0.53      0.53     26310\n",
      "weighted avg       0.67      0.72      0.68     26310\n",
      "\n",
      "----------------------------------------\n"
     ]
    }
   ],
   "source": [
    "# Testing\n",
    "\n",
    "y_pred_test = knn_clf.predict(x_test)\n",
    "\n",
    "accuracy = accuracy_score(y_test,y_pred_test)\n",
    "print(\"accuracy = \",accuracy)\n",
    "print(\"-\"*40)\n",
    "\n",
    "cnf = confusion_matrix(y_test,y_pred_test)\n",
    "print(\"confusion matrix\\n\",cnf)\n",
    "print(\"-\"*40)\n",
    "\n",
    "cl_report = classification_report(y_test,y_pred_test)\n",
    "print(\"classification report\\n\",cl_report)\n",
    "print(\"-\"*40)"
   ]
  },
  {
   "cell_type": "markdown",
   "id": "4a1cc8b9",
   "metadata": {},
   "source": [
    "## KNN Hyper"
   ]
  },
  {
   "cell_type": "markdown",
   "id": "6b5225f2",
   "metadata": {},
   "source": [
    "### GridSearchCV"
   ]
  },
  {
   "cell_type": "code",
   "execution_count": 112,
   "id": "f265b69e",
   "metadata": {},
   "outputs": [
    {
     "data": {
      "text/html": [
       "<style>#sk-container-id-10 {color: black;background-color: white;}#sk-container-id-10 pre{padding: 0;}#sk-container-id-10 div.sk-toggleable {background-color: white;}#sk-container-id-10 label.sk-toggleable__label {cursor: pointer;display: block;width: 100%;margin-bottom: 0;padding: 0.3em;box-sizing: border-box;text-align: center;}#sk-container-id-10 label.sk-toggleable__label-arrow:before {content: \"▸\";float: left;margin-right: 0.25em;color: #696969;}#sk-container-id-10 label.sk-toggleable__label-arrow:hover:before {color: black;}#sk-container-id-10 div.sk-estimator:hover label.sk-toggleable__label-arrow:before {color: black;}#sk-container-id-10 div.sk-toggleable__content {max-height: 0;max-width: 0;overflow: hidden;text-align: left;background-color: #f0f8ff;}#sk-container-id-10 div.sk-toggleable__content pre {margin: 0.2em;color: black;border-radius: 0.25em;background-color: #f0f8ff;}#sk-container-id-10 input.sk-toggleable__control:checked~div.sk-toggleable__content {max-height: 200px;max-width: 100%;overflow: auto;}#sk-container-id-10 input.sk-toggleable__control:checked~label.sk-toggleable__label-arrow:before {content: \"▾\";}#sk-container-id-10 div.sk-estimator input.sk-toggleable__control:checked~label.sk-toggleable__label {background-color: #d4ebff;}#sk-container-id-10 div.sk-label input.sk-toggleable__control:checked~label.sk-toggleable__label {background-color: #d4ebff;}#sk-container-id-10 input.sk-hidden--visually {border: 0;clip: rect(1px 1px 1px 1px);clip: rect(1px, 1px, 1px, 1px);height: 1px;margin: -1px;overflow: hidden;padding: 0;position: absolute;width: 1px;}#sk-container-id-10 div.sk-estimator {font-family: monospace;background-color: #f0f8ff;border: 1px dotted black;border-radius: 0.25em;box-sizing: border-box;margin-bottom: 0.5em;}#sk-container-id-10 div.sk-estimator:hover {background-color: #d4ebff;}#sk-container-id-10 div.sk-parallel-item::after {content: \"\";width: 100%;border-bottom: 1px solid gray;flex-grow: 1;}#sk-container-id-10 div.sk-label:hover label.sk-toggleable__label {background-color: #d4ebff;}#sk-container-id-10 div.sk-serial::before {content: \"\";position: absolute;border-left: 1px solid gray;box-sizing: border-box;top: 0;bottom: 0;left: 50%;z-index: 0;}#sk-container-id-10 div.sk-serial {display: flex;flex-direction: column;align-items: center;background-color: white;padding-right: 0.2em;padding-left: 0.2em;position: relative;}#sk-container-id-10 div.sk-item {position: relative;z-index: 1;}#sk-container-id-10 div.sk-parallel {display: flex;align-items: stretch;justify-content: center;background-color: white;position: relative;}#sk-container-id-10 div.sk-item::before, #sk-container-id-10 div.sk-parallel-item::before {content: \"\";position: absolute;border-left: 1px solid gray;box-sizing: border-box;top: 0;bottom: 0;left: 50%;z-index: -1;}#sk-container-id-10 div.sk-parallel-item {display: flex;flex-direction: column;z-index: 1;position: relative;background-color: white;}#sk-container-id-10 div.sk-parallel-item:first-child::after {align-self: flex-end;width: 50%;}#sk-container-id-10 div.sk-parallel-item:last-child::after {align-self: flex-start;width: 50%;}#sk-container-id-10 div.sk-parallel-item:only-child::after {width: 0;}#sk-container-id-10 div.sk-dashed-wrapped {border: 1px dashed gray;margin: 0 0.4em 0.5em 0.4em;box-sizing: border-box;padding-bottom: 0.4em;background-color: white;}#sk-container-id-10 div.sk-label label {font-family: monospace;font-weight: bold;display: inline-block;line-height: 1.2em;}#sk-container-id-10 div.sk-label-container {text-align: center;}#sk-container-id-10 div.sk-container {/* jupyter's `normalize.less` sets `[hidden] { display: none; }` but bootstrap.min.css set `[hidden] { display: none !important; }` so we also need the `!important` here to be able to override the default hidden behavior on the sphinx rendered scikit-learn.org. See: https://github.com/scikit-learn/scikit-learn/issues/21755 */display: inline-block !important;position: relative;}#sk-container-id-10 div.sk-text-repr-fallback {display: none;}</style><div id=\"sk-container-id-10\" class=\"sk-top-container\"><div class=\"sk-text-repr-fallback\"><pre>GridSearchCV(cv=5, estimator=KNeighborsClassifier(),\n",
       "             param_grid={&#x27;n_neighbors&#x27;: array([ 2,  3,  4,  5,  6,  7,  8,  9, 10, 11, 12, 13, 14, 15, 16, 17, 18,\n",
       "       19]),\n",
       "                         &#x27;p&#x27;: [1, 2]})</pre><b>In a Jupyter environment, please rerun this cell to show the HTML representation or trust the notebook. <br />On GitHub, the HTML representation is unable to render, please try loading this page with nbviewer.org.</b></div><div class=\"sk-container\" hidden><div class=\"sk-item sk-dashed-wrapped\"><div class=\"sk-label-container\"><div class=\"sk-label sk-toggleable\"><input class=\"sk-toggleable__control sk-hidden--visually\" id=\"sk-estimator-id-12\" type=\"checkbox\" ><label for=\"sk-estimator-id-12\" class=\"sk-toggleable__label sk-toggleable__label-arrow\">GridSearchCV</label><div class=\"sk-toggleable__content\"><pre>GridSearchCV(cv=5, estimator=KNeighborsClassifier(),\n",
       "             param_grid={&#x27;n_neighbors&#x27;: array([ 2,  3,  4,  5,  6,  7,  8,  9, 10, 11, 12, 13, 14, 15, 16, 17, 18,\n",
       "       19]),\n",
       "                         &#x27;p&#x27;: [1, 2]})</pre></div></div></div><div class=\"sk-parallel\"><div class=\"sk-parallel-item\"><div class=\"sk-item\"><div class=\"sk-label-container\"><div class=\"sk-label sk-toggleable\"><input class=\"sk-toggleable__control sk-hidden--visually\" id=\"sk-estimator-id-13\" type=\"checkbox\" ><label for=\"sk-estimator-id-13\" class=\"sk-toggleable__label sk-toggleable__label-arrow\">estimator: KNeighborsClassifier</label><div class=\"sk-toggleable__content\"><pre>KNeighborsClassifier()</pre></div></div></div><div class=\"sk-serial\"><div class=\"sk-item\"><div class=\"sk-estimator sk-toggleable\"><input class=\"sk-toggleable__control sk-hidden--visually\" id=\"sk-estimator-id-14\" type=\"checkbox\" ><label for=\"sk-estimator-id-14\" class=\"sk-toggleable__label sk-toggleable__label-arrow\">KNeighborsClassifier</label><div class=\"sk-toggleable__content\"><pre>KNeighborsClassifier()</pre></div></div></div></div></div></div></div></div></div></div>"
      ],
      "text/plain": [
       "GridSearchCV(cv=5, estimator=KNeighborsClassifier(),\n",
       "             param_grid={'n_neighbors': array([ 2,  3,  4,  5,  6,  7,  8,  9, 10, 11, 12, 13, 14, 15, 16, 17, 18,\n",
       "       19]),\n",
       "                         'p': [1, 2]})"
      ]
     },
     "execution_count": 112,
     "metadata": {},
     "output_type": "execute_result"
    }
   ],
   "source": [
    "knn_class_grid = KNeighborsClassifier()\n",
    "hyperparameter = {\"n_neighbors\":np.arange(2,20),\n",
    "                 \"p\":[1,2]}\n",
    "gscv_knn_class = GridSearchCV(knn_class_grid,hyperparameter,cv=5)\n",
    "gscv_knn_class.fit(x_train,y_train)"
   ]
  },
  {
   "cell_type": "code",
   "execution_count": 115,
   "id": "5a427b5c",
   "metadata": {},
   "outputs": [
    {
     "data": {
      "text/html": [
       "<style>#sk-container-id-11 {color: black;background-color: white;}#sk-container-id-11 pre{padding: 0;}#sk-container-id-11 div.sk-toggleable {background-color: white;}#sk-container-id-11 label.sk-toggleable__label {cursor: pointer;display: block;width: 100%;margin-bottom: 0;padding: 0.3em;box-sizing: border-box;text-align: center;}#sk-container-id-11 label.sk-toggleable__label-arrow:before {content: \"▸\";float: left;margin-right: 0.25em;color: #696969;}#sk-container-id-11 label.sk-toggleable__label-arrow:hover:before {color: black;}#sk-container-id-11 div.sk-estimator:hover label.sk-toggleable__label-arrow:before {color: black;}#sk-container-id-11 div.sk-toggleable__content {max-height: 0;max-width: 0;overflow: hidden;text-align: left;background-color: #f0f8ff;}#sk-container-id-11 div.sk-toggleable__content pre {margin: 0.2em;color: black;border-radius: 0.25em;background-color: #f0f8ff;}#sk-container-id-11 input.sk-toggleable__control:checked~div.sk-toggleable__content {max-height: 200px;max-width: 100%;overflow: auto;}#sk-container-id-11 input.sk-toggleable__control:checked~label.sk-toggleable__label-arrow:before {content: \"▾\";}#sk-container-id-11 div.sk-estimator input.sk-toggleable__control:checked~label.sk-toggleable__label {background-color: #d4ebff;}#sk-container-id-11 div.sk-label input.sk-toggleable__control:checked~label.sk-toggleable__label {background-color: #d4ebff;}#sk-container-id-11 input.sk-hidden--visually {border: 0;clip: rect(1px 1px 1px 1px);clip: rect(1px, 1px, 1px, 1px);height: 1px;margin: -1px;overflow: hidden;padding: 0;position: absolute;width: 1px;}#sk-container-id-11 div.sk-estimator {font-family: monospace;background-color: #f0f8ff;border: 1px dotted black;border-radius: 0.25em;box-sizing: border-box;margin-bottom: 0.5em;}#sk-container-id-11 div.sk-estimator:hover {background-color: #d4ebff;}#sk-container-id-11 div.sk-parallel-item::after {content: \"\";width: 100%;border-bottom: 1px solid gray;flex-grow: 1;}#sk-container-id-11 div.sk-label:hover label.sk-toggleable__label {background-color: #d4ebff;}#sk-container-id-11 div.sk-serial::before {content: \"\";position: absolute;border-left: 1px solid gray;box-sizing: border-box;top: 0;bottom: 0;left: 50%;z-index: 0;}#sk-container-id-11 div.sk-serial {display: flex;flex-direction: column;align-items: center;background-color: white;padding-right: 0.2em;padding-left: 0.2em;position: relative;}#sk-container-id-11 div.sk-item {position: relative;z-index: 1;}#sk-container-id-11 div.sk-parallel {display: flex;align-items: stretch;justify-content: center;background-color: white;position: relative;}#sk-container-id-11 div.sk-item::before, #sk-container-id-11 div.sk-parallel-item::before {content: \"\";position: absolute;border-left: 1px solid gray;box-sizing: border-box;top: 0;bottom: 0;left: 50%;z-index: -1;}#sk-container-id-11 div.sk-parallel-item {display: flex;flex-direction: column;z-index: 1;position: relative;background-color: white;}#sk-container-id-11 div.sk-parallel-item:first-child::after {align-self: flex-end;width: 50%;}#sk-container-id-11 div.sk-parallel-item:last-child::after {align-self: flex-start;width: 50%;}#sk-container-id-11 div.sk-parallel-item:only-child::after {width: 0;}#sk-container-id-11 div.sk-dashed-wrapped {border: 1px dashed gray;margin: 0 0.4em 0.5em 0.4em;box-sizing: border-box;padding-bottom: 0.4em;background-color: white;}#sk-container-id-11 div.sk-label label {font-family: monospace;font-weight: bold;display: inline-block;line-height: 1.2em;}#sk-container-id-11 div.sk-label-container {text-align: center;}#sk-container-id-11 div.sk-container {/* jupyter's `normalize.less` sets `[hidden] { display: none; }` but bootstrap.min.css set `[hidden] { display: none !important; }` so we also need the `!important` here to be able to override the default hidden behavior on the sphinx rendered scikit-learn.org. See: https://github.com/scikit-learn/scikit-learn/issues/21755 */display: inline-block !important;position: relative;}#sk-container-id-11 div.sk-text-repr-fallback {display: none;}</style><div id=\"sk-container-id-11\" class=\"sk-top-container\"><div class=\"sk-text-repr-fallback\"><pre>KNeighborsClassifier(n_neighbors=18, p=1)</pre><b>In a Jupyter environment, please rerun this cell to show the HTML representation or trust the notebook. <br />On GitHub, the HTML representation is unable to render, please try loading this page with nbviewer.org.</b></div><div class=\"sk-container\" hidden><div class=\"sk-item\"><div class=\"sk-estimator sk-toggleable\"><input class=\"sk-toggleable__control sk-hidden--visually\" id=\"sk-estimator-id-15\" type=\"checkbox\" checked><label for=\"sk-estimator-id-15\" class=\"sk-toggleable__label sk-toggleable__label-arrow\">KNeighborsClassifier</label><div class=\"sk-toggleable__content\"><pre>KNeighborsClassifier(n_neighbors=18, p=1)</pre></div></div></div></div></div>"
      ],
      "text/plain": [
       "KNeighborsClassifier(n_neighbors=18, p=1)"
      ]
     },
     "execution_count": 115,
     "metadata": {},
     "output_type": "execute_result"
    }
   ],
   "source": [
    "gscv_knn_class.best_estimator_"
   ]
  },
  {
   "cell_type": "code",
   "execution_count": 116,
   "id": "02bc96eb",
   "metadata": {},
   "outputs": [
    {
     "data": {
      "text/html": [
       "<style>#sk-container-id-12 {color: black;background-color: white;}#sk-container-id-12 pre{padding: 0;}#sk-container-id-12 div.sk-toggleable {background-color: white;}#sk-container-id-12 label.sk-toggleable__label {cursor: pointer;display: block;width: 100%;margin-bottom: 0;padding: 0.3em;box-sizing: border-box;text-align: center;}#sk-container-id-12 label.sk-toggleable__label-arrow:before {content: \"▸\";float: left;margin-right: 0.25em;color: #696969;}#sk-container-id-12 label.sk-toggleable__label-arrow:hover:before {color: black;}#sk-container-id-12 div.sk-estimator:hover label.sk-toggleable__label-arrow:before {color: black;}#sk-container-id-12 div.sk-toggleable__content {max-height: 0;max-width: 0;overflow: hidden;text-align: left;background-color: #f0f8ff;}#sk-container-id-12 div.sk-toggleable__content pre {margin: 0.2em;color: black;border-radius: 0.25em;background-color: #f0f8ff;}#sk-container-id-12 input.sk-toggleable__control:checked~div.sk-toggleable__content {max-height: 200px;max-width: 100%;overflow: auto;}#sk-container-id-12 input.sk-toggleable__control:checked~label.sk-toggleable__label-arrow:before {content: \"▾\";}#sk-container-id-12 div.sk-estimator input.sk-toggleable__control:checked~label.sk-toggleable__label {background-color: #d4ebff;}#sk-container-id-12 div.sk-label input.sk-toggleable__control:checked~label.sk-toggleable__label {background-color: #d4ebff;}#sk-container-id-12 input.sk-hidden--visually {border: 0;clip: rect(1px 1px 1px 1px);clip: rect(1px, 1px, 1px, 1px);height: 1px;margin: -1px;overflow: hidden;padding: 0;position: absolute;width: 1px;}#sk-container-id-12 div.sk-estimator {font-family: monospace;background-color: #f0f8ff;border: 1px dotted black;border-radius: 0.25em;box-sizing: border-box;margin-bottom: 0.5em;}#sk-container-id-12 div.sk-estimator:hover {background-color: #d4ebff;}#sk-container-id-12 div.sk-parallel-item::after {content: \"\";width: 100%;border-bottom: 1px solid gray;flex-grow: 1;}#sk-container-id-12 div.sk-label:hover label.sk-toggleable__label {background-color: #d4ebff;}#sk-container-id-12 div.sk-serial::before {content: \"\";position: absolute;border-left: 1px solid gray;box-sizing: border-box;top: 0;bottom: 0;left: 50%;z-index: 0;}#sk-container-id-12 div.sk-serial {display: flex;flex-direction: column;align-items: center;background-color: white;padding-right: 0.2em;padding-left: 0.2em;position: relative;}#sk-container-id-12 div.sk-item {position: relative;z-index: 1;}#sk-container-id-12 div.sk-parallel {display: flex;align-items: stretch;justify-content: center;background-color: white;position: relative;}#sk-container-id-12 div.sk-item::before, #sk-container-id-12 div.sk-parallel-item::before {content: \"\";position: absolute;border-left: 1px solid gray;box-sizing: border-box;top: 0;bottom: 0;left: 50%;z-index: -1;}#sk-container-id-12 div.sk-parallel-item {display: flex;flex-direction: column;z-index: 1;position: relative;background-color: white;}#sk-container-id-12 div.sk-parallel-item:first-child::after {align-self: flex-end;width: 50%;}#sk-container-id-12 div.sk-parallel-item:last-child::after {align-self: flex-start;width: 50%;}#sk-container-id-12 div.sk-parallel-item:only-child::after {width: 0;}#sk-container-id-12 div.sk-dashed-wrapped {border: 1px dashed gray;margin: 0 0.4em 0.5em 0.4em;box-sizing: border-box;padding-bottom: 0.4em;background-color: white;}#sk-container-id-12 div.sk-label label {font-family: monospace;font-weight: bold;display: inline-block;line-height: 1.2em;}#sk-container-id-12 div.sk-label-container {text-align: center;}#sk-container-id-12 div.sk-container {/* jupyter's `normalize.less` sets `[hidden] { display: none; }` but bootstrap.min.css set `[hidden] { display: none !important; }` so we also need the `!important` here to be able to override the default hidden behavior on the sphinx rendered scikit-learn.org. See: https://github.com/scikit-learn/scikit-learn/issues/21755 */display: inline-block !important;position: relative;}#sk-container-id-12 div.sk-text-repr-fallback {display: none;}</style><div id=\"sk-container-id-12\" class=\"sk-top-container\"><div class=\"sk-text-repr-fallback\"><pre>KNeighborsClassifier(n_neighbors=18, p=1)</pre><b>In a Jupyter environment, please rerun this cell to show the HTML representation or trust the notebook. <br />On GitHub, the HTML representation is unable to render, please try loading this page with nbviewer.org.</b></div><div class=\"sk-container\" hidden><div class=\"sk-item\"><div class=\"sk-estimator sk-toggleable\"><input class=\"sk-toggleable__control sk-hidden--visually\" id=\"sk-estimator-id-16\" type=\"checkbox\" checked><label for=\"sk-estimator-id-16\" class=\"sk-toggleable__label sk-toggleable__label-arrow\">KNeighborsClassifier</label><div class=\"sk-toggleable__content\"><pre>KNeighborsClassifier(n_neighbors=18, p=1)</pre></div></div></div></div></div>"
      ],
      "text/plain": [
       "KNeighborsClassifier(n_neighbors=18, p=1)"
      ]
     },
     "execution_count": 116,
     "metadata": {},
     "output_type": "execute_result"
    }
   ],
   "source": [
    "gscv_knn_class = KNeighborsClassifier(n_neighbors=18, p=1)\n",
    "gscv_knn_class.fit(x_train,y_train)"
   ]
  },
  {
   "cell_type": "code",
   "execution_count": 117,
   "id": "69642d5c",
   "metadata": {},
   "outputs": [
    {
     "name": "stdout",
     "output_type": "stream",
     "text": [
      "accuracy =  0.7652163997567403\n",
      "----------------------------------------\n",
      "confusion matrix\n",
      " [[59310   738]\n",
      " [17793  1087]]\n",
      "----------------------------------------\n",
      "classification report\n",
      "               precision    recall  f1-score   support\n",
      "\n",
      "         0.0       0.77      0.99      0.86     60048\n",
      "         1.0       0.60      0.06      0.10     18880\n",
      "\n",
      "    accuracy                           0.77     78928\n",
      "   macro avg       0.68      0.52      0.48     78928\n",
      "weighted avg       0.73      0.77      0.68     78928\n",
      "\n",
      "----------------------------------------\n"
     ]
    }
   ],
   "source": [
    "# Training\n",
    "\n",
    "y_pred_train = gscv_knn_class.predict(x_train)\n",
    "\n",
    "accuracy = accuracy_score(y_train,y_pred_train)\n",
    "print(\"accuracy = \",accuracy)\n",
    "print(\"-\"*40)\n",
    "\n",
    "cnf = confusion_matrix(y_train,y_pred_train)\n",
    "print(\"confusion matrix\\n\",cnf)\n",
    "print(\"-\"*40)\n",
    "\n",
    "cl_report = classification_report(y_train,y_pred_train)\n",
    "print(\"classification report\\n\",cl_report)\n",
    "print(\"-\"*40)"
   ]
  },
  {
   "cell_type": "code",
   "execution_count": 118,
   "id": "4506854d",
   "metadata": {},
   "outputs": [
    {
     "name": "stdout",
     "output_type": "stream",
     "text": [
      "accuracy =  0.7550361079437476\n",
      "----------------------------------------\n",
      "confusion matrix\n",
      " [[19645   372]\n",
      " [ 6073   220]]\n",
      "----------------------------------------\n",
      "classification report\n",
      "               precision    recall  f1-score   support\n",
      "\n",
      "         0.0       0.76      0.98      0.86     20017\n",
      "         1.0       0.37      0.03      0.06      6293\n",
      "\n",
      "    accuracy                           0.76     26310\n",
      "   macro avg       0.57      0.51      0.46     26310\n",
      "weighted avg       0.67      0.76      0.67     26310\n",
      "\n",
      "----------------------------------------\n"
     ]
    }
   ],
   "source": [
    "# Testing\n",
    "\n",
    "y_pred_test = gscv_knn_class.predict(x_test)\n",
    "\n",
    "accuracy = accuracy_score(y_test,y_pred_test)\n",
    "print(\"accuracy = \",accuracy)\n",
    "print(\"-\"*40)\n",
    "\n",
    "cnf = confusion_matrix(y_test,y_pred_test)\n",
    "print(\"confusion matrix\\n\",cnf)\n",
    "print(\"-\"*40)\n",
    "\n",
    "cl_report = classification_report(y_test,y_pred_test)\n",
    "print(\"classification report\\n\",cl_report)\n",
    "print(\"-\"*40)"
   ]
  },
  {
   "cell_type": "code",
   "execution_count": null,
   "id": "88e0f6e7",
   "metadata": {},
   "outputs": [],
   "source": []
  },
  {
   "cell_type": "markdown",
   "id": "84823b15",
   "metadata": {},
   "source": [
    "## Decision Tree"
   ]
  },
  {
   "cell_type": "code",
   "execution_count": 98,
   "id": "5b7ce7da",
   "metadata": {},
   "outputs": [
    {
     "data": {
      "text/html": [
       "<style>#sk-container-id-4 {color: black;background-color: white;}#sk-container-id-4 pre{padding: 0;}#sk-container-id-4 div.sk-toggleable {background-color: white;}#sk-container-id-4 label.sk-toggleable__label {cursor: pointer;display: block;width: 100%;margin-bottom: 0;padding: 0.3em;box-sizing: border-box;text-align: center;}#sk-container-id-4 label.sk-toggleable__label-arrow:before {content: \"▸\";float: left;margin-right: 0.25em;color: #696969;}#sk-container-id-4 label.sk-toggleable__label-arrow:hover:before {color: black;}#sk-container-id-4 div.sk-estimator:hover label.sk-toggleable__label-arrow:before {color: black;}#sk-container-id-4 div.sk-toggleable__content {max-height: 0;max-width: 0;overflow: hidden;text-align: left;background-color: #f0f8ff;}#sk-container-id-4 div.sk-toggleable__content pre {margin: 0.2em;color: black;border-radius: 0.25em;background-color: #f0f8ff;}#sk-container-id-4 input.sk-toggleable__control:checked~div.sk-toggleable__content {max-height: 200px;max-width: 100%;overflow: auto;}#sk-container-id-4 input.sk-toggleable__control:checked~label.sk-toggleable__label-arrow:before {content: \"▾\";}#sk-container-id-4 div.sk-estimator input.sk-toggleable__control:checked~label.sk-toggleable__label {background-color: #d4ebff;}#sk-container-id-4 div.sk-label input.sk-toggleable__control:checked~label.sk-toggleable__label {background-color: #d4ebff;}#sk-container-id-4 input.sk-hidden--visually {border: 0;clip: rect(1px 1px 1px 1px);clip: rect(1px, 1px, 1px, 1px);height: 1px;margin: -1px;overflow: hidden;padding: 0;position: absolute;width: 1px;}#sk-container-id-4 div.sk-estimator {font-family: monospace;background-color: #f0f8ff;border: 1px dotted black;border-radius: 0.25em;box-sizing: border-box;margin-bottom: 0.5em;}#sk-container-id-4 div.sk-estimator:hover {background-color: #d4ebff;}#sk-container-id-4 div.sk-parallel-item::after {content: \"\";width: 100%;border-bottom: 1px solid gray;flex-grow: 1;}#sk-container-id-4 div.sk-label:hover label.sk-toggleable__label {background-color: #d4ebff;}#sk-container-id-4 div.sk-serial::before {content: \"\";position: absolute;border-left: 1px solid gray;box-sizing: border-box;top: 0;bottom: 0;left: 50%;z-index: 0;}#sk-container-id-4 div.sk-serial {display: flex;flex-direction: column;align-items: center;background-color: white;padding-right: 0.2em;padding-left: 0.2em;position: relative;}#sk-container-id-4 div.sk-item {position: relative;z-index: 1;}#sk-container-id-4 div.sk-parallel {display: flex;align-items: stretch;justify-content: center;background-color: white;position: relative;}#sk-container-id-4 div.sk-item::before, #sk-container-id-4 div.sk-parallel-item::before {content: \"\";position: absolute;border-left: 1px solid gray;box-sizing: border-box;top: 0;bottom: 0;left: 50%;z-index: -1;}#sk-container-id-4 div.sk-parallel-item {display: flex;flex-direction: column;z-index: 1;position: relative;background-color: white;}#sk-container-id-4 div.sk-parallel-item:first-child::after {align-self: flex-end;width: 50%;}#sk-container-id-4 div.sk-parallel-item:last-child::after {align-self: flex-start;width: 50%;}#sk-container-id-4 div.sk-parallel-item:only-child::after {width: 0;}#sk-container-id-4 div.sk-dashed-wrapped {border: 1px dashed gray;margin: 0 0.4em 0.5em 0.4em;box-sizing: border-box;padding-bottom: 0.4em;background-color: white;}#sk-container-id-4 div.sk-label label {font-family: monospace;font-weight: bold;display: inline-block;line-height: 1.2em;}#sk-container-id-4 div.sk-label-container {text-align: center;}#sk-container-id-4 div.sk-container {/* jupyter's `normalize.less` sets `[hidden] { display: none; }` but bootstrap.min.css set `[hidden] { display: none !important; }` so we also need the `!important` here to be able to override the default hidden behavior on the sphinx rendered scikit-learn.org. See: https://github.com/scikit-learn/scikit-learn/issues/21755 */display: inline-block !important;position: relative;}#sk-container-id-4 div.sk-text-repr-fallback {display: none;}</style><div id=\"sk-container-id-4\" class=\"sk-top-container\"><div class=\"sk-text-repr-fallback\"><pre>DecisionTreeClassifier()</pre><b>In a Jupyter environment, please rerun this cell to show the HTML representation or trust the notebook. <br />On GitHub, the HTML representation is unable to render, please try loading this page with nbviewer.org.</b></div><div class=\"sk-container\" hidden><div class=\"sk-item\"><div class=\"sk-estimator sk-toggleable\"><input class=\"sk-toggleable__control sk-hidden--visually\" id=\"sk-estimator-id-4\" type=\"checkbox\" checked><label for=\"sk-estimator-id-4\" class=\"sk-toggleable__label sk-toggleable__label-arrow\">DecisionTreeClassifier</label><div class=\"sk-toggleable__content\"><pre>DecisionTreeClassifier()</pre></div></div></div></div></div>"
      ],
      "text/plain": [
       "DecisionTreeClassifier()"
      ]
     },
     "execution_count": 98,
     "metadata": {},
     "output_type": "execute_result"
    }
   ],
   "source": [
    "dt_clf = DecisionTreeClassifier()\n",
    "dt_clf.fit(x_train,y_train)"
   ]
  },
  {
   "cell_type": "code",
   "execution_count": 99,
   "id": "df4d100a",
   "metadata": {},
   "outputs": [
    {
     "name": "stdout",
     "output_type": "stream",
     "text": [
      "accuracy =  1.0\n",
      "----------------------------------------\n",
      "confusion matrix\n",
      " [[60048     0]\n",
      " [    0 18880]]\n",
      "----------------------------------------\n",
      "classification report\n",
      "               precision    recall  f1-score   support\n",
      "\n",
      "         0.0       1.00      1.00      1.00     60048\n",
      "         1.0       1.00      1.00      1.00     18880\n",
      "\n",
      "    accuracy                           1.00     78928\n",
      "   macro avg       1.00      1.00      1.00     78928\n",
      "weighted avg       1.00      1.00      1.00     78928\n",
      "\n",
      "----------------------------------------\n"
     ]
    }
   ],
   "source": [
    "# Training\n",
    "\n",
    "y_pred_train = dt_clf.predict(x_train)\n",
    "\n",
    "accuracy = accuracy_score(y_train,y_pred_train)\n",
    "print(\"accuracy = \",accuracy)\n",
    "print(\"-\"*40)\n",
    "\n",
    "cnf = confusion_matrix(y_train,y_pred_train)\n",
    "print(\"confusion matrix\\n\",cnf)\n",
    "print(\"-\"*40)\n",
    "\n",
    "cl_report = classification_report(y_train,y_pred_train)\n",
    "print(\"classification report\\n\",cl_report)\n",
    "print(\"-\"*40)"
   ]
  },
  {
   "cell_type": "code",
   "execution_count": 100,
   "id": "476a16f7",
   "metadata": {},
   "outputs": [
    {
     "name": "stdout",
     "output_type": "stream",
     "text": [
      "accuracy =  0.683846446218168\n",
      "----------------------------------------\n",
      "confusion matrix\n",
      " [[15870  4147]\n",
      " [ 4171  2122]]\n",
      "----------------------------------------\n",
      "classification report\n",
      "               precision    recall  f1-score   support\n",
      "\n",
      "         0.0       0.79      0.79      0.79     20017\n",
      "         1.0       0.34      0.34      0.34      6293\n",
      "\n",
      "    accuracy                           0.68     26310\n",
      "   macro avg       0.57      0.57      0.57     26310\n",
      "weighted avg       0.68      0.68      0.68     26310\n",
      "\n",
      "----------------------------------------\n"
     ]
    }
   ],
   "source": [
    "# Testing\n",
    "\n",
    "y_pred_test = dt_clf.predict(x_test)\n",
    "\n",
    "accuracy = accuracy_score(y_test,y_pred_test)\n",
    "print(\"accuracy = \",accuracy)\n",
    "print(\"-\"*40)\n",
    "\n",
    "cnf = confusion_matrix(y_test,y_pred_test)\n",
    "print(\"confusion matrix\\n\",cnf)\n",
    "print(\"-\"*40)\n",
    "\n",
    "cl_report = classification_report(y_test,y_pred_test)\n",
    "print(\"classification report\\n\",cl_report)\n",
    "print(\"-\"*40)"
   ]
  },
  {
   "cell_type": "markdown",
   "id": "6b4d9ec7",
   "metadata": {},
   "source": [
    "## Hyper para Decision tree"
   ]
  },
  {
   "cell_type": "markdown",
   "id": "3c64201c",
   "metadata": {},
   "source": [
    "### GridSearchCV"
   ]
  },
  {
   "cell_type": "code",
   "execution_count": 107,
   "id": "4983442f",
   "metadata": {},
   "outputs": [
    {
     "data": {
      "text/html": [
       "<style>#sk-container-id-7 {color: black;background-color: white;}#sk-container-id-7 pre{padding: 0;}#sk-container-id-7 div.sk-toggleable {background-color: white;}#sk-container-id-7 label.sk-toggleable__label {cursor: pointer;display: block;width: 100%;margin-bottom: 0;padding: 0.3em;box-sizing: border-box;text-align: center;}#sk-container-id-7 label.sk-toggleable__label-arrow:before {content: \"▸\";float: left;margin-right: 0.25em;color: #696969;}#sk-container-id-7 label.sk-toggleable__label-arrow:hover:before {color: black;}#sk-container-id-7 div.sk-estimator:hover label.sk-toggleable__label-arrow:before {color: black;}#sk-container-id-7 div.sk-toggleable__content {max-height: 0;max-width: 0;overflow: hidden;text-align: left;background-color: #f0f8ff;}#sk-container-id-7 div.sk-toggleable__content pre {margin: 0.2em;color: black;border-radius: 0.25em;background-color: #f0f8ff;}#sk-container-id-7 input.sk-toggleable__control:checked~div.sk-toggleable__content {max-height: 200px;max-width: 100%;overflow: auto;}#sk-container-id-7 input.sk-toggleable__control:checked~label.sk-toggleable__label-arrow:before {content: \"▾\";}#sk-container-id-7 div.sk-estimator input.sk-toggleable__control:checked~label.sk-toggleable__label {background-color: #d4ebff;}#sk-container-id-7 div.sk-label input.sk-toggleable__control:checked~label.sk-toggleable__label {background-color: #d4ebff;}#sk-container-id-7 input.sk-hidden--visually {border: 0;clip: rect(1px 1px 1px 1px);clip: rect(1px, 1px, 1px, 1px);height: 1px;margin: -1px;overflow: hidden;padding: 0;position: absolute;width: 1px;}#sk-container-id-7 div.sk-estimator {font-family: monospace;background-color: #f0f8ff;border: 1px dotted black;border-radius: 0.25em;box-sizing: border-box;margin-bottom: 0.5em;}#sk-container-id-7 div.sk-estimator:hover {background-color: #d4ebff;}#sk-container-id-7 div.sk-parallel-item::after {content: \"\";width: 100%;border-bottom: 1px solid gray;flex-grow: 1;}#sk-container-id-7 div.sk-label:hover label.sk-toggleable__label {background-color: #d4ebff;}#sk-container-id-7 div.sk-serial::before {content: \"\";position: absolute;border-left: 1px solid gray;box-sizing: border-box;top: 0;bottom: 0;left: 50%;z-index: 0;}#sk-container-id-7 div.sk-serial {display: flex;flex-direction: column;align-items: center;background-color: white;padding-right: 0.2em;padding-left: 0.2em;position: relative;}#sk-container-id-7 div.sk-item {position: relative;z-index: 1;}#sk-container-id-7 div.sk-parallel {display: flex;align-items: stretch;justify-content: center;background-color: white;position: relative;}#sk-container-id-7 div.sk-item::before, #sk-container-id-7 div.sk-parallel-item::before {content: \"\";position: absolute;border-left: 1px solid gray;box-sizing: border-box;top: 0;bottom: 0;left: 50%;z-index: -1;}#sk-container-id-7 div.sk-parallel-item {display: flex;flex-direction: column;z-index: 1;position: relative;background-color: white;}#sk-container-id-7 div.sk-parallel-item:first-child::after {align-self: flex-end;width: 50%;}#sk-container-id-7 div.sk-parallel-item:last-child::after {align-self: flex-start;width: 50%;}#sk-container-id-7 div.sk-parallel-item:only-child::after {width: 0;}#sk-container-id-7 div.sk-dashed-wrapped {border: 1px dashed gray;margin: 0 0.4em 0.5em 0.4em;box-sizing: border-box;padding-bottom: 0.4em;background-color: white;}#sk-container-id-7 div.sk-label label {font-family: monospace;font-weight: bold;display: inline-block;line-height: 1.2em;}#sk-container-id-7 div.sk-label-container {text-align: center;}#sk-container-id-7 div.sk-container {/* jupyter's `normalize.less` sets `[hidden] { display: none; }` but bootstrap.min.css set `[hidden] { display: none !important; }` so we also need the `!important` here to be able to override the default hidden behavior on the sphinx rendered scikit-learn.org. See: https://github.com/scikit-learn/scikit-learn/issues/21755 */display: inline-block !important;position: relative;}#sk-container-id-7 div.sk-text-repr-fallback {display: none;}</style><div id=\"sk-container-id-7\" class=\"sk-top-container\"><div class=\"sk-text-repr-fallback\"><pre>GridSearchCV(cv=5, estimator=DecisionTreeClassifier(),\n",
       "             param_grid={&#x27;criterion&#x27;: [&#x27;Entropy&#x27;, &#x27;gini&#x27;],\n",
       "                         &#x27;max_depth&#x27;: array([2, 3, 4, 5, 6]),\n",
       "                         &#x27;min_samples_leaf&#x27;: array([2, 3]),\n",
       "                         &#x27;min_samples_split&#x27;: array([2, 3, 4]),\n",
       "                         &#x27;random_state&#x27;: [41, 42, 45, 46]})</pre><b>In a Jupyter environment, please rerun this cell to show the HTML representation or trust the notebook. <br />On GitHub, the HTML representation is unable to render, please try loading this page with nbviewer.org.</b></div><div class=\"sk-container\" hidden><div class=\"sk-item sk-dashed-wrapped\"><div class=\"sk-label-container\"><div class=\"sk-label sk-toggleable\"><input class=\"sk-toggleable__control sk-hidden--visually\" id=\"sk-estimator-id-7\" type=\"checkbox\" ><label for=\"sk-estimator-id-7\" class=\"sk-toggleable__label sk-toggleable__label-arrow\">GridSearchCV</label><div class=\"sk-toggleable__content\"><pre>GridSearchCV(cv=5, estimator=DecisionTreeClassifier(),\n",
       "             param_grid={&#x27;criterion&#x27;: [&#x27;Entropy&#x27;, &#x27;gini&#x27;],\n",
       "                         &#x27;max_depth&#x27;: array([2, 3, 4, 5, 6]),\n",
       "                         &#x27;min_samples_leaf&#x27;: array([2, 3]),\n",
       "                         &#x27;min_samples_split&#x27;: array([2, 3, 4]),\n",
       "                         &#x27;random_state&#x27;: [41, 42, 45, 46]})</pre></div></div></div><div class=\"sk-parallel\"><div class=\"sk-parallel-item\"><div class=\"sk-item\"><div class=\"sk-label-container\"><div class=\"sk-label sk-toggleable\"><input class=\"sk-toggleable__control sk-hidden--visually\" id=\"sk-estimator-id-8\" type=\"checkbox\" ><label for=\"sk-estimator-id-8\" class=\"sk-toggleable__label sk-toggleable__label-arrow\">estimator: DecisionTreeClassifier</label><div class=\"sk-toggleable__content\"><pre>DecisionTreeClassifier()</pre></div></div></div><div class=\"sk-serial\"><div class=\"sk-item\"><div class=\"sk-estimator sk-toggleable\"><input class=\"sk-toggleable__control sk-hidden--visually\" id=\"sk-estimator-id-9\" type=\"checkbox\" ><label for=\"sk-estimator-id-9\" class=\"sk-toggleable__label sk-toggleable__label-arrow\">DecisionTreeClassifier</label><div class=\"sk-toggleable__content\"><pre>DecisionTreeClassifier()</pre></div></div></div></div></div></div></div></div></div></div>"
      ],
      "text/plain": [
       "GridSearchCV(cv=5, estimator=DecisionTreeClassifier(),\n",
       "             param_grid={'criterion': ['Entropy', 'gini'],\n",
       "                         'max_depth': array([2, 3, 4, 5, 6]),\n",
       "                         'min_samples_leaf': array([2, 3]),\n",
       "                         'min_samples_split': array([2, 3, 4]),\n",
       "                         'random_state': [41, 42, 45, 46]})"
      ]
     },
     "execution_count": 107,
     "metadata": {},
     "output_type": "execute_result"
    }
   ],
   "source": [
    "dt_clf = DecisionTreeClassifier()\n",
    "hyperparamter = {\"criterion\": [\"Entropy\",\"gini\"],\n",
    "               \"max_depth\":np.arange(2,7),\n",
    "               \"min_samples_split\":np.arange(2,5),\n",
    "                \"min_samples_leaf\": np.arange(2,4),\n",
    "                \"random_state\":[41,42,45,46]}\n",
    "gscv = GridSearchCV(dt_clf,hyperparamter,cv=5)\n",
    "gscv.fit(x_train,y_train)"
   ]
  },
  {
   "cell_type": "code",
   "execution_count": 108,
   "id": "0f8c3304",
   "metadata": {},
   "outputs": [
    {
     "data": {
      "text/html": [
       "<style>#sk-container-id-8 {color: black;background-color: white;}#sk-container-id-8 pre{padding: 0;}#sk-container-id-8 div.sk-toggleable {background-color: white;}#sk-container-id-8 label.sk-toggleable__label {cursor: pointer;display: block;width: 100%;margin-bottom: 0;padding: 0.3em;box-sizing: border-box;text-align: center;}#sk-container-id-8 label.sk-toggleable__label-arrow:before {content: \"▸\";float: left;margin-right: 0.25em;color: #696969;}#sk-container-id-8 label.sk-toggleable__label-arrow:hover:before {color: black;}#sk-container-id-8 div.sk-estimator:hover label.sk-toggleable__label-arrow:before {color: black;}#sk-container-id-8 div.sk-toggleable__content {max-height: 0;max-width: 0;overflow: hidden;text-align: left;background-color: #f0f8ff;}#sk-container-id-8 div.sk-toggleable__content pre {margin: 0.2em;color: black;border-radius: 0.25em;background-color: #f0f8ff;}#sk-container-id-8 input.sk-toggleable__control:checked~div.sk-toggleable__content {max-height: 200px;max-width: 100%;overflow: auto;}#sk-container-id-8 input.sk-toggleable__control:checked~label.sk-toggleable__label-arrow:before {content: \"▾\";}#sk-container-id-8 div.sk-estimator input.sk-toggleable__control:checked~label.sk-toggleable__label {background-color: #d4ebff;}#sk-container-id-8 div.sk-label input.sk-toggleable__control:checked~label.sk-toggleable__label {background-color: #d4ebff;}#sk-container-id-8 input.sk-hidden--visually {border: 0;clip: rect(1px 1px 1px 1px);clip: rect(1px, 1px, 1px, 1px);height: 1px;margin: -1px;overflow: hidden;padding: 0;position: absolute;width: 1px;}#sk-container-id-8 div.sk-estimator {font-family: monospace;background-color: #f0f8ff;border: 1px dotted black;border-radius: 0.25em;box-sizing: border-box;margin-bottom: 0.5em;}#sk-container-id-8 div.sk-estimator:hover {background-color: #d4ebff;}#sk-container-id-8 div.sk-parallel-item::after {content: \"\";width: 100%;border-bottom: 1px solid gray;flex-grow: 1;}#sk-container-id-8 div.sk-label:hover label.sk-toggleable__label {background-color: #d4ebff;}#sk-container-id-8 div.sk-serial::before {content: \"\";position: absolute;border-left: 1px solid gray;box-sizing: border-box;top: 0;bottom: 0;left: 50%;z-index: 0;}#sk-container-id-8 div.sk-serial {display: flex;flex-direction: column;align-items: center;background-color: white;padding-right: 0.2em;padding-left: 0.2em;position: relative;}#sk-container-id-8 div.sk-item {position: relative;z-index: 1;}#sk-container-id-8 div.sk-parallel {display: flex;align-items: stretch;justify-content: center;background-color: white;position: relative;}#sk-container-id-8 div.sk-item::before, #sk-container-id-8 div.sk-parallel-item::before {content: \"\";position: absolute;border-left: 1px solid gray;box-sizing: border-box;top: 0;bottom: 0;left: 50%;z-index: -1;}#sk-container-id-8 div.sk-parallel-item {display: flex;flex-direction: column;z-index: 1;position: relative;background-color: white;}#sk-container-id-8 div.sk-parallel-item:first-child::after {align-self: flex-end;width: 50%;}#sk-container-id-8 div.sk-parallel-item:last-child::after {align-self: flex-start;width: 50%;}#sk-container-id-8 div.sk-parallel-item:only-child::after {width: 0;}#sk-container-id-8 div.sk-dashed-wrapped {border: 1px dashed gray;margin: 0 0.4em 0.5em 0.4em;box-sizing: border-box;padding-bottom: 0.4em;background-color: white;}#sk-container-id-8 div.sk-label label {font-family: monospace;font-weight: bold;display: inline-block;line-height: 1.2em;}#sk-container-id-8 div.sk-label-container {text-align: center;}#sk-container-id-8 div.sk-container {/* jupyter's `normalize.less` sets `[hidden] { display: none; }` but bootstrap.min.css set `[hidden] { display: none !important; }` so we also need the `!important` here to be able to override the default hidden behavior on the sphinx rendered scikit-learn.org. See: https://github.com/scikit-learn/scikit-learn/issues/21755 */display: inline-block !important;position: relative;}#sk-container-id-8 div.sk-text-repr-fallback {display: none;}</style><div id=\"sk-container-id-8\" class=\"sk-top-container\"><div class=\"sk-text-repr-fallback\"><pre>DecisionTreeClassifier(max_depth=5, min_samples_leaf=2, random_state=41)</pre><b>In a Jupyter environment, please rerun this cell to show the HTML representation or trust the notebook. <br />On GitHub, the HTML representation is unable to render, please try loading this page with nbviewer.org.</b></div><div class=\"sk-container\" hidden><div class=\"sk-item\"><div class=\"sk-estimator sk-toggleable\"><input class=\"sk-toggleable__control sk-hidden--visually\" id=\"sk-estimator-id-10\" type=\"checkbox\" checked><label for=\"sk-estimator-id-10\" class=\"sk-toggleable__label sk-toggleable__label-arrow\">DecisionTreeClassifier</label><div class=\"sk-toggleable__content\"><pre>DecisionTreeClassifier(max_depth=5, min_samples_leaf=2, random_state=41)</pre></div></div></div></div></div>"
      ],
      "text/plain": [
       "DecisionTreeClassifier(max_depth=5, min_samples_leaf=2, random_state=41)"
      ]
     },
     "execution_count": 108,
     "metadata": {},
     "output_type": "execute_result"
    }
   ],
   "source": [
    "gscv.best_estimator_"
   ]
  },
  {
   "cell_type": "code",
   "execution_count": 109,
   "id": "4ee3af61",
   "metadata": {},
   "outputs": [
    {
     "data": {
      "text/html": [
       "<style>#sk-container-id-9 {color: black;background-color: white;}#sk-container-id-9 pre{padding: 0;}#sk-container-id-9 div.sk-toggleable {background-color: white;}#sk-container-id-9 label.sk-toggleable__label {cursor: pointer;display: block;width: 100%;margin-bottom: 0;padding: 0.3em;box-sizing: border-box;text-align: center;}#sk-container-id-9 label.sk-toggleable__label-arrow:before {content: \"▸\";float: left;margin-right: 0.25em;color: #696969;}#sk-container-id-9 label.sk-toggleable__label-arrow:hover:before {color: black;}#sk-container-id-9 div.sk-estimator:hover label.sk-toggleable__label-arrow:before {color: black;}#sk-container-id-9 div.sk-toggleable__content {max-height: 0;max-width: 0;overflow: hidden;text-align: left;background-color: #f0f8ff;}#sk-container-id-9 div.sk-toggleable__content pre {margin: 0.2em;color: black;border-radius: 0.25em;background-color: #f0f8ff;}#sk-container-id-9 input.sk-toggleable__control:checked~div.sk-toggleable__content {max-height: 200px;max-width: 100%;overflow: auto;}#sk-container-id-9 input.sk-toggleable__control:checked~label.sk-toggleable__label-arrow:before {content: \"▾\";}#sk-container-id-9 div.sk-estimator input.sk-toggleable__control:checked~label.sk-toggleable__label {background-color: #d4ebff;}#sk-container-id-9 div.sk-label input.sk-toggleable__control:checked~label.sk-toggleable__label {background-color: #d4ebff;}#sk-container-id-9 input.sk-hidden--visually {border: 0;clip: rect(1px 1px 1px 1px);clip: rect(1px, 1px, 1px, 1px);height: 1px;margin: -1px;overflow: hidden;padding: 0;position: absolute;width: 1px;}#sk-container-id-9 div.sk-estimator {font-family: monospace;background-color: #f0f8ff;border: 1px dotted black;border-radius: 0.25em;box-sizing: border-box;margin-bottom: 0.5em;}#sk-container-id-9 div.sk-estimator:hover {background-color: #d4ebff;}#sk-container-id-9 div.sk-parallel-item::after {content: \"\";width: 100%;border-bottom: 1px solid gray;flex-grow: 1;}#sk-container-id-9 div.sk-label:hover label.sk-toggleable__label {background-color: #d4ebff;}#sk-container-id-9 div.sk-serial::before {content: \"\";position: absolute;border-left: 1px solid gray;box-sizing: border-box;top: 0;bottom: 0;left: 50%;z-index: 0;}#sk-container-id-9 div.sk-serial {display: flex;flex-direction: column;align-items: center;background-color: white;padding-right: 0.2em;padding-left: 0.2em;position: relative;}#sk-container-id-9 div.sk-item {position: relative;z-index: 1;}#sk-container-id-9 div.sk-parallel {display: flex;align-items: stretch;justify-content: center;background-color: white;position: relative;}#sk-container-id-9 div.sk-item::before, #sk-container-id-9 div.sk-parallel-item::before {content: \"\";position: absolute;border-left: 1px solid gray;box-sizing: border-box;top: 0;bottom: 0;left: 50%;z-index: -1;}#sk-container-id-9 div.sk-parallel-item {display: flex;flex-direction: column;z-index: 1;position: relative;background-color: white;}#sk-container-id-9 div.sk-parallel-item:first-child::after {align-self: flex-end;width: 50%;}#sk-container-id-9 div.sk-parallel-item:last-child::after {align-self: flex-start;width: 50%;}#sk-container-id-9 div.sk-parallel-item:only-child::after {width: 0;}#sk-container-id-9 div.sk-dashed-wrapped {border: 1px dashed gray;margin: 0 0.4em 0.5em 0.4em;box-sizing: border-box;padding-bottom: 0.4em;background-color: white;}#sk-container-id-9 div.sk-label label {font-family: monospace;font-weight: bold;display: inline-block;line-height: 1.2em;}#sk-container-id-9 div.sk-label-container {text-align: center;}#sk-container-id-9 div.sk-container {/* jupyter's `normalize.less` sets `[hidden] { display: none; }` but bootstrap.min.css set `[hidden] { display: none !important; }` so we also need the `!important` here to be able to override the default hidden behavior on the sphinx rendered scikit-learn.org. See: https://github.com/scikit-learn/scikit-learn/issues/21755 */display: inline-block !important;position: relative;}#sk-container-id-9 div.sk-text-repr-fallback {display: none;}</style><div id=\"sk-container-id-9\" class=\"sk-top-container\"><div class=\"sk-text-repr-fallback\"><pre>DecisionTreeClassifier(max_depth=5, min_samples_leaf=2, random_state=41)</pre><b>In a Jupyter environment, please rerun this cell to show the HTML representation or trust the notebook. <br />On GitHub, the HTML representation is unable to render, please try loading this page with nbviewer.org.</b></div><div class=\"sk-container\" hidden><div class=\"sk-item\"><div class=\"sk-estimator sk-toggleable\"><input class=\"sk-toggleable__control sk-hidden--visually\" id=\"sk-estimator-id-11\" type=\"checkbox\" checked><label for=\"sk-estimator-id-11\" class=\"sk-toggleable__label sk-toggleable__label-arrow\">DecisionTreeClassifier</label><div class=\"sk-toggleable__content\"><pre>DecisionTreeClassifier(max_depth=5, min_samples_leaf=2, random_state=41)</pre></div></div></div></div></div>"
      ],
      "text/plain": [
       "DecisionTreeClassifier(max_depth=5, min_samples_leaf=2, random_state=41)"
      ]
     },
     "execution_count": 109,
     "metadata": {},
     "output_type": "execute_result"
    }
   ],
   "source": [
    "gscv_model = DecisionTreeClassifier(max_depth=5, min_samples_leaf=2, random_state=41)\n",
    "gscv_model.fit(x_train,y_train)"
   ]
  },
  {
   "cell_type": "code",
   "execution_count": 110,
   "id": "e20b2972",
   "metadata": {},
   "outputs": [
    {
     "name": "stdout",
     "output_type": "stream",
     "text": [
      "accuracy =  0.7615548347861342\n",
      "----------------------------------------\n",
      "confusion matrix\n",
      " [[59904   144]\n",
      " [18676   204]]\n",
      "----------------------------------------\n",
      "classification report\n",
      "               precision    recall  f1-score   support\n",
      "\n",
      "         0.0       0.76      1.00      0.86     60048\n",
      "         1.0       0.59      0.01      0.02     18880\n",
      "\n",
      "    accuracy                           0.76     78928\n",
      "   macro avg       0.67      0.50      0.44     78928\n",
      "weighted avg       0.72      0.76      0.66     78928\n",
      "\n",
      "----------------------------------------\n"
     ]
    }
   ],
   "source": [
    "# Training\n",
    "\n",
    "y_pred_train = gscv_model.predict(x_train)\n",
    "\n",
    "accuracy = accuracy_score(y_train,y_pred_train)\n",
    "print(\"accuracy = \",accuracy)\n",
    "print(\"-\"*40)\n",
    "\n",
    "cnf = confusion_matrix(y_train,y_pred_train)\n",
    "print(\"confusion matrix\\n\",cnf)\n",
    "print(\"-\"*40)\n",
    "\n",
    "cl_report = classification_report(y_train,y_pred_train)\n",
    "print(\"classification report\\n\",cl_report)\n",
    "print(\"-\"*40)"
   ]
  },
  {
   "cell_type": "code",
   "execution_count": 111,
   "id": "97272a42",
   "metadata": {},
   "outputs": [
    {
     "name": "stdout",
     "output_type": "stream",
     "text": [
      "accuracy =  0.7612314709236032\n",
      "----------------------------------------\n",
      "confusion matrix\n",
      " [[19957    60]\n",
      " [ 6222    71]]\n",
      "----------------------------------------\n",
      "classification report\n",
      "               precision    recall  f1-score   support\n",
      "\n",
      "         0.0       0.76      1.00      0.86     20017\n",
      "         1.0       0.54      0.01      0.02      6293\n",
      "\n",
      "    accuracy                           0.76     26310\n",
      "   macro avg       0.65      0.50      0.44     26310\n",
      "weighted avg       0.71      0.76      0.66     26310\n",
      "\n",
      "----------------------------------------\n"
     ]
    }
   ],
   "source": [
    "# Testing\n",
    "\n",
    "y_pred_test = gscv_model.predict(x_test)\n",
    "\n",
    "accuracy = accuracy_score(y_test,y_pred_test)\n",
    "print(\"accuracy = \",accuracy)\n",
    "print(\"-\"*40)\n",
    "\n",
    "cnf = confusion_matrix(y_test,y_pred_test)\n",
    "print(\"confusion matrix\\n\",cnf)\n",
    "print(\"-\"*40)\n",
    "\n",
    "cl_report = classification_report(y_test,y_pred_test)\n",
    "print(\"classification report\\n\",cl_report)\n",
    "print(\"-\"*40)"
   ]
  },
  {
   "cell_type": "code",
   "execution_count": null,
   "id": "25283f20",
   "metadata": {},
   "outputs": [],
   "source": []
  },
  {
   "cell_type": "markdown",
   "id": "36f005d7",
   "metadata": {},
   "source": [
    "## RandomForest"
   ]
  },
  {
   "cell_type": "code",
   "execution_count": 101,
   "id": "f9a457c0",
   "metadata": {},
   "outputs": [
    {
     "data": {
      "text/html": [
       "<style>#sk-container-id-5 {color: black;background-color: white;}#sk-container-id-5 pre{padding: 0;}#sk-container-id-5 div.sk-toggleable {background-color: white;}#sk-container-id-5 label.sk-toggleable__label {cursor: pointer;display: block;width: 100%;margin-bottom: 0;padding: 0.3em;box-sizing: border-box;text-align: center;}#sk-container-id-5 label.sk-toggleable__label-arrow:before {content: \"▸\";float: left;margin-right: 0.25em;color: #696969;}#sk-container-id-5 label.sk-toggleable__label-arrow:hover:before {color: black;}#sk-container-id-5 div.sk-estimator:hover label.sk-toggleable__label-arrow:before {color: black;}#sk-container-id-5 div.sk-toggleable__content {max-height: 0;max-width: 0;overflow: hidden;text-align: left;background-color: #f0f8ff;}#sk-container-id-5 div.sk-toggleable__content pre {margin: 0.2em;color: black;border-radius: 0.25em;background-color: #f0f8ff;}#sk-container-id-5 input.sk-toggleable__control:checked~div.sk-toggleable__content {max-height: 200px;max-width: 100%;overflow: auto;}#sk-container-id-5 input.sk-toggleable__control:checked~label.sk-toggleable__label-arrow:before {content: \"▾\";}#sk-container-id-5 div.sk-estimator input.sk-toggleable__control:checked~label.sk-toggleable__label {background-color: #d4ebff;}#sk-container-id-5 div.sk-label input.sk-toggleable__control:checked~label.sk-toggleable__label {background-color: #d4ebff;}#sk-container-id-5 input.sk-hidden--visually {border: 0;clip: rect(1px 1px 1px 1px);clip: rect(1px, 1px, 1px, 1px);height: 1px;margin: -1px;overflow: hidden;padding: 0;position: absolute;width: 1px;}#sk-container-id-5 div.sk-estimator {font-family: monospace;background-color: #f0f8ff;border: 1px dotted black;border-radius: 0.25em;box-sizing: border-box;margin-bottom: 0.5em;}#sk-container-id-5 div.sk-estimator:hover {background-color: #d4ebff;}#sk-container-id-5 div.sk-parallel-item::after {content: \"\";width: 100%;border-bottom: 1px solid gray;flex-grow: 1;}#sk-container-id-5 div.sk-label:hover label.sk-toggleable__label {background-color: #d4ebff;}#sk-container-id-5 div.sk-serial::before {content: \"\";position: absolute;border-left: 1px solid gray;box-sizing: border-box;top: 0;bottom: 0;left: 50%;z-index: 0;}#sk-container-id-5 div.sk-serial {display: flex;flex-direction: column;align-items: center;background-color: white;padding-right: 0.2em;padding-left: 0.2em;position: relative;}#sk-container-id-5 div.sk-item {position: relative;z-index: 1;}#sk-container-id-5 div.sk-parallel {display: flex;align-items: stretch;justify-content: center;background-color: white;position: relative;}#sk-container-id-5 div.sk-item::before, #sk-container-id-5 div.sk-parallel-item::before {content: \"\";position: absolute;border-left: 1px solid gray;box-sizing: border-box;top: 0;bottom: 0;left: 50%;z-index: -1;}#sk-container-id-5 div.sk-parallel-item {display: flex;flex-direction: column;z-index: 1;position: relative;background-color: white;}#sk-container-id-5 div.sk-parallel-item:first-child::after {align-self: flex-end;width: 50%;}#sk-container-id-5 div.sk-parallel-item:last-child::after {align-self: flex-start;width: 50%;}#sk-container-id-5 div.sk-parallel-item:only-child::after {width: 0;}#sk-container-id-5 div.sk-dashed-wrapped {border: 1px dashed gray;margin: 0 0.4em 0.5em 0.4em;box-sizing: border-box;padding-bottom: 0.4em;background-color: white;}#sk-container-id-5 div.sk-label label {font-family: monospace;font-weight: bold;display: inline-block;line-height: 1.2em;}#sk-container-id-5 div.sk-label-container {text-align: center;}#sk-container-id-5 div.sk-container {/* jupyter's `normalize.less` sets `[hidden] { display: none; }` but bootstrap.min.css set `[hidden] { display: none !important; }` so we also need the `!important` here to be able to override the default hidden behavior on the sphinx rendered scikit-learn.org. See: https://github.com/scikit-learn/scikit-learn/issues/21755 */display: inline-block !important;position: relative;}#sk-container-id-5 div.sk-text-repr-fallback {display: none;}</style><div id=\"sk-container-id-5\" class=\"sk-top-container\"><div class=\"sk-text-repr-fallback\"><pre>RandomForestClassifier()</pre><b>In a Jupyter environment, please rerun this cell to show the HTML representation or trust the notebook. <br />On GitHub, the HTML representation is unable to render, please try loading this page with nbviewer.org.</b></div><div class=\"sk-container\" hidden><div class=\"sk-item\"><div class=\"sk-estimator sk-toggleable\"><input class=\"sk-toggleable__control sk-hidden--visually\" id=\"sk-estimator-id-5\" type=\"checkbox\" checked><label for=\"sk-estimator-id-5\" class=\"sk-toggleable__label sk-toggleable__label-arrow\">RandomForestClassifier</label><div class=\"sk-toggleable__content\"><pre>RandomForestClassifier()</pre></div></div></div></div></div>"
      ],
      "text/plain": [
       "RandomForestClassifier()"
      ]
     },
     "execution_count": 101,
     "metadata": {},
     "output_type": "execute_result"
    }
   ],
   "source": [
    "rf_model = RandomForestClassifier()\n",
    "rf_model.fit(x_train,y_train)"
   ]
  },
  {
   "cell_type": "code",
   "execution_count": 103,
   "id": "7a6a1e9c",
   "metadata": {},
   "outputs": [
    {
     "name": "stdout",
     "output_type": "stream",
     "text": [
      "accuracy =  1.0\n",
      "----------------------------------------\n",
      "confusion matrix\n",
      " [[60048     0]\n",
      " [    0 18880]]\n",
      "----------------------------------------\n",
      "classification report\n",
      "               precision    recall  f1-score   support\n",
      "\n",
      "         0.0       1.00      1.00      1.00     60048\n",
      "         1.0       1.00      1.00      1.00     18880\n",
      "\n",
      "    accuracy                           1.00     78928\n",
      "   macro avg       1.00      1.00      1.00     78928\n",
      "weighted avg       1.00      1.00      1.00     78928\n",
      "\n",
      "----------------------------------------\n"
     ]
    }
   ],
   "source": [
    "# Training\n",
    "\n",
    "y_pred_train = rf_model.predict(x_train)\n",
    "\n",
    "accuracy = accuracy_score(y_train,y_pred_train)\n",
    "print(\"accuracy = \",accuracy)\n",
    "print(\"-\"*40)\n",
    "\n",
    "cnf = confusion_matrix(y_train,y_pred_train)\n",
    "print(\"confusion matrix\\n\",cnf)\n",
    "print(\"-\"*40)\n",
    "\n",
    "cl_report = classification_report(y_train,y_pred_train)\n",
    "print(\"classification report\\n\",cl_report)\n",
    "print(\"-\"*40)"
   ]
  },
  {
   "cell_type": "code",
   "execution_count": 104,
   "id": "0de2c20c",
   "metadata": {},
   "outputs": [
    {
     "name": "stdout",
     "output_type": "stream",
     "text": [
      "accuracy =  0.7654503990877993\n",
      "----------------------------------------\n",
      "confusion matrix\n",
      " [[19785   232]\n",
      " [ 5939   354]]\n",
      "----------------------------------------\n",
      "classification report\n",
      "               precision    recall  f1-score   support\n",
      "\n",
      "         0.0       0.77      0.99      0.87     20017\n",
      "         1.0       0.60      0.06      0.10      6293\n",
      "\n",
      "    accuracy                           0.77     26310\n",
      "   macro avg       0.69      0.52      0.48     26310\n",
      "weighted avg       0.73      0.77      0.68     26310\n",
      "\n",
      "----------------------------------------\n"
     ]
    }
   ],
   "source": [
    "# Testing\n",
    "\n",
    "y_pred_test = rf_model.predict(x_test)\n",
    "\n",
    "accuracy = accuracy_score(y_test,y_pred_test)\n",
    "print(\"accuracy = \",accuracy)\n",
    "print(\"-\"*40)\n",
    "\n",
    "cnf = confusion_matrix(y_test,y_pred_test)\n",
    "print(\"confusion matrix\\n\",cnf)\n",
    "print(\"-\"*40)\n",
    "\n",
    "cl_report = classification_report(y_test,y_pred_test)\n",
    "print(\"classification report\\n\",cl_report)\n",
    "print(\"-\"*40)"
   ]
  },
  {
   "cell_type": "markdown",
   "id": "9717d550",
   "metadata": {},
   "source": [
    "## AdaBoos"
   ]
  },
  {
   "cell_type": "code",
   "execution_count": 102,
   "id": "6be164c4",
   "metadata": {},
   "outputs": [
    {
     "data": {
      "text/html": [
       "<style>#sk-container-id-6 {color: black;background-color: white;}#sk-container-id-6 pre{padding: 0;}#sk-container-id-6 div.sk-toggleable {background-color: white;}#sk-container-id-6 label.sk-toggleable__label {cursor: pointer;display: block;width: 100%;margin-bottom: 0;padding: 0.3em;box-sizing: border-box;text-align: center;}#sk-container-id-6 label.sk-toggleable__label-arrow:before {content: \"▸\";float: left;margin-right: 0.25em;color: #696969;}#sk-container-id-6 label.sk-toggleable__label-arrow:hover:before {color: black;}#sk-container-id-6 div.sk-estimator:hover label.sk-toggleable__label-arrow:before {color: black;}#sk-container-id-6 div.sk-toggleable__content {max-height: 0;max-width: 0;overflow: hidden;text-align: left;background-color: #f0f8ff;}#sk-container-id-6 div.sk-toggleable__content pre {margin: 0.2em;color: black;border-radius: 0.25em;background-color: #f0f8ff;}#sk-container-id-6 input.sk-toggleable__control:checked~div.sk-toggleable__content {max-height: 200px;max-width: 100%;overflow: auto;}#sk-container-id-6 input.sk-toggleable__control:checked~label.sk-toggleable__label-arrow:before {content: \"▾\";}#sk-container-id-6 div.sk-estimator input.sk-toggleable__control:checked~label.sk-toggleable__label {background-color: #d4ebff;}#sk-container-id-6 div.sk-label input.sk-toggleable__control:checked~label.sk-toggleable__label {background-color: #d4ebff;}#sk-container-id-6 input.sk-hidden--visually {border: 0;clip: rect(1px 1px 1px 1px);clip: rect(1px, 1px, 1px, 1px);height: 1px;margin: -1px;overflow: hidden;padding: 0;position: absolute;width: 1px;}#sk-container-id-6 div.sk-estimator {font-family: monospace;background-color: #f0f8ff;border: 1px dotted black;border-radius: 0.25em;box-sizing: border-box;margin-bottom: 0.5em;}#sk-container-id-6 div.sk-estimator:hover {background-color: #d4ebff;}#sk-container-id-6 div.sk-parallel-item::after {content: \"\";width: 100%;border-bottom: 1px solid gray;flex-grow: 1;}#sk-container-id-6 div.sk-label:hover label.sk-toggleable__label {background-color: #d4ebff;}#sk-container-id-6 div.sk-serial::before {content: \"\";position: absolute;border-left: 1px solid gray;box-sizing: border-box;top: 0;bottom: 0;left: 50%;z-index: 0;}#sk-container-id-6 div.sk-serial {display: flex;flex-direction: column;align-items: center;background-color: white;padding-right: 0.2em;padding-left: 0.2em;position: relative;}#sk-container-id-6 div.sk-item {position: relative;z-index: 1;}#sk-container-id-6 div.sk-parallel {display: flex;align-items: stretch;justify-content: center;background-color: white;position: relative;}#sk-container-id-6 div.sk-item::before, #sk-container-id-6 div.sk-parallel-item::before {content: \"\";position: absolute;border-left: 1px solid gray;box-sizing: border-box;top: 0;bottom: 0;left: 50%;z-index: -1;}#sk-container-id-6 div.sk-parallel-item {display: flex;flex-direction: column;z-index: 1;position: relative;background-color: white;}#sk-container-id-6 div.sk-parallel-item:first-child::after {align-self: flex-end;width: 50%;}#sk-container-id-6 div.sk-parallel-item:last-child::after {align-self: flex-start;width: 50%;}#sk-container-id-6 div.sk-parallel-item:only-child::after {width: 0;}#sk-container-id-6 div.sk-dashed-wrapped {border: 1px dashed gray;margin: 0 0.4em 0.5em 0.4em;box-sizing: border-box;padding-bottom: 0.4em;background-color: white;}#sk-container-id-6 div.sk-label label {font-family: monospace;font-weight: bold;display: inline-block;line-height: 1.2em;}#sk-container-id-6 div.sk-label-container {text-align: center;}#sk-container-id-6 div.sk-container {/* jupyter's `normalize.less` sets `[hidden] { display: none; }` but bootstrap.min.css set `[hidden] { display: none !important; }` so we also need the `!important` here to be able to override the default hidden behavior on the sphinx rendered scikit-learn.org. See: https://github.com/scikit-learn/scikit-learn/issues/21755 */display: inline-block !important;position: relative;}#sk-container-id-6 div.sk-text-repr-fallback {display: none;}</style><div id=\"sk-container-id-6\" class=\"sk-top-container\"><div class=\"sk-text-repr-fallback\"><pre>AdaBoostClassifier()</pre><b>In a Jupyter environment, please rerun this cell to show the HTML representation or trust the notebook. <br />On GitHub, the HTML representation is unable to render, please try loading this page with nbviewer.org.</b></div><div class=\"sk-container\" hidden><div class=\"sk-item\"><div class=\"sk-estimator sk-toggleable\"><input class=\"sk-toggleable__control sk-hidden--visually\" id=\"sk-estimator-id-6\" type=\"checkbox\" checked><label for=\"sk-estimator-id-6\" class=\"sk-toggleable__label sk-toggleable__label-arrow\">AdaBoostClassifier</label><div class=\"sk-toggleable__content\"><pre>AdaBoostClassifier()</pre></div></div></div></div></div>"
      ],
      "text/plain": [
       "AdaBoostClassifier()"
      ]
     },
     "execution_count": 102,
     "metadata": {},
     "output_type": "execute_result"
    }
   ],
   "source": [
    "adb_model = AdaBoostClassifier()\n",
    "adb_model.fit(x_train,y_train)"
   ]
  },
  {
   "cell_type": "code",
   "execution_count": 106,
   "id": "6f9cdd43",
   "metadata": {},
   "outputs": [
    {
     "name": "stdout",
     "output_type": "stream",
     "text": [
      "accuracy =  0.7620109466855869\n",
      "----------------------------------------\n",
      "confusion matrix\n",
      " [[59544   504]\n",
      " [18280   600]]\n",
      "----------------------------------------\n",
      "classification report\n",
      "               precision    recall  f1-score   support\n",
      "\n",
      "         0.0       0.77      0.99      0.86     60048\n",
      "         1.0       0.54      0.03      0.06     18880\n",
      "\n",
      "    accuracy                           0.76     78928\n",
      "   macro avg       0.65      0.51      0.46     78928\n",
      "weighted avg       0.71      0.76      0.67     78928\n",
      "\n",
      "----------------------------------------\n"
     ]
    }
   ],
   "source": [
    "# Training\n",
    "\n",
    "y_pred_train = adb_model.predict(x_train)\n",
    "\n",
    "accuracy = accuracy_score(y_train,y_pred_train)\n",
    "print(\"accuracy = \",accuracy)\n",
    "print(\"-\"*40)\n",
    "\n",
    "cnf = confusion_matrix(y_train,y_pred_train)\n",
    "print(\"confusion matrix\\n\",cnf)\n",
    "print(\"-\"*40)\n",
    "\n",
    "cl_report = classification_report(y_train,y_pred_train)\n",
    "print(\"classification report\\n\",cl_report)\n",
    "print(\"-\"*40)"
   ]
  },
  {
   "cell_type": "code",
   "execution_count": 105,
   "id": "ae5fb08f",
   "metadata": {},
   "outputs": [
    {
     "name": "stdout",
     "output_type": "stream",
     "text": [
      "accuracy =  0.762789813759027\n",
      "----------------------------------------\n",
      "confusion matrix\n",
      " [[19852   165]\n",
      " [ 6076   217]]\n",
      "----------------------------------------\n",
      "classification report\n",
      "               precision    recall  f1-score   support\n",
      "\n",
      "         0.0       0.77      0.99      0.86     20017\n",
      "         1.0       0.57      0.03      0.07      6293\n",
      "\n",
      "    accuracy                           0.76     26310\n",
      "   macro avg       0.67      0.51      0.46     26310\n",
      "weighted avg       0.72      0.76      0.67     26310\n",
      "\n",
      "----------------------------------------\n"
     ]
    }
   ],
   "source": [
    "# Testing\n",
    "\n",
    "y_pred_test = adb_model.predict(x_test)\n",
    "\n",
    "accuracy = accuracy_score(y_test,y_pred_test)\n",
    "print(\"accuracy = \",accuracy)\n",
    "print(\"-\"*40)\n",
    "\n",
    "cnf = confusion_matrix(y_test,y_pred_test)\n",
    "print(\"confusion matrix\\n\",cnf)\n",
    "print(\"-\"*40)\n",
    "\n",
    "cl_report = classification_report(y_test,y_pred_test)\n",
    "print(\"classification report\\n\",cl_report)\n",
    "print(\"-\"*40)"
   ]
  },
  {
   "cell_type": "markdown",
   "id": "cca93ca7",
   "metadata": {},
   "source": [
    "## xgboost"
   ]
  },
  {
   "cell_type": "code",
   "execution_count": 120,
   "id": "28d27f0e",
   "metadata": {},
   "outputs": [
    {
     "data": {
      "text/html": [
       "<style>#sk-container-id-13 {color: black;background-color: white;}#sk-container-id-13 pre{padding: 0;}#sk-container-id-13 div.sk-toggleable {background-color: white;}#sk-container-id-13 label.sk-toggleable__label {cursor: pointer;display: block;width: 100%;margin-bottom: 0;padding: 0.3em;box-sizing: border-box;text-align: center;}#sk-container-id-13 label.sk-toggleable__label-arrow:before {content: \"▸\";float: left;margin-right: 0.25em;color: #696969;}#sk-container-id-13 label.sk-toggleable__label-arrow:hover:before {color: black;}#sk-container-id-13 div.sk-estimator:hover label.sk-toggleable__label-arrow:before {color: black;}#sk-container-id-13 div.sk-toggleable__content {max-height: 0;max-width: 0;overflow: hidden;text-align: left;background-color: #f0f8ff;}#sk-container-id-13 div.sk-toggleable__content pre {margin: 0.2em;color: black;border-radius: 0.25em;background-color: #f0f8ff;}#sk-container-id-13 input.sk-toggleable__control:checked~div.sk-toggleable__content {max-height: 200px;max-width: 100%;overflow: auto;}#sk-container-id-13 input.sk-toggleable__control:checked~label.sk-toggleable__label-arrow:before {content: \"▾\";}#sk-container-id-13 div.sk-estimator input.sk-toggleable__control:checked~label.sk-toggleable__label {background-color: #d4ebff;}#sk-container-id-13 div.sk-label input.sk-toggleable__control:checked~label.sk-toggleable__label {background-color: #d4ebff;}#sk-container-id-13 input.sk-hidden--visually {border: 0;clip: rect(1px 1px 1px 1px);clip: rect(1px, 1px, 1px, 1px);height: 1px;margin: -1px;overflow: hidden;padding: 0;position: absolute;width: 1px;}#sk-container-id-13 div.sk-estimator {font-family: monospace;background-color: #f0f8ff;border: 1px dotted black;border-radius: 0.25em;box-sizing: border-box;margin-bottom: 0.5em;}#sk-container-id-13 div.sk-estimator:hover {background-color: #d4ebff;}#sk-container-id-13 div.sk-parallel-item::after {content: \"\";width: 100%;border-bottom: 1px solid gray;flex-grow: 1;}#sk-container-id-13 div.sk-label:hover label.sk-toggleable__label {background-color: #d4ebff;}#sk-container-id-13 div.sk-serial::before {content: \"\";position: absolute;border-left: 1px solid gray;box-sizing: border-box;top: 0;bottom: 0;left: 50%;z-index: 0;}#sk-container-id-13 div.sk-serial {display: flex;flex-direction: column;align-items: center;background-color: white;padding-right: 0.2em;padding-left: 0.2em;position: relative;}#sk-container-id-13 div.sk-item {position: relative;z-index: 1;}#sk-container-id-13 div.sk-parallel {display: flex;align-items: stretch;justify-content: center;background-color: white;position: relative;}#sk-container-id-13 div.sk-item::before, #sk-container-id-13 div.sk-parallel-item::before {content: \"\";position: absolute;border-left: 1px solid gray;box-sizing: border-box;top: 0;bottom: 0;left: 50%;z-index: -1;}#sk-container-id-13 div.sk-parallel-item {display: flex;flex-direction: column;z-index: 1;position: relative;background-color: white;}#sk-container-id-13 div.sk-parallel-item:first-child::after {align-self: flex-end;width: 50%;}#sk-container-id-13 div.sk-parallel-item:last-child::after {align-self: flex-start;width: 50%;}#sk-container-id-13 div.sk-parallel-item:only-child::after {width: 0;}#sk-container-id-13 div.sk-dashed-wrapped {border: 1px dashed gray;margin: 0 0.4em 0.5em 0.4em;box-sizing: border-box;padding-bottom: 0.4em;background-color: white;}#sk-container-id-13 div.sk-label label {font-family: monospace;font-weight: bold;display: inline-block;line-height: 1.2em;}#sk-container-id-13 div.sk-label-container {text-align: center;}#sk-container-id-13 div.sk-container {/* jupyter's `normalize.less` sets `[hidden] { display: none; }` but bootstrap.min.css set `[hidden] { display: none !important; }` so we also need the `!important` here to be able to override the default hidden behavior on the sphinx rendered scikit-learn.org. See: https://github.com/scikit-learn/scikit-learn/issues/21755 */display: inline-block !important;position: relative;}#sk-container-id-13 div.sk-text-repr-fallback {display: none;}</style><div id=\"sk-container-id-13\" class=\"sk-top-container\"><div class=\"sk-text-repr-fallback\"><pre>XGBClassifier(base_score=0.5, booster=&#x27;gbtree&#x27;, callbacks=None,\n",
       "              colsample_bylevel=1, colsample_bynode=1, colsample_bytree=1,\n",
       "              early_stopping_rounds=None, enable_categorical=False,\n",
       "              eval_metric=None, feature_types=None, gamma=0, gpu_id=-1,\n",
       "              grow_policy=&#x27;depthwise&#x27;, importance_type=None,\n",
       "              interaction_constraints=&#x27;&#x27;, learning_rate=0.300000012,\n",
       "              max_bin=256, max_cat_threshold=64, max_cat_to_onehot=4,\n",
       "              max_delta_step=0, max_depth=6, max_leaves=0, min_child_weight=1,\n",
       "              missing=nan, monotone_constraints=&#x27;()&#x27;, n_estimators=100,\n",
       "              n_jobs=0, num_parallel_tree=1, predictor=&#x27;auto&#x27;, random_state=0, ...)</pre><b>In a Jupyter environment, please rerun this cell to show the HTML representation or trust the notebook. <br />On GitHub, the HTML representation is unable to render, please try loading this page with nbviewer.org.</b></div><div class=\"sk-container\" hidden><div class=\"sk-item\"><div class=\"sk-estimator sk-toggleable\"><input class=\"sk-toggleable__control sk-hidden--visually\" id=\"sk-estimator-id-17\" type=\"checkbox\" checked><label for=\"sk-estimator-id-17\" class=\"sk-toggleable__label sk-toggleable__label-arrow\">XGBClassifier</label><div class=\"sk-toggleable__content\"><pre>XGBClassifier(base_score=0.5, booster=&#x27;gbtree&#x27;, callbacks=None,\n",
       "              colsample_bylevel=1, colsample_bynode=1, colsample_bytree=1,\n",
       "              early_stopping_rounds=None, enable_categorical=False,\n",
       "              eval_metric=None, feature_types=None, gamma=0, gpu_id=-1,\n",
       "              grow_policy=&#x27;depthwise&#x27;, importance_type=None,\n",
       "              interaction_constraints=&#x27;&#x27;, learning_rate=0.300000012,\n",
       "              max_bin=256, max_cat_threshold=64, max_cat_to_onehot=4,\n",
       "              max_delta_step=0, max_depth=6, max_leaves=0, min_child_weight=1,\n",
       "              missing=nan, monotone_constraints=&#x27;()&#x27;, n_estimators=100,\n",
       "              n_jobs=0, num_parallel_tree=1, predictor=&#x27;auto&#x27;, random_state=0, ...)</pre></div></div></div></div></div>"
      ],
      "text/plain": [
       "XGBClassifier(base_score=0.5, booster='gbtree', callbacks=None,\n",
       "              colsample_bylevel=1, colsample_bynode=1, colsample_bytree=1,\n",
       "              early_stopping_rounds=None, enable_categorical=False,\n",
       "              eval_metric=None, feature_types=None, gamma=0, gpu_id=-1,\n",
       "              grow_policy='depthwise', importance_type=None,\n",
       "              interaction_constraints='', learning_rate=0.300000012,\n",
       "              max_bin=256, max_cat_threshold=64, max_cat_to_onehot=4,\n",
       "              max_delta_step=0, max_depth=6, max_leaves=0, min_child_weight=1,\n",
       "              missing=nan, monotone_constraints='()', n_estimators=100,\n",
       "              n_jobs=0, num_parallel_tree=1, predictor='auto', random_state=0, ...)"
      ]
     },
     "execution_count": 120,
     "metadata": {},
     "output_type": "execute_result"
    }
   ],
   "source": [
    "xg_model = xg.XGBClassifier()\n",
    "xg_model.fit(x_train,y_train)"
   ]
  },
  {
   "cell_type": "code",
   "execution_count": 121,
   "id": "67a8aa6a",
   "metadata": {},
   "outputs": [
    {
     "name": "stdout",
     "output_type": "stream",
     "text": [
      "accuracy =  0.8003876951145348\n",
      "----------------------------------------\n",
      "confusion matrix\n",
      " [[59364   684]\n",
      " [15071  3809]]\n",
      "----------------------------------------\n",
      "classification report\n",
      "               precision    recall  f1-score   support\n",
      "\n",
      "         0.0       0.80      0.99      0.88     60048\n",
      "         1.0       0.85      0.20      0.33     18880\n",
      "\n",
      "    accuracy                           0.80     78928\n",
      "   macro avg       0.82      0.60      0.60     78928\n",
      "weighted avg       0.81      0.80      0.75     78928\n",
      "\n",
      "----------------------------------------\n"
     ]
    }
   ],
   "source": [
    "# Training\n",
    "\n",
    "y_pred_train = xg_model.predict(x_train)\n",
    "\n",
    "accuracy = accuracy_score(y_train,y_pred_train)\n",
    "print(\"accuracy = \",accuracy)\n",
    "print(\"-\"*40)\n",
    "\n",
    "cnf = confusion_matrix(y_train,y_pred_train)\n",
    "print(\"confusion matrix\\n\",cnf)\n",
    "print(\"-\"*40)\n",
    "\n",
    "cl_report = classification_report(y_train,y_pred_train)\n",
    "print(\"classification report\\n\",cl_report)\n",
    "print(\"-\"*40)"
   ]
  },
  {
   "cell_type": "code",
   "execution_count": 122,
   "id": "7da4b775",
   "metadata": {},
   "outputs": [
    {
     "name": "stdout",
     "output_type": "stream",
     "text": [
      "accuracy =  0.762979855568225\n",
      "----------------------------------------\n",
      "confusion matrix\n",
      " [[19410   607]\n",
      " [ 5629   664]]\n",
      "----------------------------------------\n",
      "classification report\n",
      "               precision    recall  f1-score   support\n",
      "\n",
      "         0.0       0.78      0.97      0.86     20017\n",
      "         1.0       0.52      0.11      0.18      6293\n",
      "\n",
      "    accuracy                           0.76     26310\n",
      "   macro avg       0.65      0.54      0.52     26310\n",
      "weighted avg       0.71      0.76      0.70     26310\n",
      "\n",
      "----------------------------------------\n"
     ]
    }
   ],
   "source": [
    "# Testing\n",
    "\n",
    "y_pred_test = xg_model.predict(x_test)\n",
    "\n",
    "accuracy = accuracy_score(y_test,y_pred_test)\n",
    "print(\"accuracy = \",accuracy)\n",
    "print(\"-\"*40)\n",
    "\n",
    "cnf = confusion_matrix(y_test,y_pred_test)\n",
    "print(\"confusion matrix\\n\",cnf)\n",
    "print(\"-\"*40)\n",
    "\n",
    "cl_report = classification_report(y_test,y_pred_test)\n",
    "print(\"classification report\\n\",cl_report)\n",
    "print(\"-\"*40)"
   ]
  },
  {
   "cell_type": "code",
   "execution_count": null,
   "id": "20c1b113",
   "metadata": {},
   "outputs": [],
   "source": []
  },
  {
   "cell_type": "code",
   "execution_count": null,
   "id": "1681e817",
   "metadata": {},
   "outputs": [],
   "source": []
  },
  {
   "cell_type": "markdown",
   "id": "90da6255",
   "metadata": {},
   "source": [
    "## Model Selection"
   ]
  },
  {
   "cell_type": "raw",
   "id": "8e9c6e9d",
   "metadata": {},
   "source": [
    "From the above observations we will select Random Forest as a final model."
   ]
  },
  {
   "cell_type": "markdown",
   "id": "097b7d29",
   "metadata": {},
   "source": [
    "### Create Pickle file"
   ]
  },
  {
   "cell_type": "code",
   "execution_count": 123,
   "id": "d1bc945c",
   "metadata": {},
   "outputs": [],
   "source": [
    "with open(\"model.pkl\",\"wb\") as f:\n",
    "    pickle.dump(log_model,f)"
   ]
  },
  {
   "cell_type": "markdown",
   "id": "65ffdeae",
   "metadata": {},
   "source": [
    "### Create Json file"
   ]
  },
  {
   "cell_type": "code",
   "execution_count": 124,
   "id": "76b6210a",
   "metadata": {},
   "outputs": [],
   "source": [
    "project_data = {\"Term\":{\"Short Term\":0,\"Long Term\":1},\n",
    "                \"Home Ownership\":{\"Home Mortgage\":0,\"Rent\":1,\n",
    "                \"Own Home\":2,\"HaveMortgage\":3},\n",
    "               \"columns\":list(x.columns)}"
   ]
  },
  {
   "cell_type": "code",
   "execution_count": 125,
   "id": "b0f4647d",
   "metadata": {},
   "outputs": [],
   "source": [
    "with open(\"project_data.json\",\"w\") as f:\n",
    "    json.dump(project_data,f)"
   ]
  },
  {
   "cell_type": "code",
   "execution_count": null,
   "id": "91a21f31",
   "metadata": {},
   "outputs": [],
   "source": []
  }
 ],
 "metadata": {
  "kernelspec": {
   "display_name": "loan",
   "language": "python",
   "name": "loan"
  },
  "language_info": {
   "codemirror_mode": {
    "name": "ipython",
    "version": 3
   },
   "file_extension": ".py",
   "mimetype": "text/x-python",
   "name": "python",
   "nbconvert_exporter": "python",
   "pygments_lexer": "ipython3",
   "version": "3.8.10"
  }
 },
 "nbformat": 4,
 "nbformat_minor": 5
}
